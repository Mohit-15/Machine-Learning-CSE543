{
  "nbformat": 4,
  "nbformat_minor": 0,
  "metadata": {
    "colab": {
      "provenance": [],
      "collapsed_sections": []
    },
    "kernelspec": {
      "name": "python3",
      "display_name": "Python 3"
    },
    "language_info": {
      "name": "python"
    }
  },
  "cells": [
    {
      "cell_type": "code",
      "execution_count": null,
      "metadata": {
        "id": "bJz5YHDKJtiu"
      },
      "outputs": [],
      "source": [
        "from sklearn.metrics import precision_score, recall_score, confusion_matrix, fbeta_score"
      ]
    },
    {
      "cell_type": "code",
      "source": [
        "ytrue = [1, 1, 1, 1, 1, 0, 0, 0, 0, 0]\n",
        "ypred = [1, 1, 1, 1, 1, 1, 1, 1, 1, 1]"
      ],
      "metadata": {
        "id": "toEmaOZwJ8jy"
      },
      "execution_count": null,
      "outputs": []
    },
    {
      "cell_type": "code",
      "source": [
        "# confusion Matrix\n",
        "matrix = confusion_matrix(ytrue, ypred)\n",
        "tn, fp, fn, tp = matrix[0][0], matrix[0][1], matrix[1][0], matrix[1][1]"
      ],
      "metadata": {
        "id": "Acw7AhnUKmoy"
      },
      "execution_count": null,
      "outputs": []
    },
    {
      "cell_type": "markdown",
      "source": [
        "TN = 0, FP = 5, FN = 0, TP = 5"
      ],
      "metadata": {
        "id": "0rSjVITIKqNj"
      }
    },
    {
      "cell_type": "code",
      "source": [
        "precision = tp / (tp+fp)\n",
        "recall = tp / (tp+fn)\n",
        "\n",
        "print(f\"precision: {precision}, recall: {recall}\")"
      ],
      "metadata": {
        "colab": {
          "base_uri": "https://localhost:8080/"
        },
        "id": "bTLdZk8ZNy1n",
        "outputId": "fbb44ae9-d4d9-488b-c91a-89c56369d4ff"
      },
      "execution_count": null,
      "outputs": [
        {
          "output_type": "stream",
          "name": "stdout",
          "text": [
            "precision: 0.5, recall: 1.0\n"
          ]
        }
      ]
    },
    {
      "cell_type": "code",
      "source": [
        "f05_score = (1.25 * precision * recall) / (0.25 * precision + recall)\n",
        "f1_score = (2 * precision * recall) / (precision + recall)\n",
        "f5_score = (26 * precision * recall) / (25 * precision + recall)\n",
        "\n",
        "print(f\"f0.5-score: {f05_score}, f1-score: {f1_score}, f5-score: {f5_score}\")"
      ],
      "metadata": {
        "colab": {
          "base_uri": "https://localhost:8080/"
        },
        "id": "1GXxlWpuOC_Z",
        "outputId": "65601972-e5eb-4be5-cf3a-de562a712635"
      },
      "execution_count": null,
      "outputs": [
        {
          "output_type": "stream",
          "name": "stdout",
          "text": [
            "f0.5-score: 0.5555555555555556, f1-score: 0.6666666666666666, f5-score: 0.9629629629629629\n"
          ]
        }
      ]
    },
    {
      "cell_type": "code",
      "source": [
        "# using in-build libraries\n",
        "precision = precision_score(ytrue, ypred)\n",
        "recall = recall_score(ytrue, ypred)\n",
        "\n",
        "# f0.5 score\n",
        "f_05_score = fbeta_score(ytrue, ypred, beta=0.5)\n",
        "\n",
        "# f1-score\n",
        "f_1_score = fbeta_score(ytrue, ypred, beta=1.0)\n",
        "\n",
        "# f5-score\n",
        "f_5_score = fbeta_score(ytrue, ypred, beta=5.0)\n",
        "\n",
        "print(f\"precision: {precision}, recall: {recall}, f0.5-score: {f_05_score}, f1-score: {f_1_score}, f5-score: {f_5_score}\")"
      ],
      "metadata": {
        "colab": {
          "base_uri": "https://localhost:8080/"
        },
        "id": "pKxDjQ7AKAMm",
        "outputId": "9551b2f7-9bd7-4ec1-b304-b7ac1a893f52"
      },
      "execution_count": null,
      "outputs": [
        {
          "output_type": "stream",
          "name": "stdout",
          "text": [
            "precision: 0.5, recall: 1.0, f0.5-score: 0.5555555555555556, f1-score: 0.6666666666666666, f5-score: 0.9629629629629629\n"
          ]
        }
      ]
    },
    {
      "cell_type": "code",
      "source": [],
      "metadata": {
        "id": "idZ_UMO-Keul"
      },
      "execution_count": null,
      "outputs": []
    }
  ]
}