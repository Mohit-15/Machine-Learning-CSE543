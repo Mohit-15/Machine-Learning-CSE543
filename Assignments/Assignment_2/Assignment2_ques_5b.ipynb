{
  "nbformat": 4,
  "nbformat_minor": 0,
  "metadata": {
    "colab": {
      "provenance": [],
      "collapsed_sections": []
    },
    "kernelspec": {
      "name": "python3",
      "display_name": "Python 3"
    },
    "language_info": {
      "name": "python"
    }
  },
  "cells": [
    {
      "cell_type": "code",
      "source": [
        "# getting the dataset from the Apis\n",
        "!wget http://fashion-mnist.s3-website.eu-central-1.amazonaws.com/train-images-idx3-ubyte.gz\n",
        "!wget http://fashion-mnist.s3-website.eu-central-1.amazonaws.com/train-labels-idx1-ubyte.gz\n",
        "!wget http://fashion-mnist.s3-website.eu-central-1.amazonaws.com/t10k-images-idx3-ubyte.gz\n",
        "!wget http://fashion-mnist.s3-website.eu-central-1.amazonaws.com/t10k-labels-idx1-ubyte.gz"
      ],
      "metadata": {
        "colab": {
          "base_uri": "https://localhost:8080/"
        },
        "id": "byETPeEuj2B-",
        "outputId": "7702fe11-f869-4341-a8a7-bab687f36533"
      },
      "execution_count": null,
      "outputs": [
        {
          "output_type": "stream",
          "name": "stdout",
          "text": [
            "--2022-10-08 13:26:23--  http://fashion-mnist.s3-website.eu-central-1.amazonaws.com/train-images-idx3-ubyte.gz\n",
            "Resolving fashion-mnist.s3-website.eu-central-1.amazonaws.com (fashion-mnist.s3-website.eu-central-1.amazonaws.com)... 52.219.170.20\n",
            "Connecting to fashion-mnist.s3-website.eu-central-1.amazonaws.com (fashion-mnist.s3-website.eu-central-1.amazonaws.com)|52.219.170.20|:80... connected.\n",
            "HTTP request sent, awaiting response... 200 OK\n",
            "Length: 26421880 (25M) [binary/octet-stream]\n",
            "Saving to: ‘train-images-idx3-ubyte.gz’\n",
            "\n",
            "train-images-idx3-u 100%[===================>]  25.20M  15.7MB/s    in 1.6s    \n",
            "\n",
            "2022-10-08 13:26:25 (15.7 MB/s) - ‘train-images-idx3-ubyte.gz’ saved [26421880/26421880]\n",
            "\n",
            "--2022-10-08 13:26:25--  http://fashion-mnist.s3-website.eu-central-1.amazonaws.com/train-labels-idx1-ubyte.gz\n",
            "Resolving fashion-mnist.s3-website.eu-central-1.amazonaws.com (fashion-mnist.s3-website.eu-central-1.amazonaws.com)... 52.219.170.20\n",
            "Connecting to fashion-mnist.s3-website.eu-central-1.amazonaws.com (fashion-mnist.s3-website.eu-central-1.amazonaws.com)|52.219.170.20|:80... connected.\n",
            "HTTP request sent, awaiting response... 200 OK\n",
            "Length: 29515 (29K) [binary/octet-stream]\n",
            "Saving to: ‘train-labels-idx1-ubyte.gz’\n",
            "\n",
            "train-labels-idx1-u 100%[===================>]  28.82K  --.-KB/s    in 0.1s    \n",
            "\n",
            "2022-10-08 13:26:25 (289 KB/s) - ‘train-labels-idx1-ubyte.gz’ saved [29515/29515]\n",
            "\n",
            "--2022-10-08 13:26:25--  http://fashion-mnist.s3-website.eu-central-1.amazonaws.com/t10k-images-idx3-ubyte.gz\n",
            "Resolving fashion-mnist.s3-website.eu-central-1.amazonaws.com (fashion-mnist.s3-website.eu-central-1.amazonaws.com)... 52.219.170.20\n",
            "Connecting to fashion-mnist.s3-website.eu-central-1.amazonaws.com (fashion-mnist.s3-website.eu-central-1.amazonaws.com)|52.219.170.20|:80... connected.\n",
            "HTTP request sent, awaiting response... 200 OK\n",
            "Length: 4422102 (4.2M) [binary/octet-stream]\n",
            "Saving to: ‘t10k-images-idx3-ubyte.gz’\n",
            "\n",
            "t10k-images-idx3-ub 100%[===================>]   4.22M  5.32MB/s    in 0.8s    \n",
            "\n",
            "2022-10-08 13:26:26 (5.32 MB/s) - ‘t10k-images-idx3-ubyte.gz’ saved [4422102/4422102]\n",
            "\n",
            "--2022-10-08 13:26:26--  http://fashion-mnist.s3-website.eu-central-1.amazonaws.com/t10k-labels-idx1-ubyte.gz\n",
            "Resolving fashion-mnist.s3-website.eu-central-1.amazonaws.com (fashion-mnist.s3-website.eu-central-1.amazonaws.com)... 52.219.170.20\n",
            "Connecting to fashion-mnist.s3-website.eu-central-1.amazonaws.com (fashion-mnist.s3-website.eu-central-1.amazonaws.com)|52.219.170.20|:80... connected.\n",
            "HTTP request sent, awaiting response... 200 OK\n",
            "Length: 5148 (5.0K) [binary/octet-stream]\n",
            "Saving to: ‘t10k-labels-idx1-ubyte.gz’\n",
            "\n",
            "t10k-labels-idx1-ub 100%[===================>]   5.03K  --.-KB/s    in 0s      \n",
            "\n",
            "2022-10-08 13:26:27 (383 MB/s) - ‘t10k-labels-idx1-ubyte.gz’ saved [5148/5148]\n",
            "\n"
          ]
        }
      ]
    },
    {
      "cell_type": "code",
      "source": [
        "# unzip .gz data files\n",
        "!gunzip '/content/t10k-images-idx3-ubyte.gz'\n",
        "!gunzip '/content/t10k-labels-idx1-ubyte.gz'\n",
        "!gunzip '/content/train-images-idx3-ubyte.gz'\n",
        "!gunzip '/content/train-labels-idx1-ubyte.gz'"
      ],
      "metadata": {
        "id": "9tp0IFGokLJ8",
        "colab": {
          "base_uri": "https://localhost:8080/"
        },
        "outputId": "7d7fda5f-bd90-439c-a931-d9b01b75dbab"
      },
      "execution_count": null,
      "outputs": [
        {
          "output_type": "stream",
          "name": "stdout",
          "text": [
            "gzip: /content/t10k-images-idx3-ubyte.gz: No such file or directory\n",
            "gzip: /content/t10k-labels-idx1-ubyte.gz: No such file or directory\n",
            "gzip: /content/train-images-idx3-ubyte.gz: No such file or directory\n",
            "gzip: /content/train-labels-idx1-ubyte.gz: No such file or directory\n"
          ]
        }
      ]
    },
    {
      "cell_type": "code",
      "execution_count": null,
      "metadata": {
        "id": "RvAlVBp19U-n",
        "colab": {
          "base_uri": "https://localhost:8080/"
        },
        "outputId": "c0808375-3082-47aa-9d21-eecabd061f3d"
      },
      "outputs": [
        {
          "output_type": "stream",
          "name": "stdout",
          "text": [
            "Looking in indexes: https://pypi.org/simple, https://us-python.pkg.dev/colab-wheels/public/simple/\n",
            "Requirement already satisfied: python-mnist in /usr/local/lib/python3.7/dist-packages (0.7)\n",
            "Looking in indexes: https://pypi.org/simple, https://us-python.pkg.dev/colab-wheels/public/simple/\n",
            "Requirement already satisfied: fast_ml in /usr/local/lib/python3.7/dist-packages (3.68)\n"
          ]
        }
      ],
      "source": [
        "# installing library for loading the data\n",
        "%pip install python-mnist\n",
        "%pip install fast_ml"
      ]
    },
    {
      "cell_type": "code",
      "source": [
        "import pandas as pd\n",
        "import numpy as np\n",
        "from mnist import MNIST\n",
        "import matplotlib.pyplot as plt\n",
        "import seaborn as sns\n",
        "from sklearn.linear_model import LogisticRegression\n",
        "from sklearn.multiclass import OneVsOneClassifier\n",
        "from fast_ml.model_development import train_valid_test_split\n",
        "from sklearn.cluster import AgglomerativeClustering, DBSCAN\n",
        "from sklearn.metrics import silhouette_score\n",
        "from sklearn.neighbors import NearestNeighbors\n",
        "from sklearn.decomposition import PCA\n",
        "import scipy.cluster.hierarchy as sch\n",
        "import warnings\n",
        "import math\n",
        "warnings.filterwarnings('ignore')"
      ],
      "metadata": {
        "id": "uAdd70fkpTgi"
      },
      "execution_count": null,
      "outputs": []
    },
    {
      "cell_type": "code",
      "source": [
        "# Loading the images and labels in arrays by creating the MNIST object\n",
        "mndata = MNIST('/content/')\n",
        "train_images, train_labels = mndata.load_training()\n",
        "test_images, test_labels = mndata.load_testing()"
      ],
      "metadata": {
        "id": "aIT7Q8_zkaTJ"
      },
      "execution_count": null,
      "outputs": []
    },
    {
      "cell_type": "code",
      "source": [
        "# converting the train_images and test_images of type list into numpy ndarray\n",
        "train_images = np.array(train_images)\n",
        "train_labels = np.array(train_labels)\n",
        "\n",
        "test_images = np.array(test_images)\n",
        "test_labels = np.array(test_labels)"
      ],
      "metadata": {
        "id": "M3Kq-hMdkmub"
      },
      "execution_count": null,
      "outputs": []
    },
    {
      "cell_type": "code",
      "source": [
        "# checking the shape of testing and training arrays\n",
        "\n",
        "print(f\"Shape of Training Images N-D Array: {train_images.shape}\")\n",
        "print(f\"Shape of Testing Images N-D Array: {test_images.shape}\")\n",
        "print(f\"Shape of Training Labels N-D Array: {train_labels.shape}\")\n",
        "print(f\"Shape of Testing Labels N-D Array: {test_labels.shape}\")"
      ],
      "metadata": {
        "colab": {
          "base_uri": "https://localhost:8080/"
        },
        "id": "wIuxRezUkrL7",
        "outputId": "d99fa39c-272a-41d1-8ad7-32ab59514e50"
      },
      "execution_count": null,
      "outputs": [
        {
          "output_type": "stream",
          "name": "stdout",
          "text": [
            "Shape of Training Images N-D Array: (60000, 784)\n",
            "Shape of Testing Images N-D Array: (10000, 784)\n",
            "Shape of Training Labels N-D Array: (60000,)\n",
            "Shape of Testing Labels N-D Array: (10000,)\n"
          ]
        }
      ]
    },
    {
      "cell_type": "code",
      "source": [
        "train_dataset = pd.DataFrame(train_images)\n",
        "train_dataset['label'] = train_labels\n",
        "test_dataset = pd.DataFrame(test_images)\n",
        "test_dataset['label'] = test_labels"
      ],
      "metadata": {
        "id": "hkp0CcETktTF"
      },
      "execution_count": null,
      "outputs": []
    },
    {
      "cell_type": "code",
      "source": [
        "fashion_dataset = train_dataset.append(test_dataset)\n",
        "fashion_dataset.shape"
      ],
      "metadata": {
        "colab": {
          "base_uri": "https://localhost:8080/"
        },
        "id": "nK96AePxk2kG",
        "outputId": "cff34a15-9a65-4847-a44e-bc1afdb9e0cd"
      },
      "execution_count": null,
      "outputs": [
        {
          "output_type": "execute_result",
          "data": {
            "text/plain": [
              "(70000, 785)"
            ]
          },
          "metadata": {},
          "execution_count": 6
        }
      ]
    },
    {
      "cell_type": "code",
      "source": [
        "fashion_dataset['label'].value_counts()"
      ],
      "metadata": {
        "colab": {
          "base_uri": "https://localhost:8080/"
        },
        "id": "hSoTEsZntnHb",
        "outputId": "46cad388-bbaa-42e4-fd73-101e84722331"
      },
      "execution_count": null,
      "outputs": [
        {
          "output_type": "execute_result",
          "data": {
            "text/plain": [
              "9    7000\n",
              "0    7000\n",
              "3    7000\n",
              "2    7000\n",
              "7    7000\n",
              "5    7000\n",
              "1    7000\n",
              "6    7000\n",
              "4    7000\n",
              "8    7000\n",
              "Name: label, dtype: int64"
            ]
          },
          "metadata": {},
          "execution_count": 7
        }
      ]
    },
    {
      "cell_type": "code",
      "source": [
        "# separating the data and labels\n",
        "X = fashion_dataset.drop(columns=['label'], axis=1)\n",
        "Y = fashion_dataset['label']"
      ],
      "metadata": {
        "id": "_kqGLzqTl-uX"
      },
      "execution_count": null,
      "outputs": []
    },
    {
      "cell_type": "code",
      "source": [
        "# visualizing the image\n",
        "plt.imshow(fashion_dataset.iloc[1, 1:].values.reshape((28, 28)), cmap='gray')\n",
        "plt.show()"
      ],
      "metadata": {
        "colab": {
          "base_uri": "https://localhost:8080/",
          "height": 265
        },
        "id": "JesiujbylrSX",
        "outputId": "7064fe9f-e611-4dd4-8336-47457f574643"
      },
      "execution_count": null,
      "outputs": [
        {
          "output_type": "display_data",
          "data": {
            "text/plain": [
              "<Figure size 432x288 with 1 Axes>"
            ],
            "image/png": "[encoded data removed]"
          },
          "metadata": {
            "needs_background": "light"
          }
        }
      ]
    },
    {
      "cell_type": "markdown",
      "source": [
        "# **Implementing PCA for Dimensionality Reduction**\n",
        "\n",
        "The Principal Component Analysis is a technique for reducing the dimensionality of data. It increases interpretability yet, at the same time, it minimizes information loss.\n",
        "\n",
        "**n_compoments** is very important component in the PCA, as it is a hyperparameter which we have to specify before creating the pca object. PCA do is, if we have p number of variables transformed to dataset with k number of variables.\n",
        "\n",
        "Here I want to keep 85% of the variance in the original data after applying PCA, that is why, I'm specifying the float 0.85 to the hyperparameter n_components."
      ],
      "metadata": {
        "id": "10ohqVHCoOan"
      }
    },
    {
      "cell_type": "code",
      "source": [
        "print(f\"Shape Before Applying PCA: {X.shape}\")\n",
        "\n",
        "pca = PCA(n_components=10)\n",
        "X = pca.fit(X).transform(X)\n",
        "\n",
        "print(f\"Shape After Applying PCA: {X.shape}\")"
      ],
      "metadata": {
        "colab": {
          "base_uri": "https://localhost:8080/"
        },
        "id": "hyAphOJ6nXhv",
        "outputId": "88ba3c64-abfd-4ebd-bda5-3b236efaa983"
      },
      "execution_count": null,
      "outputs": [
        {
          "output_type": "stream",
          "name": "stdout",
          "text": [
            "Shape Before Applying PCA: (70000, 784)\n",
            "Shape After Applying PCA: (70000, 10)\n"
          ]
        }
      ]
    },
    {
      "cell_type": "code",
      "source": [
        "plt.plot(pca.explained_variance_, marker='o')\n",
        "plt.xlabel(\"Eigenvalue number\")\n",
        "plt.ylabel(\"Eigenvalue size\")\n",
        "plt.title(\"Scree Plot\")\n",
        "plt.grid()\n",
        "plt.show()"
      ],
      "metadata": {
        "colab": {
          "base_uri": "https://localhost:8080/",
          "height": 295
        },
        "id": "xSSOINNgsMUK",
        "outputId": "4fb99890-2fe7-4b8a-d3e9-9cfe67edefc9"
      },
      "execution_count": null,
      "outputs": [
        {
          "output_type": "display_data",
          "data": {
            "text/plain": [
              "<Figure size 432x288 with 1 Axes>"
            ],
            "image/png": "[encoded data removed]"
          },
          "metadata": {
            "needs_background": "light"
          }
        }
      ]
    },
    {
      "cell_type": "code",
      "source": [
        "data_after_pca = pd.DataFrame(X)\n",
        "data_after_pca = data_after_pca.reset_index(drop=True)\n",
        "label_after_pca = pd.DataFrame(Y, columns=['label'])\n",
        "label_after_pca = label_after_pca.reset_index(drop=True)\n",
        "\n",
        "dimension_reducted_dataset = pd.concat([data_after_pca, label_after_pca], axis=1)\n",
        "dimension_reducted_dataset.head()"
      ],
      "metadata": {
        "colab": {
          "base_uri": "https://localhost:8080/",
          "height": 206
        },
        "id": "jgb1J7rbs7Iw",
        "outputId": "c7b9b60e-c1a5-4a8a-c3bf-b6e74b2ae3be"
      },
      "execution_count": null,
      "outputs": [
        {
          "output_type": "execute_result",
          "data": {
            "text/plain": [
              "             0            1            2           3           4            5  \\\n",
              "0  -126.502938  1632.432337 -1209.221451  248.416921   -0.602120  -404.695482   \n",
              "1  1407.564794  -451.681446  -259.769757  368.518687  214.447188  1268.527438   \n",
              "2  -725.430358 -1103.597632   107.005341  208.071611 -106.249946   -54.682296   \n",
              "3    31.557157  -981.872749   204.210125  375.511765   16.000262   183.780745   \n",
              "4   804.468286 -1201.982908  -747.112626 -265.420897  405.274694  -151.053635   \n",
              "\n",
              "            6           7           8           9  label  \n",
              "0  -93.129119  201.041092  -32.979154  -27.729660      9  \n",
              "1 -144.984687 -228.157682 -126.740648 -225.227159      0  \n",
              "2   -2.370438   50.643325  -97.009380  -79.600648      0  \n",
              "3 -112.367645   11.728603 -341.488444   92.671463      3  \n",
              "4  231.037576  142.047919    7.630492 -159.911164      0  "
            ],
            "text/html": [
              "\n",
              "  <div id=\"df-d8f18d54-3350-4fd4-b946-febd3f868eab\">\n",
              "    <div class=\"colab-df-container\">\n",
              "      <div>\n",
              "<style scoped>\n",
              "    .dataframe tbody tr th:only-of-type {\n",
              "        vertical-align: middle;\n",
              "    }\n",
              "\n",
              "    .dataframe tbody tr th {\n",
              "        vertical-align: top;\n",
              "    }\n",
              "\n",
              "    .dataframe thead th {\n",
              "        text-align: right;\n",
              "    }\n",
              "</style>\n",
              "<table border=\"1\" class=\"dataframe\">\n",
              "  <thead>\n",
              "    <tr style=\"text-align: right;\">\n",
              "      <th></th>\n",
              "      <th>0</th>\n",
              "      <th>1</th>\n",
              "      <th>2</th>\n",
              "      <th>3</th>\n",
              "      <th>4</th>\n",
              "      <th>5</th>\n",
              "      <th>6</th>\n",
              "      <th>7</th>\n",
              "      <th>8</th>\n",
              "      <th>9</th>\n",
              "      <th>label</th>\n",
              "    </tr>\n",
              "  </thead>\n",
              "  <tbody>\n",
              "    <tr>\n",
              "      <th>0</th>\n",
              "      <td>-126.502938</td>\n",
              "      <td>1632.432337</td>\n",
              "      <td>-1209.221451</td>\n",
              "      <td>248.416921</td>\n",
              "      <td>-0.602120</td>\n",
              "      <td>-404.695482</td>\n",
              "      <td>-93.129119</td>\n",
              "      <td>201.041092</td>\n",
              "      <td>-32.979154</td>\n",
              "      <td>-27.729660</td>\n",
              "      <td>9</td>\n",
              "    </tr>\n",
              "    <tr>\n",
              "      <th>1</th>\n",
              "      <td>1407.564794</td>\n",
              "      <td>-451.681446</td>\n",
              "      <td>-259.769757</td>\n",
              "      <td>368.518687</td>\n",
              "      <td>214.447188</td>\n",
              "      <td>1268.527438</td>\n",
              "      <td>-144.984687</td>\n",
              "      <td>-228.157682</td>\n",
              "      <td>-126.740648</td>\n",
              "      <td>-225.227159</td>\n",
              "      <td>0</td>\n",
              "    </tr>\n",
              "    <tr>\n",
              "      <th>2</th>\n",
              "      <td>-725.430358</td>\n",
              "      <td>-1103.597632</td>\n",
              "      <td>107.005341</td>\n",
              "      <td>208.071611</td>\n",
              "      <td>-106.249946</td>\n",
              "      <td>-54.682296</td>\n",
              "      <td>-2.370438</td>\n",
              "      <td>50.643325</td>\n",
              "      <td>-97.009380</td>\n",
              "      <td>-79.600648</td>\n",
              "      <td>0</td>\n",
              "    </tr>\n",
              "    <tr>\n",
              "      <th>3</th>\n",
              "      <td>31.557157</td>\n",
              "      <td>-981.872749</td>\n",
              "      <td>204.210125</td>\n",
              "      <td>375.511765</td>\n",
              "      <td>16.000262</td>\n",
              "      <td>183.780745</td>\n",
              "      <td>-112.367645</td>\n",
              "      <td>11.728603</td>\n",
              "      <td>-341.488444</td>\n",
              "      <td>92.671463</td>\n",
              "      <td>3</td>\n",
              "    </tr>\n",
              "    <tr>\n",
              "      <th>4</th>\n",
              "      <td>804.468286</td>\n",
              "      <td>-1201.982908</td>\n",
              "      <td>-747.112626</td>\n",
              "      <td>-265.420897</td>\n",
              "      <td>405.274694</td>\n",
              "      <td>-151.053635</td>\n",
              "      <td>231.037576</td>\n",
              "      <td>142.047919</td>\n",
              "      <td>7.630492</td>\n",
              "      <td>-159.911164</td>\n",
              "      <td>0</td>\n",
              "    </tr>\n",
              "  </tbody>\n",
              "</table>\n",
              "</div>\n",
              "      <button class=\"colab-df-convert\" onclick=\"convertToInteractive('df-d8f18d54-3350-4fd4-b946-febd3f868eab')\"\n",
              "              title=\"Convert this dataframe to an interactive table.\"\n",
              "              style=\"display:none;\">\n",
              "        \n",
              "  <svg xmlns=\"http://www.w3.org/2000/svg\" height=\"24px\"viewBox=\"0 0 24 24\"\n",
              "       width=\"24px\">\n",
              "    <path d=\"M0 0h24v24H0V0z\" fill=\"none\"/>\n",
              "    <path d=\"M18.56 5.44l.94 2.06.94-2.06 2.06-.94-2.06-.94-.94-2.06-.94 2.06-2.06.94zm-11 1L8.5 8.5l.94-2.06 2.06-.94-2.06-.94L8.5 2.5l-.94 2.06-2.06.94zm10 10l.94 2.06.94-2.06 2.06-.94-2.06-.94-.94-2.06-.94 2.06-2.06.94z\"/><path d=\"M17.41 7.96l-1.37-1.37c-.4-.4-.92-.59-1.43-.59-.52 0-1.04.2-1.43.59L10.3 9.45l-7.72 7.72c-.78.78-.78 2.05 0 2.83L4 21.41c.39.39.9.59 1.41.59.51 0 1.02-.2 1.41-.59l7.78-7.78 2.81-2.81c.8-.78.8-2.07 0-2.86zM5.41 20L4 18.59l7.72-7.72 1.47 1.35L5.41 20z\"/>\n",
              "  </svg>\n",
              "      </button>\n",
              "      \n",
              "  <style>\n",
              "    .colab-df-container {\n",
              "      display:flex;\n",
              "      flex-wrap:wrap;\n",
              "      gap: 12px;\n",
              "    }\n",
              "\n",
              "    .colab-df-convert {\n",
              "      background-color: #E8F0FE;\n",
              "      border: none;\n",
              "      border-radius: 50%;\n",
              "      cursor: pointer;\n",
              "      display: none;\n",
              "      fill: #1967D2;\n",
              "      height: 32px;\n",
              "      padding: 0 0 0 0;\n",
              "      width: 32px;\n",
              "    }\n",
              "\n",
              "    .colab-df-convert:hover {\n",
              "      background-color: #E2EBFA;\n",
              "      box-shadow: 0px 1px 2px rgba(60, 64, 67, 0.3), 0px 1px 3px 1px rgba(60, 64, 67, 0.15);\n",
              "      fill: #174EA6;\n",
              "    }\n",
              "\n",
              "    [theme=dark] .colab-df-convert {\n",
              "      background-color: #3B4455;\n",
              "      fill: #D2E3FC;\n",
              "    }\n",
              "\n",
              "    [theme=dark] .colab-df-convert:hover {\n",
              "      background-color: #434B5C;\n",
              "      box-shadow: 0px 1px 3px 1px rgba(0, 0, 0, 0.15);\n",
              "      filter: drop-shadow(0px 1px 2px rgba(0, 0, 0, 0.3));\n",
              "      fill: #FFFFFF;\n",
              "    }\n",
              "  </style>\n",
              "\n",
              "      <script>\n",
              "        const buttonEl =\n",
              "          document.querySelector('#df-d8f18d54-3350-4fd4-b946-febd3f868eab button.colab-df-convert');\n",
              "        buttonEl.style.display =\n",
              "          google.colab.kernel.accessAllowed ? 'block' : 'none';\n",
              "\n",
              "        async function convertToInteractive(key) {\n",
              "          const element = document.querySelector('#df-d8f18d54-3350-4fd4-b946-febd3f868eab');\n",
              "          const dataTable =\n",
              "            await google.colab.kernel.invokeFunction('convertToInteractive',\n",
              "                                                     [key], {});\n",
              "          if (!dataTable) return;\n",
              "\n",
              "          const docLinkHtml = 'Like what you see? Visit the ' +\n",
              "            '<a target=\"_blank\" href=https://colab.research.google.com/notebooks/data_table.ipynb>data table notebook</a>'\n",
              "            + ' to learn more about interactive tables.';\n",
              "          element.innerHTML = '';\n",
              "          dataTable['output_type'] = 'display_data';\n",
              "          await google.colab.output.renderOutput(dataTable, element);\n",
              "          const docLink = document.createElement('div');\n",
              "          docLink.innerHTML = docLinkHtml;\n",
              "          element.appendChild(docLink);\n",
              "        }\n",
              "      </script>\n",
              "    </div>\n",
              "  </div>\n",
              "  "
            ]
          },
          "metadata": {},
          "execution_count": 12
        }
      ]
    },
    {
      "cell_type": "code",
      "source": [
        "# splitting the dataset in the ratio 70:10:20\n",
        "x_train, y_train, x_valid, y_valid, x_test, y_test  = train_valid_test_split(dimension_reducted_dataset, \n",
        "                                                                             target = 'label', train_size=0.7, valid_size=0.1, test_size=0.2)\n",
        "print(f\"Shape of X Train: {x_train.shape}\")\n",
        "print(f\"Shape of X Test: {x_test.shape}\")\n",
        "print(f\"Shape of X Validation: {x_valid.shape}\")"
      ],
      "metadata": {
        "id": "yVY7jHuClHcd",
        "colab": {
          "base_uri": "https://localhost:8080/"
        },
        "outputId": "90a851d4-cd8a-4821-e828-8a3fec2d5a95"
      },
      "execution_count": null,
      "outputs": [
        {
          "output_type": "stream",
          "name": "stdout",
          "text": [
            "Shape of X Train: (49000, 10)\n",
            "Shape of X Test: (14000, 10)\n",
            "Shape of X Validation: (7000, 10)\n"
          ]
        }
      ]
    },
    {
      "cell_type": "code",
      "source": [
        "def get_samples(x, y, num_samples):\n",
        "  x_samples = x.sample(n = num_samples)\n",
        "  y_samples = y.sample(n = num_samples)\n",
        "  return x_samples, y_samples"
      ],
      "metadata": {
        "id": "pHLUu7z_6pT0"
      },
      "execution_count": null,
      "outputs": []
    },
    {
      "cell_type": "code",
      "source": [
        "x_sample, y_sample = get_samples(x_train, y_train, 100)\n",
        "x_sample.shape"
      ],
      "metadata": {
        "colab": {
          "base_uri": "https://localhost:8080/"
        },
        "id": "Xna6Fp2U7R2L",
        "outputId": "00c44f55-1fd1-4cfe-8ffa-a5626ef70be7"
      },
      "execution_count": null,
      "outputs": [
        {
          "output_type": "execute_result",
          "data": {
            "text/plain": [
              "(100, 10)"
            ]
          },
          "metadata": {},
          "execution_count": 15
        }
      ]
    },
    {
      "cell_type": "markdown",
      "source": [
        "# **Hierarchical Clustering**\n",
        "Hierarchical clustering is a method of cluster analysis that seeks to build a hierarchy of clusters.\n",
        "\n",
        "**Dendrogram**: it represents the relationships of similarity among a group of entities."
      ],
      "metadata": {
        "id": "mXlw8v_mErJq"
      }
    },
    {
      "cell_type": "code",
      "source": [
        "# plotting the dendrogram of 100 samples of training dataset\n",
        "dendro_plot = sch.dendrogram(sch.linkage(x_sample, method='ward'))"
      ],
      "metadata": {
        "colab": {
          "base_uri": "https://localhost:8080/",
          "height": 262
        },
        "id": "fBL5iRoqEFs7",
        "outputId": "bddcf5c0-8ac7-4d53-f857-050e916b34d1"
      },
      "execution_count": null,
      "outputs": [
        {
          "output_type": "display_data",
          "data": {
            "text/plain": [
              "<Figure size 432x288 with 1 Axes>"
            ],
            "image/png": "[encoded data removed]"
          },
          "metadata": {
            "needs_background": "light"
          }
        }
      ]
    },
    {
      "cell_type": "code",
      "source": [
        "# creating an object of AgglomerativeClustering class\n",
        "hc = AgglomerativeClustering(n_clusters=10, affinity='euclidean', linkage='ward')"
      ],
      "metadata": {
        "id": "hyMo6iDsJWBW"
      },
      "execution_count": null,
      "outputs": []
    },
    {
      "cell_type": "code",
      "source": [
        "# function to implement AgglomerativeClustering on sample of 10000 entries, training samples.\n",
        "# here we use Silhouette Score, for finding the score for training samples.\n",
        "\n",
        "train_sample_scores = []\n",
        "n_samples = math.ceil(x_train.shape[0]/10000)\n",
        "\n",
        "for i in range(n_samples):\n",
        "  x_sample, y_sample = get_samples(x_train, y_train, 10000)\n",
        "  hc_y_predicted = hc.fit_predict(x_sample)\n",
        "  silhouette_avg = silhouette_score(x_sample, hc_y_predicted)\n",
        "  train_sample_scores.append(silhouette_avg*100)\n",
        "\n",
        "print(f\"Train Samples Accuracies: {train_sample_scores}\")"
      ],
      "metadata": {
        "id": "cNcxOnjcpDW_",
        "colab": {
          "base_uri": "https://localhost:8080/"
        },
        "outputId": "1a113d5b-db9e-44ab-c1ed-cacd95bfd9a4"
      },
      "execution_count": null,
      "outputs": [
        {
          "output_type": "stream",
          "name": "stdout",
          "text": [
            "Train Samples Accuracies: [23.57390264919826, 22.923092439758623, 24.813911944437685, 25.518290525840293, 24.878824573514542]\n"
          ]
        }
      ]
    },
    {
      "cell_type": "code",
      "source": [
        "# function to implement AgglomerativeClustering on sample of 2500 entries, testing samples.\n",
        "\n",
        "test_sample_scores = []\n",
        "n_samples = math.ceil(x_test.shape[0]/2500)\n",
        "\n",
        "for i in range(n_samples):\n",
        "  x_sample, y_sample = get_samples(x_test, y_test, 2500)\n",
        "  hc_y_predicted = hc.fit_predict(x_sample)\n",
        "  silhouette_avg = silhouette_score(x_sample, hc_y_predicted)\n",
        "  test_sample_scores.append(silhouette_avg*100)\n",
        "\n",
        "print(f\"Test Samples Accuracies: {test_sample_scores}\")"
      ],
      "metadata": {
        "colab": {
          "base_uri": "https://localhost:8080/"
        },
        "id": "IXw1Wyg0JHXX",
        "outputId": "a232a3da-3144-47c6-c11e-ac397f174d48"
      },
      "execution_count": null,
      "outputs": [
        {
          "output_type": "stream",
          "name": "stdout",
          "text": [
            "Test Samples Accuracies: [25.644665789535537, 22.606398341588946, 24.41942156654712, 25.15408635698046, 22.9234825534351, 26.475681607048884]\n"
          ]
        }
      ]
    },
    {
      "cell_type": "code",
      "source": [
        "# function to implement AgglomerativeClustering on sample of 1000 entries, validation samples.\n",
        "\n",
        "validation_sample_scores = []\n",
        "n_samples = math.ceil(x_test.shape[0]/1000)\n",
        "\n",
        "for i in range(n_samples):\n",
        "  x_sample, y_sample = get_samples(x_valid, x_valid, 1000)\n",
        "  hc_y_predicted = hc.fit_predict(x_sample)\n",
        "  silhouette_avg = silhouette_score(x_sample, hc_y_predicted)\n",
        "  validation_sample_scores.append(silhouette_avg*100)\n",
        "\n",
        "print(f\"Validation Samples Accuracies: {validation_sample_scores}\")"
      ],
      "metadata": {
        "colab": {
          "base_uri": "https://localhost:8080/"
        },
        "id": "JDYOfMNjKz0h",
        "outputId": "2044204c-6df1-427b-9717-0b308c8d4517"
      },
      "execution_count": null,
      "outputs": [
        {
          "output_type": "stream",
          "name": "stdout",
          "text": [
            "Validation Samples Accuracies: [23.820536318406866, 25.1312523572375, 25.819842292824646, 25.788361781281253, 26.472863293704226, 23.93265445124502, 22.10520793613654, 26.92668331314379, 24.31195814765359, 25.582406932029517, 26.30019285571981, 24.32734106693257, 21.75983831862457, 26.277758922395027]\n"
          ]
        }
      ]
    },
    {
      "cell_type": "markdown",
      "source": [
        "The silhouette_score gives the average value for all the samples. This gives a perspective into the density and separation of the formed clusters."
      ],
      "metadata": {
        "id": "c7wgu55NIBLe"
      }
    },
    {
      "cell_type": "code",
      "source": [
        "scores_hc = [['training dataset', sum(train_sample_scores)/len(train_sample_scores)], \n",
        "             ['test dataset', sum(test_sample_scores)/len(test_sample_scores)], \n",
        "             ['validation dataset', sum(validation_sample_scores)/len(validation_sample_scores)]]\n",
        "scores_hc = pd.DataFrame(scores_hc, columns=['Dataset Partition', 'Average Score'])\n",
        "scores_hc"
      ],
      "metadata": {
        "id": "BGQ-v9qlpoXF",
        "colab": {
          "base_uri": "https://localhost:8080/",
          "height": 143
        },
        "outputId": "73832cbe-9bea-45be-9bcc-7b6cab982afd"
      },
      "execution_count": null,
      "outputs": [
        {
          "output_type": "execute_result",
          "data": {
            "text/plain": [
              "    Dataset Partition  Average Score\n",
              "0    training dataset      24.535352\n",
              "1        test dataset      24.356896\n",
              "2  validation dataset      26.366492"
            ],
            "text/html": [
              "\n",
              "  <div id=\"df-0b52482b-003d-46f9-9d38-affbf3b2df57\">\n",
              "    <div class=\"colab-df-container\">\n",
              "      <div>\n",
              "<style scoped>\n",
              "    .dataframe tbody tr th:only-of-type {\n",
              "        vertical-align: middle;\n",
              "    }\n",
              "\n",
              "    .dataframe tbody tr th {\n",
              "        vertical-align: top;\n",
              "    }\n",
              "\n",
              "    .dataframe thead th {\n",
              "        text-align: right;\n",
              "    }\n",
              "</style>\n",
              "<table border=\"1\" class=\"dataframe\">\n",
              "  <thead>\n",
              "    <tr style=\"text-align: right;\">\n",
              "      <th></th>\n",
              "      <th>Dataset Partition</th>\n",
              "      <th>Average Score</th>\n",
              "    </tr>\n",
              "  </thead>\n",
              "  <tbody>\n",
              "    <tr>\n",
              "      <th>0</th>\n",
              "      <td>training dataset</td>\n",
              "      <td>24.535352</td>\n",
              "    </tr>\n",
              "    <tr>\n",
              "      <th>1</th>\n",
              "      <td>test dataset</td>\n",
              "      <td>24.356896</td>\n",
              "    </tr>\n",
              "    <tr>\n",
              "      <th>2</th>\n",
              "      <td>validation dataset</td>\n",
              "      <td>26.366492</td>\n",
              "    </tr>\n",
              "  </tbody>\n",
              "</table>\n",
              "</div>\n",
              "      <button class=\"colab-df-convert\" onclick=\"convertToInteractive('df-0b52482b-003d-46f9-9d38-affbf3b2df57')\"\n",
              "              title=\"Convert this dataframe to an interactive table.\"\n",
              "              style=\"display:none;\">\n",
              "        \n",
              "  <svg xmlns=\"http://www.w3.org/2000/svg\" height=\"24px\"viewBox=\"0 0 24 24\"\n",
              "       width=\"24px\">\n",
              "    <path d=\"M0 0h24v24H0V0z\" fill=\"none\"/>\n",
              "    <path d=\"M18.56 5.44l.94 2.06.94-2.06 2.06-.94-2.06-.94-.94-2.06-.94 2.06-2.06.94zm-11 1L8.5 8.5l.94-2.06 2.06-.94-2.06-.94L8.5 2.5l-.94 2.06-2.06.94zm10 10l.94 2.06.94-2.06 2.06-.94-2.06-.94-.94-2.06-.94 2.06-2.06.94z\"/><path d=\"M17.41 7.96l-1.37-1.37c-.4-.4-.92-.59-1.43-.59-.52 0-1.04.2-1.43.59L10.3 9.45l-7.72 7.72c-.78.78-.78 2.05 0 2.83L4 21.41c.39.39.9.59 1.41.59.51 0 1.02-.2 1.41-.59l7.78-7.78 2.81-2.81c.8-.78.8-2.07 0-2.86zM5.41 20L4 18.59l7.72-7.72 1.47 1.35L5.41 20z\"/>\n",
              "  </svg>\n",
              "      </button>\n",
              "      \n",
              "  <style>\n",
              "    .colab-df-container {\n",
              "      display:flex;\n",
              "      flex-wrap:wrap;\n",
              "      gap: 12px;\n",
              "    }\n",
              "\n",
              "    .colab-df-convert {\n",
              "      background-color: #E8F0FE;\n",
              "      border: none;\n",
              "      border-radius: 50%;\n",
              "      cursor: pointer;\n",
              "      display: none;\n",
              "      fill: #1967D2;\n",
              "      height: 32px;\n",
              "      padding: 0 0 0 0;\n",
              "      width: 32px;\n",
              "    }\n",
              "\n",
              "    .colab-df-convert:hover {\n",
              "      background-color: #E2EBFA;\n",
              "      box-shadow: 0px 1px 2px rgba(60, 64, 67, 0.3), 0px 1px 3px 1px rgba(60, 64, 67, 0.15);\n",
              "      fill: #174EA6;\n",
              "    }\n",
              "\n",
              "    [theme=dark] .colab-df-convert {\n",
              "      background-color: #3B4455;\n",
              "      fill: #D2E3FC;\n",
              "    }\n",
              "\n",
              "    [theme=dark] .colab-df-convert:hover {\n",
              "      background-color: #434B5C;\n",
              "      box-shadow: 0px 1px 3px 1px rgba(0, 0, 0, 0.15);\n",
              "      filter: drop-shadow(0px 1px 2px rgba(0, 0, 0, 0.3));\n",
              "      fill: #FFFFFF;\n",
              "    }\n",
              "  </style>\n",
              "\n",
              "      <script>\n",
              "        const buttonEl =\n",
              "          document.querySelector('#df-0b52482b-003d-46f9-9d38-affbf3b2df57 button.colab-df-convert');\n",
              "        buttonEl.style.display =\n",
              "          google.colab.kernel.accessAllowed ? 'block' : 'none';\n",
              "\n",
              "        async function convertToInteractive(key) {\n",
              "          const element = document.querySelector('#df-0b52482b-003d-46f9-9d38-affbf3b2df57');\n",
              "          const dataTable =\n",
              "            await google.colab.kernel.invokeFunction('convertToInteractive',\n",
              "                                                     [key], {});\n",
              "          if (!dataTable) return;\n",
              "\n",
              "          const docLinkHtml = 'Like what you see? Visit the ' +\n",
              "            '<a target=\"_blank\" href=https://colab.research.google.com/notebooks/data_table.ipynb>data table notebook</a>'\n",
              "            + ' to learn more about interactive tables.';\n",
              "          element.innerHTML = '';\n",
              "          dataTable['output_type'] = 'display_data';\n",
              "          await google.colab.output.renderOutput(dataTable, element);\n",
              "          const docLink = document.createElement('div');\n",
              "          docLink.innerHTML = docLinkHtml;\n",
              "          element.appendChild(docLink);\n",
              "        }\n",
              "      </script>\n",
              "    </div>\n",
              "  </div>\n",
              "  "
            ]
          },
          "metadata": {},
          "execution_count": 68
        }
      ]
    },
    {
      "cell_type": "markdown",
      "source": [
        "# **Density-based Clustering**\n",
        "Density-Based Clustering is machine learning methods that identify distinctive clusters in the data, based on the idea that a cluster/group in a data space is a contiguous region of high point density, separated from other clusters by sparse regions.\n",
        "\n",
        "* **eps**:  It defines the neighborhood around a data point. If the distance between two points is lower or equal to ‘eps’ then they are considered neighbors.\n",
        "\n",
        "Note: I've checked, there is a way to find out the eps value, (k-distance graph), but I was enable to implement it.\n",
        "\n",
        "* **min_samples**: Minimum number of neighbors within eps radius. Larger the dataset, the larger value of MinPts must be chosen. \n",
        "\n",
        "As a general rule, the minimum MinPts can be derived from the number of dimensions D in the dataset as, MinPts >= D+1.\n",
        "\n"
      ],
      "metadata": {
        "id": "vkn28uThN-lL"
      }
    },
    {
      "cell_type": "code",
      "source": [
        "nn = NearestNeighbors(n_neighbors=20).fit(dimension_reducted_dataset)\n",
        "distances, indices = nn.kneighbors(dimension_reducted_dataset)"
      ],
      "metadata": {
        "id": "6k4FRPpUZmSA"
      },
      "execution_count": null,
      "outputs": []
    },
    {
      "cell_type": "code",
      "source": [
        "distances = np.sort(distances, axis=0)\n",
        "dist = distances[:,1]\n",
        "plt.plot(dist)"
      ],
      "metadata": {
        "colab": {
          "base_uri": "https://localhost:8080/",
          "height": 282
        },
        "id": "OrlR3Ht0Z62I",
        "outputId": "005bd10b-b0ae-43ba-f40f-afe2a4835da3"
      },
      "execution_count": null,
      "outputs": [
        {
          "output_type": "execute_result",
          "data": {
            "text/plain": [
              "[<matplotlib.lines.Line2D at 0x7f6ac46875d0>]"
            ]
          },
          "metadata": {},
          "execution_count": 62
        },
        {
          "output_type": "display_data",
          "data": {
            "text/plain": [
              "<Figure size 432x288 with 1 Axes>"
            ],
            "image/png": "[encoded data removed]"
          },
          "metadata": {
            "needs_background": "light"
          }
        }
      ]
    },
    {
      "cell_type": "markdown",
      "source": [
        "From this graph, elbow point will give us the smaller range for optimal eps value. Here, elbow starts from 300 to 500. So the range of optimal eps is from 300 - 500. \n",
        "\n",
        "I've figured out the values of \"eps\" and \"min_samples\" using hidden and trial method, because I'm not getting how to figure out these hyper parameters."
      ],
      "metadata": {
        "id": "BQl1mRwOaVWI"
      }
    },
    {
      "cell_type": "code",
      "source": [
        "# Density-based Clustering Score for training Dataset\n",
        "\n",
        "train_dataset = pd.DataFrame(x_train)\n",
        "train_dataset['label'] = y_train\n",
        "\n",
        "db_scan = DBSCAN(eps=355, min_samples=45).fit(x_train)\n",
        "labels = db_scan.labels_\n",
        "\n",
        "test_db_scan = db_scan.fit_predict(x_test)\n",
        "validation_db_scan = db_scan.fit_predict(x_valid)"
      ],
      "metadata": {
        "id": "7QEH_sCCMFAF"
      },
      "execution_count": null,
      "outputs": []
    },
    {
      "cell_type": "code",
      "source": [
        "train_score = silhouette_score(x_train, labels)\n",
        "test_score = silhouette_score(x_test, test_db_scan)\n",
        "validation_score = silhouette_score(x_valid, validation_db_scan)\n",
        "\n",
        "print(f\"training score: {train_score}\")\n",
        "print(f\"testing score: {test_score}\")\n",
        "print(f\"validation score: {validation_score}\")"
      ],
      "metadata": {
        "colab": {
          "base_uri": "https://localhost:8080/"
        },
        "id": "87LUdqqaU2XA",
        "outputId": "b71e9da6-df2e-4c30-aa22-06c848aa4e8b"
      },
      "execution_count": null,
      "outputs": [
        {
          "output_type": "stream",
          "name": "stdout",
          "text": [
            "training score: 0.10835381697837496\n",
            "testing score: -0.0965048041759956\n",
            "validation score: -0.03004326174667568\n"
          ]
        }
      ]
    },
    {
      "cell_type": "markdown",
      "source": [
        "These values gives the best results, as when the silhouette_score is 0 indicates that the sample is on or very close to the decision boundary between two neighboring clusters and **negative values** indicate that those samples might have been assigned to the wrong cluster.\n",
        "\n",
        "Here, the testing and validation score is -ve and very closed to 0, from this inference, we can say that the points are on the decision boundary between two neighboring clusters."
      ],
      "metadata": {
        "id": "JyHCDjuCYW9i"
      }
    },
    {
      "cell_type": "markdown",
      "source": [
        "# **Which of the two algorithms performed better?**\n",
        "\n",
        "In this case, **Hierarchical Clustering** performs better than the **DBSCAN**, because it can generalize data well enough to place it in the right cluster. With a -ve silhouette score, the DBSCAN algorithm does not generalize effectively to data that it has not yet seen."
      ],
      "metadata": {
        "id": "4bYOKiuOLKTk"
      }
    }
  ]
}