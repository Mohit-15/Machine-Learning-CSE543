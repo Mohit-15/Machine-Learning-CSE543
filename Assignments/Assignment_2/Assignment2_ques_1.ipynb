{
  "cells": [
    {
      "cell_type": "code",
      "execution_count": null,
      "metadata": {
        "id": "bMiAoC-JXwHQ"
      },
      "outputs": [],
      "source": [
        "import pandas as pd\n",
        "import numpy as np\n",
        "import matplotlib.pyplot as plt\n",
        "import seaborn as sns\n",
        "import warnings\n",
        "warnings.filterwarnings('ignore')"
      ]
    },
    {
      "cell_type": "code",
      "execution_count": null,
      "metadata": {
        "colab": {
          "base_uri": "https://localhost:8080/",
          "height": 206
        },
        "id": "eqBDNAdYY_zE",
        "outputId": "2a1812f1-d7f5-4749-bc43-1c920ef07c39"
      },
      "outputs": [
        {
          "data": {
            "text/html": [
              "\n",
              "  <div id=\"df-e8b21ea3-002c-43b6-a267-6fe66ba0843f\">\n",
              "    <div class=\"colab-df-container\">\n",
              "      <div>\n",
              "<style scoped>\n",
              "    .dataframe tbody tr th:only-of-type {\n",
              "        vertical-align: middle;\n",
              "    }\n",
              "\n",
              "    .dataframe tbody tr th {\n",
              "        vertical-align: top;\n",
              "    }\n",
              "\n",
              "    .dataframe thead th {\n",
              "        text-align: right;\n",
              "    }\n",
              "</style>\n",
              "<table border=\"1\" class=\"dataframe\">\n",
              "  <thead>\n",
              "    <tr style=\"text-align: right;\">\n",
              "      <th></th>\n",
              "      <th>State</th>\n",
              "      <th>SO2_2001</th>\n",
              "      <th>NO2_2001</th>\n",
              "      <th>RSPM_2001</th>\n",
              "      <th>SO2_2005</th>\n",
              "      <th>NO2_2005</th>\n",
              "      <th>RSPM_2005</th>\n",
              "      <th>SO2_2008</th>\n",
              "      <th>NO2_2008</th>\n",
              "      <th>RSPM_2008</th>\n",
              "    </tr>\n",
              "  </thead>\n",
              "  <tbody>\n",
              "    <tr>\n",
              "      <th>0</th>\n",
              "      <td>Andhra Pradesh</td>\n",
              "      <td>12.0</td>\n",
              "      <td>25.0</td>\n",
              "      <td>73.0</td>\n",
              "      <td>7.0</td>\n",
              "      <td>32.0</td>\n",
              "      <td>83.0</td>\n",
              "      <td>8.0</td>\n",
              "      <td>26</td>\n",
              "      <td>85</td>\n",
              "    </tr>\n",
              "    <tr>\n",
              "      <th>1</th>\n",
              "      <td>Assam</td>\n",
              "      <td>4.0</td>\n",
              "      <td>19.0</td>\n",
              "      <td>NaN</td>\n",
              "      <td>NaN</td>\n",
              "      <td>NaN</td>\n",
              "      <td>NaN</td>\n",
              "      <td>6.0</td>\n",
              "      <td>13</td>\n",
              "      <td>89</td>\n",
              "    </tr>\n",
              "    <tr>\n",
              "      <th>2</th>\n",
              "      <td>Bihar</td>\n",
              "      <td>13.0</td>\n",
              "      <td>15.0</td>\n",
              "      <td>NaN</td>\n",
              "      <td>NaN</td>\n",
              "      <td>NaN</td>\n",
              "      <td>NaN</td>\n",
              "      <td>7.0</td>\n",
              "      <td>39</td>\n",
              "      <td>120</td>\n",
              "    </tr>\n",
              "    <tr>\n",
              "      <th>3</th>\n",
              "      <td>Chandigarh</td>\n",
              "      <td>NaN</td>\n",
              "      <td>NaN</td>\n",
              "      <td>NaN</td>\n",
              "      <td>2.0</td>\n",
              "      <td>14.0</td>\n",
              "      <td>89.0</td>\n",
              "      <td>2.0</td>\n",
              "      <td>14</td>\n",
              "      <td>89</td>\n",
              "    </tr>\n",
              "    <tr>\n",
              "      <th>4</th>\n",
              "      <td>Chattisgarh</td>\n",
              "      <td>13.0</td>\n",
              "      <td>28.0</td>\n",
              "      <td>NaN</td>\n",
              "      <td>12.0</td>\n",
              "      <td>26.0</td>\n",
              "      <td>119.0</td>\n",
              "      <td>16.0</td>\n",
              "      <td>28</td>\n",
              "      <td>126</td>\n",
              "    </tr>\n",
              "  </tbody>\n",
              "</table>\n",
              "</div>\n",
              "      <button class=\"colab-df-convert\" onclick=\"convertToInteractive('df-e8b21ea3-002c-43b6-a267-6fe66ba0843f')\"\n",
              "              title=\"Convert this dataframe to an interactive table.\"\n",
              "              style=\"display:none;\">\n",
              "        \n",
              "  <svg xmlns=\"http://www.w3.org/2000/svg\" height=\"24px\"viewBox=\"0 0 24 24\"\n",
              "       width=\"24px\">\n",
              "    <path d=\"M0 0h24v24H0V0z\" fill=\"none\"/>\n",
              "    <path d=\"M18.56 5.44l.94 2.06.94-2.06 2.06-.94-2.06-.94-.94-2.06-.94 2.06-2.06.94zm-11 1L8.5 8.5l.94-2.06 2.06-.94-2.06-.94L8.5 2.5l-.94 2.06-2.06.94zm10 10l.94 2.06.94-2.06 2.06-.94-2.06-.94-.94-2.06-.94 2.06-2.06.94z\"/><path d=\"M17.41 7.96l-1.37-1.37c-.4-.4-.92-.59-1.43-.59-.52 0-1.04.2-1.43.59L10.3 9.45l-7.72 7.72c-.78.78-.78 2.05 0 2.83L4 21.41c.39.39.9.59 1.41.59.51 0 1.02-.2 1.41-.59l7.78-7.78 2.81-2.81c.8-.78.8-2.07 0-2.86zM5.41 20L4 18.59l7.72-7.72 1.47 1.35L5.41 20z\"/>\n",
              "  </svg>\n",
              "      </button>\n",
              "      \n",
              "  <style>\n",
              "    .colab-df-container {\n",
              "      display:flex;\n",
              "      flex-wrap:wrap;\n",
              "      gap: 12px;\n",
              "    }\n",
              "\n",
              "    .colab-df-convert {\n",
              "      background-color: #E8F0FE;\n",
              "      border: none;\n",
              "      border-radius: 50%;\n",
              "      cursor: pointer;\n",
              "      display: none;\n",
              "      fill: #1967D2;\n",
              "      height: 32px;\n",
              "      padding: 0 0 0 0;\n",
              "      width: 32px;\n",
              "    }\n",
              "\n",
              "    .colab-df-convert:hover {\n",
              "      background-color: #E2EBFA;\n",
              "      box-shadow: 0px 1px 2px rgba(60, 64, 67, 0.3), 0px 1px 3px 1px rgba(60, 64, 67, 0.15);\n",
              "      fill: #174EA6;\n",
              "    }\n",
              "\n",
              "    [theme=dark] .colab-df-convert {\n",
              "      background-color: #3B4455;\n",
              "      fill: #D2E3FC;\n",
              "    }\n",
              "\n",
              "    [theme=dark] .colab-df-convert:hover {\n",
              "      background-color: #434B5C;\n",
              "      box-shadow: 0px 1px 3px 1px rgba(0, 0, 0, 0.15);\n",
              "      filter: drop-shadow(0px 1px 2px rgba(0, 0, 0, 0.3));\n",
              "      fill: #FFFFFF;\n",
              "    }\n",
              "  </style>\n",
              "\n",
              "      <script>\n",
              "        const buttonEl =\n",
              "          document.querySelector('#df-e8b21ea3-002c-43b6-a267-6fe66ba0843f button.colab-df-convert');\n",
              "        buttonEl.style.display =\n",
              "          google.colab.kernel.accessAllowed ? 'block' : 'none';\n",
              "\n",
              "        async function convertToInteractive(key) {\n",
              "          const element = document.querySelector('#df-e8b21ea3-002c-43b6-a267-6fe66ba0843f');\n",
              "          const dataTable =\n",
              "            await google.colab.kernel.invokeFunction('convertToInteractive',\n",
              "                                                     [key], {});\n",
              "          if (!dataTable) return;\n",
              "\n",
              "          const docLinkHtml = 'Like what you see? Visit the ' +\n",
              "            '<a target=\"_blank\" href=https://colab.research.google.com/notebooks/data_table.ipynb>data table notebook</a>'\n",
              "            + ' to learn more about interactive tables.';\n",
              "          element.innerHTML = '';\n",
              "          dataTable['output_type'] = 'display_data';\n",
              "          await google.colab.output.renderOutput(dataTable, element);\n",
              "          const docLink = document.createElement('div');\n",
              "          docLink.innerHTML = docLinkHtml;\n",
              "          element.appendChild(docLink);\n",
              "        }\n",
              "      </script>\n",
              "    </div>\n",
              "  </div>\n",
              "  "
            ],
            "text/plain": [
              "            State   SO2_2001  NO2_2001  RSPM_2001  SO2_2005  NO2_2005  \\\n",
              "0  Andhra Pradesh       12.0      25.0       73.0       7.0      32.0   \n",
              "1           Assam        4.0      19.0        NaN       NaN       NaN   \n",
              "2            Bihar      13.0      15.0        NaN       NaN       NaN   \n",
              "3       Chandigarh       NaN       NaN        NaN       2.0      14.0   \n",
              "4      Chattisgarh      13.0      28.0        NaN      12.0      26.0   \n",
              "\n",
              "   RSPM_2005  SO2_2008  NO2_2008  RSPM_2008  \n",
              "0       83.0       8.0        26         85  \n",
              "1        NaN       6.0        13         89  \n",
              "2        NaN       7.0        39        120  \n",
              "3       89.0       2.0        14         89  \n",
              "4      119.0      16.0        28        126  "
            ]
          },
          "execution_count": 2,
          "metadata": {},
          "output_type": "execute_result"
        }
      ],
      "source": [
        "dataset = pd.read_csv('/content/AIR_QUALITY_IN_RESIDENTIAL_AREAS.csv', encoding = 'utf-8')\n",
        "dataset.head()"
      ]
    },
    {
      "cell_type": "markdown",
      "metadata": {
        "id": "ehUcxmnvg-sE"
      },
      "source": [
        "# **Dataset Description**\n",
        "\n",
        "* This dataset consist of the air quality data for different states of India. \n",
        "* This dataset contains SO2, NO2, and RSPM values in the years 2001, 2005, and 2008 for each state."
      ]
    },
    {
      "cell_type": "code",
      "execution_count": null,
      "metadata": {
        "colab": {
          "base_uri": "https://localhost:8080/"
        },
        "id": "ut0lERTNZHoi",
        "outputId": "4e794151-5e80-4576-ffed-2a4ad091d14c"
      },
      "outputs": [
        {
          "data": {
            "text/plain": [
              "(27, 10)"
            ]
          },
          "execution_count": 3,
          "metadata": {},
          "output_type": "execute_result"
        }
      ],
      "source": [
        "# checking the shape of the dataset\n",
        "dataset.shape"
      ]
    },
    {
      "cell_type": "markdown",
      "metadata": {
        "id": "Pk5-bjyri3Kr"
      },
      "source": [
        "This shows that we have 27 rows, and 10 columns."
      ]
    },
    {
      "cell_type": "code",
      "execution_count": null,
      "metadata": {
        "colab": {
          "base_uri": "https://localhost:8080/"
        },
        "id": "mV4FGaY9ZMHf",
        "outputId": "bf8b9e33-2304-4b8a-a07d-3eca546f5e3e"
      },
      "outputs": [
        {
          "name": "stdout",
          "output_type": "stream",
          "text": [
            "<class 'pandas.core.frame.DataFrame'>\n",
            "RangeIndex: 27 entries, 0 to 26\n",
            "Data columns (total 10 columns):\n",
            " #   Column     Non-Null Count  Dtype  \n",
            "---  ------     --------------  -----  \n",
            " 0   State      27 non-null     object \n",
            " 1   SO2_2001   23 non-null     float64\n",
            " 2   NO2_2001   23 non-null     float64\n",
            " 3   RSPM_2001  14 non-null     float64\n",
            " 4   SO2_2005   21 non-null     float64\n",
            " 5   NO2_2005   21 non-null     float64\n",
            " 6   RSPM_2005  21 non-null     float64\n",
            " 7   SO2_2008   27 non-null     float64\n",
            " 8   NO2_2008   27 non-null     int64  \n",
            " 9   RSPM_2008  27 non-null     int64  \n",
            "dtypes: float64(7), int64(2), object(1)\n",
            "memory usage: 2.2+ KB\n"
          ]
        }
      ],
      "source": [
        "# getting the information about the dataset\n",
        "dataset.info()"
      ]
    },
    {
      "cell_type": "markdown",
      "metadata": {
        "id": "OcA3Wbrai-la"
      },
      "source": [
        "The information of the dataset shows that, only the state column is of \"object\" type, as it stores the name of the state.\n",
        "\n",
        "All other columns are of float64, and int64 type."
      ]
    },
    {
      "cell_type": "code",
      "execution_count": null,
      "metadata": {
        "colab": {
          "base_uri": "https://localhost:8080/"
        },
        "id": "7uodiY0Nj5hA",
        "outputId": "2517e77d-6e70-4d3f-b4f8-1e73b7d68062"
      },
      "outputs": [
        {
          "data": {
            "text/plain": [
              "State         0\n",
              "SO2_2001      4\n",
              "NO2_2001      4\n",
              "RSPM_2001    13\n",
              "SO2_2005      6\n",
              "NO2_2005      6\n",
              "RSPM_2005     6\n",
              "SO2_2008      0\n",
              "NO2_2008      0\n",
              "RSPM_2008     0\n",
              "dtype: int64"
            ]
          },
          "execution_count": 5,
          "metadata": {},
          "output_type": "execute_result"
        }
      ],
      "source": [
        "# checking for null values in the dataset\n",
        "dataset.isnull().sum()"
      ]
    },
    {
      "cell_type": "markdown",
      "metadata": {
        "id": "DQ5QEdFiLFOx"
      },
      "source": [
        "With this we can see that out dataset has some null values. So we need to fill those null values with the appropriate replacement."
      ]
    },
    {
      "cell_type": "code",
      "execution_count": null,
      "metadata": {
        "colab": {
          "base_uri": "https://localhost:8080/",
          "height": 313
        },
        "id": "vh4ZPNRgLZ42",
        "outputId": "fb08ae38-7f97-4169-e5f5-125747bde64a"
      },
      "outputs": [
        {
          "data": {
            "image/png": "[encoded data removed]",
            "text/plain": [
              "<Figure size 432x288 with 1 Axes>"
            ]
          },
          "metadata": {
            "needs_background": "light"
          },
          "output_type": "display_data"
        }
      ],
      "source": [
        "# visualize the missing values in the dataset\n",
        "sns.heatmap(dataset.isnull(), cbar=False, cmap='viridis')\n",
        "plt.show()"
      ]
    },
    {
      "cell_type": "markdown",
      "metadata": {
        "id": "rSlNN3HRL49u"
      },
      "source": [
        "Now if we observe the yellow portion, there are many missing values in rspm_2001 column, while other columns have fewer missing values as compared to rspm_2001."
      ]
    },
    {
      "cell_type": "code",
      "execution_count": null,
      "metadata": {
        "colab": {
          "base_uri": "https://localhost:8080/",
          "height": 1000
        },
        "id": "gEIiXVkOKuD0",
        "outputId": "ad09fd8a-0b14-49ab-cfc4-d04628f52eb3"
      },
      "outputs": [
        {
          "data": {
            "image/png": "[encoded data removed]",
            "text/plain": [
              "<Figure size 360x360 with 1 Axes>"
            ]
          },
          "metadata": {
            "needs_background": "light"
          },
          "output_type": "display_data"
        },
        {
          "data": {
            "image/png": "[encoded data removed]",
            "text/plain": [
              "<Figure size 360x360 with 1 Axes>"
            ]
          },
          "metadata": {
            "needs_background": "light"
          },
          "output_type": "display_data"
        },
        {
          "data": {
            "image/png": "[encoded data removed]",
            "text/plain": [
              "<Figure size 360x360 with 1 Axes>"
            ]
          },
          "metadata": {
            "needs_background": "light"
          },
          "output_type": "display_data"
        }
      ],
      "source": [
        "# for the year 2001\n",
        "\n",
        "sns.displot(data=dataset, x=\"SO2_2001\", kind=\"kde\")\n",
        "sns.displot(data=dataset, x=\"NO2_2001\", kind=\"kde\")\n",
        "sns.displot(data=dataset, x=\"RSPM_2001\", kind=\"kde\")\n",
        "plt.show()"
      ]
    },
    {
      "cell_type": "markdown",
      "metadata": {
        "id": "nmKwlLqfUH0B"
      },
      "source": [
        "From the above distributions, we can figure out the mean value for each column.\n",
        "\n",
        "SO2_2001: 13 (approx)\n",
        "\n",
        "NO2_2001: 22 (approx)\n",
        "\n",
        "RSPM_2001: 100 (approx)"
      ]
    },
    {
      "cell_type": "code",
      "execution_count": null,
      "metadata": {
        "colab": {
          "base_uri": "https://localhost:8080/",
          "height": 1000
        },
        "id": "-Zg8w688TG2t",
        "outputId": "6543d663-e217-4bef-e775-e233fc142901"
      },
      "outputs": [
        {
          "data": {
            "image/png": "[encoded data removed]",
            "text/plain": [
              "<Figure size 360x360 with 1 Axes>"
            ]
          },
          "metadata": {
            "needs_background": "light"
          },
          "output_type": "display_data"
        },
        {
          "data": {
            "image/png": "[encoded data removed]",
            "text/plain": [
              "<Figure size 360x360 with 1 Axes>"
            ]
          },
          "metadata": {
            "needs_background": "light"
          },
          "output_type": "display_data"
        },
        {
          "data": {
            "image/png": "[encoded data removed]",
            "text/plain": [
              "<Figure size 360x360 with 1 Axes>"
            ]
          },
          "metadata": {
            "needs_background": "light"
          },
          "output_type": "display_data"
        }
      ],
      "source": [
        "# for the year 2005\n",
        "\n",
        "sns.displot(data=dataset, x=\"SO2_2005\", kind=\"kde\")             # kde: kernel density estimation: This function uses Gaussian kernels\n",
        "sns.displot(data=dataset, x=\"NO2_2005\", kind=\"kde\")\n",
        "sns.displot(data=dataset, x=\"RSPM_2005\", kind=\"kde\")\n",
        "plt.show()"
      ]
    },
    {
      "cell_type": "markdown",
      "metadata": {
        "id": "k1aI9UD-Xjnt"
      },
      "source": [
        "From the above distributions, we can figure out the mean value for each column.\n",
        "\n",
        "SO2_2005: 10 (approx)\n",
        "\n",
        "NO2_2005: 28 (approx)\n",
        "\n",
        "RSPM_2005: 100 (approx)"
      ]
    },
    {
      "cell_type": "code",
      "execution_count": null,
      "metadata": {
        "colab": {
          "base_uri": "https://localhost:8080/"
        },
        "id": "bYqKfB_TU2mk",
        "outputId": "176d8aef-7dca-449e-9c18-80943d08aa1c"
      },
      "outputs": [
        {
          "data": {
            "text/plain": [
              "State        0\n",
              "SO2_2001     0\n",
              "NO2_2001     0\n",
              "RSPM_2001    0\n",
              "SO2_2005     0\n",
              "NO2_2005     0\n",
              "RSPM_2005    0\n",
              "SO2_2008     0\n",
              "NO2_2008     0\n",
              "RSPM_2008    0\n",
              "dtype: int64"
            ]
          },
          "execution_count": 8,
          "metadata": {},
          "output_type": "execute_result"
        }
      ],
      "source": [
        "# replacing the null values\n",
        "column_list = list(dataset.columns)\n",
        "for i in range(1, len(column_list)):\n",
        "  dataset[column_list[i]].fillna(dataset[column_list[i]].mean(), inplace=True)\n",
        "\n",
        "dataset.isnull().sum()"
      ]
    },
    {
      "cell_type": "code",
      "execution_count": null,
      "metadata": {
        "colab": {
          "base_uri": "https://localhost:8080/",
          "height": 265
        },
        "id": "Yw0MsagQd0el",
        "outputId": "963c3168-43e6-4e8f-c96c-f8909416470a"
      },
      "outputs": [
        {
          "data": {
            "image/png": "[encoded data removed]",
            "text/plain": [
              "<Figure size 432x288 with 1 Axes>"
            ]
          },
          "metadata": {
            "needs_background": "light"
          },
          "output_type": "display_data"
        }
      ],
      "source": [
        "# Like this we can see the variation of the Gases within the years for any state\n",
        "data_for_assam = dataset.head(1)\n",
        "x_SO2 = [data_for_assam['SO2_2001'], data_for_assam['SO2_2005'], data_for_assam['SO2_2008']]\n",
        "x_NO2 = [data_for_assam['NO2_2001'], data_for_assam['NO2_2005'], data_for_assam['NO2_2008']]\n",
        "x_RSPM = [data_for_assam['RSPM_2001'], data_for_assam['RSPM_2005'], data_for_assam['RSPM_2008']]\n",
        "\n",
        "plt.plot(x_SO2, label = 'SO2 in Assam')\n",
        "plt.plot(x_NO2, label = 'NO2 in Assam')\n",
        "plt.plot(x_RSPM, label = 'RSPM in Assam')\n",
        "plt.legend()\n",
        "plt.grid()\n",
        "plt.show()"
      ]
    },
    {
      "cell_type": "markdown",
      "metadata": {
        "id": "GA1RAPyPPTDt"
      },
      "source": [
        "From the graph above, we can clearly observe the patterns about the different gases in different years. \n",
        "\n",
        "* The SO2 emission decreases over the years in assam, from which we can say that the reduce sulphur dioxide (SO2) has effectively reduced rates of premature deaths. Sulfur dioxide affects the respiratory system, particularly lung function, and can irritate the eyes.\n",
        "* The NO2 increased till 2005, then decreases to some extend till 2008, which is again a good sign in reducing air pollution.\n",
        "* The RSPM (Respirable Suspended Particulate Matter) drastically increased during the period of 2001-2008. "
      ]
    },
    {
      "cell_type": "code",
      "execution_count": null,
      "metadata": {
        "colab": {
          "base_uri": "https://localhost:8080/",
          "height": 715
        },
        "id": "oqJGNhYyNhC1",
        "outputId": "474a278d-e264-4ddc-ce1d-763023fdd1d9"
      },
      "outputs": [
        {
          "data": {
            "image/png": "[encoded data removed]",
            "text/plain": [
              "<Figure size 864x864 with 9 Axes>"
            ]
          },
          "metadata": {
            "needs_background": "light"
          },
          "output_type": "display_data"
        }
      ],
      "source": [
        "# outliers detection\n",
        "plt.figure(figsize=(12, 12))\n",
        "\n",
        "columns = list(dataset.columns)\n",
        "\n",
        "for i in range(1, len(columns)):\n",
        "  plt.subplot(3, 3, i)\n",
        "  sns.boxplot(dataset[columns[i]])\n",
        "\n",
        "plt.show()"
      ]
    },
    {
      "cell_type": "code",
      "execution_count": null,
      "metadata": {
        "colab": {
          "base_uri": "https://localhost:8080/",
          "height": 535
        },
        "id": "gRSK6_awTbTw",
        "outputId": "2a32bf26-2263-4fd7-b32d-41978e4949de"
      },
      "outputs": [
        {
          "data": {
            "image/png": "[encoded data removed]",
            "text/plain": [
              "<Figure size 576x576 with 2 Axes>"
            ]
          },
          "metadata": {
            "needs_background": "light"
          },
          "output_type": "display_data"
        }
      ],
      "source": [
        "# finding correlation between the columns\n",
        "plt.figure(figsize=(8,8))\n",
        "correlation = dataset.corr()\n",
        "\n",
        "sns.heatmap(correlation, annot=True)\n",
        "plt.show()"
      ]
    },
    {
      "cell_type": "markdown",
      "metadata": {
        "id": "IbLKx-YIVH2x"
      },
      "source": [
        "The correlation matrix shows that the column values of 'NO2' in 2005 and 2008 are highly positively correlated. Also the 'RSPM' values in 2005 and 2008 are also highly positively correlated."
      ]
    },
    {
      "cell_type": "markdown",
      "metadata": {
        "id": "6vF27yNQV6KW"
      },
      "source": [
        "# **Use cases of this Dataset**\n",
        "\n",
        "* This dataset can be used to analyse the air quality at a particular state of India.\n",
        "* This dataset help us to find out which state is having maximum pollution.\n",
        "* This dataset contains the SO2, NO2 and RSPM values from the years 2001, 2005, and 2008. From the data values, we can see the improvement or decrement in the quality of air within the years, and find out the possible causes for it.\n",
        "* From the data analysis on this dataset, we can figure out which year has the badest air quality, and figure out the solutions to improve it.\n",
        "* We can also use this dataset in the field of healthcare to figure out which state has the most respiratory problems/ or the reason of deaths due to air quality."
      ]
    },
    {
      "cell_type": "code",
      "execution_count": null,
      "metadata": {
        "id": "UwTyWMUJZxwH"
      },
      "outputs": [],
      "source": [
        "numeric_columns = dataset.drop(columns=['State '], axis=1)\n",
        "string_column = dataset['State ']"
      ]
    },
    {
      "cell_type": "markdown",
      "metadata": {
        "id": "MGIhg2iLXhh_"
      },
      "source": [
        "# **b) Performing Normalization on the Dataset**\n",
        "The process of scaling separate samples to have a unit norm (unit length vector) is known as normalisation. This technique uses **minimum** and **maximum** values for scaling of model. It is applied row-wise.\n",
        "\n",
        "- Why Normalization?? \n",
        "\n",
        "It is applied when the dataset's columns have varying ranges. It aids in improving the effectiveness and dependability of a machine learning model.\n",
        "\n",
        "Reference: https://scikit-learn.org/stable/modules/preprocessing.html"
      ]
    },
    {
      "cell_type": "code",
      "execution_count": null,
      "metadata": {
        "colab": {
          "base_uri": "https://localhost:8080/",
          "height": 98
        },
        "id": "TxoUftEmbVe0",
        "outputId": "7f2f146d-809e-4d4b-a311-c9e5e9ba7bf8"
      },
      "outputs": [
        {
          "name": "stdout",
          "output_type": "stream",
          "text": [
            "10th Row Before the Normalization: \n"
          ]
        },
        {
          "data": {
            "text/html": [
              "\n",
              "  <div id=\"df-c93706e3-e548-4382-a014-073f738a4109\">\n",
              "    <div class=\"colab-df-container\">\n",
              "      <div>\n",
              "<style scoped>\n",
              "    .dataframe tbody tr th:only-of-type {\n",
              "        vertical-align: middle;\n",
              "    }\n",
              "\n",
              "    .dataframe tbody tr th {\n",
              "        vertical-align: top;\n",
              "    }\n",
              "\n",
              "    .dataframe thead th {\n",
              "        text-align: right;\n",
              "    }\n",
              "</style>\n",
              "<table border=\"1\" class=\"dataframe\">\n",
              "  <thead>\n",
              "    <tr style=\"text-align: right;\">\n",
              "      <th></th>\n",
              "      <th>State</th>\n",
              "      <th>SO2_2001</th>\n",
              "      <th>NO2_2001</th>\n",
              "      <th>RSPM_2001</th>\n",
              "      <th>SO2_2005</th>\n",
              "      <th>NO2_2005</th>\n",
              "      <th>RSPM_2005</th>\n",
              "      <th>SO2_2008</th>\n",
              "      <th>NO2_2008</th>\n",
              "      <th>RSPM_2008</th>\n",
              "    </tr>\n",
              "  </thead>\n",
              "  <tbody>\n",
              "    <tr>\n",
              "      <th>9</th>\n",
              "      <td>Himachal Pradesh</td>\n",
              "      <td>3.0</td>\n",
              "      <td>14.0</td>\n",
              "      <td>120.5</td>\n",
              "      <td>4.0</td>\n",
              "      <td>17.0</td>\n",
              "      <td>26.0</td>\n",
              "      <td>2.0</td>\n",
              "      <td>12</td>\n",
              "      <td>71</td>\n",
              "    </tr>\n",
              "  </tbody>\n",
              "</table>\n",
              "</div>\n",
              "      <button class=\"colab-df-convert\" onclick=\"convertToInteractive('df-c93706e3-e548-4382-a014-073f738a4109')\"\n",
              "              title=\"Convert this dataframe to an interactive table.\"\n",
              "              style=\"display:none;\">\n",
              "        \n",
              "  <svg xmlns=\"http://www.w3.org/2000/svg\" height=\"24px\"viewBox=\"0 0 24 24\"\n",
              "       width=\"24px\">\n",
              "    <path d=\"M0 0h24v24H0V0z\" fill=\"none\"/>\n",
              "    <path d=\"M18.56 5.44l.94 2.06.94-2.06 2.06-.94-2.06-.94-.94-2.06-.94 2.06-2.06.94zm-11 1L8.5 8.5l.94-2.06 2.06-.94-2.06-.94L8.5 2.5l-.94 2.06-2.06.94zm10 10l.94 2.06.94-2.06 2.06-.94-2.06-.94-.94-2.06-.94 2.06-2.06.94z\"/><path d=\"M17.41 7.96l-1.37-1.37c-.4-.4-.92-.59-1.43-.59-.52 0-1.04.2-1.43.59L10.3 9.45l-7.72 7.72c-.78.78-.78 2.05 0 2.83L4 21.41c.39.39.9.59 1.41.59.51 0 1.02-.2 1.41-.59l7.78-7.78 2.81-2.81c.8-.78.8-2.07 0-2.86zM5.41 20L4 18.59l7.72-7.72 1.47 1.35L5.41 20z\"/>\n",
              "  </svg>\n",
              "      </button>\n",
              "      \n",
              "  <style>\n",
              "    .colab-df-container {\n",
              "      display:flex;\n",
              "      flex-wrap:wrap;\n",
              "      gap: 12px;\n",
              "    }\n",
              "\n",
              "    .colab-df-convert {\n",
              "      background-color: #E8F0FE;\n",
              "      border: none;\n",
              "      border-radius: 50%;\n",
              "      cursor: pointer;\n",
              "      display: none;\n",
              "      fill: #1967D2;\n",
              "      height: 32px;\n",
              "      padding: 0 0 0 0;\n",
              "      width: 32px;\n",
              "    }\n",
              "\n",
              "    .colab-df-convert:hover {\n",
              "      background-color: #E2EBFA;\n",
              "      box-shadow: 0px 1px 2px rgba(60, 64, 67, 0.3), 0px 1px 3px 1px rgba(60, 64, 67, 0.15);\n",
              "      fill: #174EA6;\n",
              "    }\n",
              "\n",
              "    [theme=dark] .colab-df-convert {\n",
              "      background-color: #3B4455;\n",
              "      fill: #D2E3FC;\n",
              "    }\n",
              "\n",
              "    [theme=dark] .colab-df-convert:hover {\n",
              "      background-color: #434B5C;\n",
              "      box-shadow: 0px 1px 3px 1px rgba(0, 0, 0, 0.15);\n",
              "      filter: drop-shadow(0px 1px 2px rgba(0, 0, 0, 0.3));\n",
              "      fill: #FFFFFF;\n",
              "    }\n",
              "  </style>\n",
              "\n",
              "      <script>\n",
              "        const buttonEl =\n",
              "          document.querySelector('#df-c93706e3-e548-4382-a014-073f738a4109 button.colab-df-convert');\n",
              "        buttonEl.style.display =\n",
              "          google.colab.kernel.accessAllowed ? 'block' : 'none';\n",
              "\n",
              "        async function convertToInteractive(key) {\n",
              "          const element = document.querySelector('#df-c93706e3-e548-4382-a014-073f738a4109');\n",
              "          const dataTable =\n",
              "            await google.colab.kernel.invokeFunction('convertToInteractive',\n",
              "                                                     [key], {});\n",
              "          if (!dataTable) return;\n",
              "\n",
              "          const docLinkHtml = 'Like what you see? Visit the ' +\n",
              "            '<a target=\"_blank\" href=https://colab.research.google.com/notebooks/data_table.ipynb>data table notebook</a>'\n",
              "            + ' to learn more about interactive tables.';\n",
              "          element.innerHTML = '';\n",
              "          dataTable['output_type'] = 'display_data';\n",
              "          await google.colab.output.renderOutput(dataTable, element);\n",
              "          const docLink = document.createElement('div');\n",
              "          docLink.innerHTML = docLinkHtml;\n",
              "          element.appendChild(docLink);\n",
              "        }\n",
              "      </script>\n",
              "    </div>\n",
              "  </div>\n",
              "  "
            ],
            "text/plain": [
              "             State   SO2_2001  NO2_2001  RSPM_2001  SO2_2005  NO2_2005  \\\n",
              "9  Himachal Pradesh       3.0      14.0      120.5       4.0      17.0   \n",
              "\n",
              "   RSPM_2005  SO2_2008  NO2_2008  RSPM_2008  \n",
              "9       26.0       2.0        12         71  "
            ]
          },
          "execution_count": 65,
          "metadata": {},
          "output_type": "execute_result"
        }
      ],
      "source": [
        "print(\"10th Row Before the Normalization: \")\n",
        "dataset.loc[9:9, :]"
      ]
    },
    {
      "cell_type": "code",
      "execution_count": null,
      "metadata": {
        "colab": {
          "base_uri": "https://localhost:8080/",
          "height": 98
        },
        "id": "WWHa8m8MUz9c",
        "outputId": "3a60788b-f2c5-4b41-dc8a-cd9b14a812e6"
      },
      "outputs": [
        {
          "name": "stdout",
          "output_type": "stream",
          "text": [
            "10th Row After the Normalization: \n"
          ]
        },
        {
          "data": {
            "text/html": [
              "\n",
              "  <div id=\"df-8a8a48cd-7e6c-4a21-aafd-aa3491e97e0b\">\n",
              "    <div class=\"colab-df-container\">\n",
              "      <div>\n",
              "<style scoped>\n",
              "    .dataframe tbody tr th:only-of-type {\n",
              "        vertical-align: middle;\n",
              "    }\n",
              "\n",
              "    .dataframe tbody tr th {\n",
              "        vertical-align: top;\n",
              "    }\n",
              "\n",
              "    .dataframe thead th {\n",
              "        text-align: right;\n",
              "    }\n",
              "</style>\n",
              "<table border=\"1\" class=\"dataframe\">\n",
              "  <thead>\n",
              "    <tr style=\"text-align: right;\">\n",
              "      <th></th>\n",
              "      <th>State</th>\n",
              "      <th>SO2_2001</th>\n",
              "      <th>NO2_2001</th>\n",
              "      <th>RSPM_2001</th>\n",
              "      <th>SO2_2005</th>\n",
              "      <th>NO2_2005</th>\n",
              "      <th>RSPM_2005</th>\n",
              "      <th>SO2_2008</th>\n",
              "      <th>NO2_2008</th>\n",
              "      <th>RSPM_2008</th>\n",
              "    </tr>\n",
              "  </thead>\n",
              "  <tbody>\n",
              "    <tr>\n",
              "      <th>9</th>\n",
              "      <td>Himachal Pradesh</td>\n",
              "      <td>0.020754</td>\n",
              "      <td>0.096851</td>\n",
              "      <td>0.833611</td>\n",
              "      <td>0.027672</td>\n",
              "      <td>0.117605</td>\n",
              "      <td>0.179866</td>\n",
              "      <td>0.013836</td>\n",
              "      <td>0.083015</td>\n",
              "      <td>0.491173</td>\n",
              "    </tr>\n",
              "  </tbody>\n",
              "</table>\n",
              "</div>\n",
              "      <button class=\"colab-df-convert\" onclick=\"convertToInteractive('df-8a8a48cd-7e6c-4a21-aafd-aa3491e97e0b')\"\n",
              "              title=\"Convert this dataframe to an interactive table.\"\n",
              "              style=\"display:none;\">\n",
              "        \n",
              "  <svg xmlns=\"http://www.w3.org/2000/svg\" height=\"24px\"viewBox=\"0 0 24 24\"\n",
              "       width=\"24px\">\n",
              "    <path d=\"M0 0h24v24H0V0z\" fill=\"none\"/>\n",
              "    <path d=\"M18.56 5.44l.94 2.06.94-2.06 2.06-.94-2.06-.94-.94-2.06-.94 2.06-2.06.94zm-11 1L8.5 8.5l.94-2.06 2.06-.94-2.06-.94L8.5 2.5l-.94 2.06-2.06.94zm10 10l.94 2.06.94-2.06 2.06-.94-2.06-.94-.94-2.06-.94 2.06-2.06.94z\"/><path d=\"M17.41 7.96l-1.37-1.37c-.4-.4-.92-.59-1.43-.59-.52 0-1.04.2-1.43.59L10.3 9.45l-7.72 7.72c-.78.78-.78 2.05 0 2.83L4 21.41c.39.39.9.59 1.41.59.51 0 1.02-.2 1.41-.59l7.78-7.78 2.81-2.81c.8-.78.8-2.07 0-2.86zM5.41 20L4 18.59l7.72-7.72 1.47 1.35L5.41 20z\"/>\n",
              "  </svg>\n",
              "      </button>\n",
              "      \n",
              "  <style>\n",
              "    .colab-df-container {\n",
              "      display:flex;\n",
              "      flex-wrap:wrap;\n",
              "      gap: 12px;\n",
              "    }\n",
              "\n",
              "    .colab-df-convert {\n",
              "      background-color: #E8F0FE;\n",
              "      border: none;\n",
              "      border-radius: 50%;\n",
              "      cursor: pointer;\n",
              "      display: none;\n",
              "      fill: #1967D2;\n",
              "      height: 32px;\n",
              "      padding: 0 0 0 0;\n",
              "      width: 32px;\n",
              "    }\n",
              "\n",
              "    .colab-df-convert:hover {\n",
              "      background-color: #E2EBFA;\n",
              "      box-shadow: 0px 1px 2px rgba(60, 64, 67, 0.3), 0px 1px 3px 1px rgba(60, 64, 67, 0.15);\n",
              "      fill: #174EA6;\n",
              "    }\n",
              "\n",
              "    [theme=dark] .colab-df-convert {\n",
              "      background-color: #3B4455;\n",
              "      fill: #D2E3FC;\n",
              "    }\n",
              "\n",
              "    [theme=dark] .colab-df-convert:hover {\n",
              "      background-color: #434B5C;\n",
              "      box-shadow: 0px 1px 3px 1px rgba(0, 0, 0, 0.15);\n",
              "      filter: drop-shadow(0px 1px 2px rgba(0, 0, 0, 0.3));\n",
              "      fill: #FFFFFF;\n",
              "    }\n",
              "  </style>\n",
              "\n",
              "      <script>\n",
              "        const buttonEl =\n",
              "          document.querySelector('#df-8a8a48cd-7e6c-4a21-aafd-aa3491e97e0b button.colab-df-convert');\n",
              "        buttonEl.style.display =\n",
              "          google.colab.kernel.accessAllowed ? 'block' : 'none';\n",
              "\n",
              "        async function convertToInteractive(key) {\n",
              "          const element = document.querySelector('#df-8a8a48cd-7e6c-4a21-aafd-aa3491e97e0b');\n",
              "          const dataTable =\n",
              "            await google.colab.kernel.invokeFunction('convertToInteractive',\n",
              "                                                     [key], {});\n",
              "          if (!dataTable) return;\n",
              "\n",
              "          const docLinkHtml = 'Like what you see? Visit the ' +\n",
              "            '<a target=\"_blank\" href=https://colab.research.google.com/notebooks/data_table.ipynb>data table notebook</a>'\n",
              "            + ' to learn more about interactive tables.';\n",
              "          element.innerHTML = '';\n",
              "          dataTable['output_type'] = 'display_data';\n",
              "          await google.colab.output.renderOutput(dataTable, element);\n",
              "          const docLink = document.createElement('div');\n",
              "          docLink.innerHTML = docLinkHtml;\n",
              "          element.appendChild(docLink);\n",
              "        }\n",
              "      </script>\n",
              "    </div>\n",
              "  </div>\n",
              "  "
            ],
            "text/plain": [
              "              State  SO2_2001  NO2_2001  RSPM_2001  SO2_2005  NO2_2005  \\\n",
              "9  Himachal Pradesh  0.020754  0.096851   0.833611  0.027672  0.117605   \n",
              "\n",
              "   RSPM_2005  SO2_2008  NO2_2008  RSPM_2008  \n",
              "9   0.179866  0.013836  0.083015   0.491173  "
            ]
          },
          "execution_count": 66,
          "metadata": {},
          "output_type": "execute_result"
        }
      ],
      "source": [
        "from sklearn.preprocessing import Normalizer\n",
        "\n",
        "normalizer = Normalizer()\n",
        "normalized_data = normalizer.fit_transform(numeric_columns)\n",
        "normalized_dataset = pd.DataFrame(normalized_data, columns = ['SO2_2001','NO2_2001','RSPM_2001','SO2_2005','NO2_2005','RSPM_2005','SO2_2008','NO2_2008','RSPM_2008'])\n",
        "normalized_dataset.insert(0, 'State', string_column)\n",
        "\n",
        "print(\"10th Row After the Normalization: \")\n",
        "normalized_dataset.loc[9:9, :]"
      ]
    },
    {
      "cell_type": "markdown",
      "metadata": {
        "id": "B201B5WlbfCy"
      },
      "source": [
        "# **c) Performing Standardization on the Dataset**\n",
        "Data must be scaled to follow standard normal distribution as part of standardisation. A distribution with a mean of 0 and a standard deviation of 1 is known as a standard normal distribution. It uses mean and standard deviation for scaling of model.\n",
        "\n",
        "Reference: https://towardsdatascience.com/standardization-vs-normalization-dc81f23085e3#:~:text=Standardization%20entails%20scaling%20data%20to,its%20effects%20on%20some%20data."
      ]
    },
    {
      "cell_type": "code",
      "execution_count": null,
      "metadata": {
        "colab": {
          "base_uri": "https://localhost:8080/",
          "height": 98
        },
        "id": "QIcfaxn5dxiB",
        "outputId": "0f7862d9-b125-4ac4-bd85-894a820fb6e1"
      },
      "outputs": [
        {
          "name": "stdout",
          "output_type": "stream",
          "text": [
            "10th Row Before the Normalization: \n"
          ]
        },
        {
          "data": {
            "text/html": [
              "\n",
              "  <div id=\"df-f7a60da8-8023-4463-ab6b-23eb5e9db0ba\">\n",
              "    <div class=\"colab-df-container\">\n",
              "      <div>\n",
              "<style scoped>\n",
              "    .dataframe tbody tr th:only-of-type {\n",
              "        vertical-align: middle;\n",
              "    }\n",
              "\n",
              "    .dataframe tbody tr th {\n",
              "        vertical-align: top;\n",
              "    }\n",
              "\n",
              "    .dataframe thead th {\n",
              "        text-align: right;\n",
              "    }\n",
              "</style>\n",
              "<table border=\"1\" class=\"dataframe\">\n",
              "  <thead>\n",
              "    <tr style=\"text-align: right;\">\n",
              "      <th></th>\n",
              "      <th>State</th>\n",
              "      <th>SO2_2001</th>\n",
              "      <th>NO2_2001</th>\n",
              "      <th>RSPM_2001</th>\n",
              "      <th>SO2_2005</th>\n",
              "      <th>NO2_2005</th>\n",
              "      <th>RSPM_2005</th>\n",
              "      <th>SO2_2008</th>\n",
              "      <th>NO2_2008</th>\n",
              "      <th>RSPM_2008</th>\n",
              "    </tr>\n",
              "  </thead>\n",
              "  <tbody>\n",
              "    <tr>\n",
              "      <th>9</th>\n",
              "      <td>Himachal Pradesh</td>\n",
              "      <td>3.0</td>\n",
              "      <td>14.0</td>\n",
              "      <td>120.5</td>\n",
              "      <td>4.0</td>\n",
              "      <td>17.0</td>\n",
              "      <td>26.0</td>\n",
              "      <td>2.0</td>\n",
              "      <td>12</td>\n",
              "      <td>71</td>\n",
              "    </tr>\n",
              "  </tbody>\n",
              "</table>\n",
              "</div>\n",
              "      <button class=\"colab-df-convert\" onclick=\"convertToInteractive('df-f7a60da8-8023-4463-ab6b-23eb5e9db0ba')\"\n",
              "              title=\"Convert this dataframe to an interactive table.\"\n",
              "              style=\"display:none;\">\n",
              "        \n",
              "  <svg xmlns=\"http://www.w3.org/2000/svg\" height=\"24px\"viewBox=\"0 0 24 24\"\n",
              "       width=\"24px\">\n",
              "    <path d=\"M0 0h24v24H0V0z\" fill=\"none\"/>\n",
              "    <path d=\"M18.56 5.44l.94 2.06.94-2.06 2.06-.94-2.06-.94-.94-2.06-.94 2.06-2.06.94zm-11 1L8.5 8.5l.94-2.06 2.06-.94-2.06-.94L8.5 2.5l-.94 2.06-2.06.94zm10 10l.94 2.06.94-2.06 2.06-.94-2.06-.94-.94-2.06-.94 2.06-2.06.94z\"/><path d=\"M17.41 7.96l-1.37-1.37c-.4-.4-.92-.59-1.43-.59-.52 0-1.04.2-1.43.59L10.3 9.45l-7.72 7.72c-.78.78-.78 2.05 0 2.83L4 21.41c.39.39.9.59 1.41.59.51 0 1.02-.2 1.41-.59l7.78-7.78 2.81-2.81c.8-.78.8-2.07 0-2.86zM5.41 20L4 18.59l7.72-7.72 1.47 1.35L5.41 20z\"/>\n",
              "  </svg>\n",
              "      </button>\n",
              "      \n",
              "  <style>\n",
              "    .colab-df-container {\n",
              "      display:flex;\n",
              "      flex-wrap:wrap;\n",
              "      gap: 12px;\n",
              "    }\n",
              "\n",
              "    .colab-df-convert {\n",
              "      background-color: #E8F0FE;\n",
              "      border: none;\n",
              "      border-radius: 50%;\n",
              "      cursor: pointer;\n",
              "      display: none;\n",
              "      fill: #1967D2;\n",
              "      height: 32px;\n",
              "      padding: 0 0 0 0;\n",
              "      width: 32px;\n",
              "    }\n",
              "\n",
              "    .colab-df-convert:hover {\n",
              "      background-color: #E2EBFA;\n",
              "      box-shadow: 0px 1px 2px rgba(60, 64, 67, 0.3), 0px 1px 3px 1px rgba(60, 64, 67, 0.15);\n",
              "      fill: #174EA6;\n",
              "    }\n",
              "\n",
              "    [theme=dark] .colab-df-convert {\n",
              "      background-color: #3B4455;\n",
              "      fill: #D2E3FC;\n",
              "    }\n",
              "\n",
              "    [theme=dark] .colab-df-convert:hover {\n",
              "      background-color: #434B5C;\n",
              "      box-shadow: 0px 1px 3px 1px rgba(0, 0, 0, 0.15);\n",
              "      filter: drop-shadow(0px 1px 2px rgba(0, 0, 0, 0.3));\n",
              "      fill: #FFFFFF;\n",
              "    }\n",
              "  </style>\n",
              "\n",
              "      <script>\n",
              "        const buttonEl =\n",
              "          document.querySelector('#df-f7a60da8-8023-4463-ab6b-23eb5e9db0ba button.colab-df-convert');\n",
              "        buttonEl.style.display =\n",
              "          google.colab.kernel.accessAllowed ? 'block' : 'none';\n",
              "\n",
              "        async function convertToInteractive(key) {\n",
              "          const element = document.querySelector('#df-f7a60da8-8023-4463-ab6b-23eb5e9db0ba');\n",
              "          const dataTable =\n",
              "            await google.colab.kernel.invokeFunction('convertToInteractive',\n",
              "                                                     [key], {});\n",
              "          if (!dataTable) return;\n",
              "\n",
              "          const docLinkHtml = 'Like what you see? Visit the ' +\n",
              "            '<a target=\"_blank\" href=https://colab.research.google.com/notebooks/data_table.ipynb>data table notebook</a>'\n",
              "            + ' to learn more about interactive tables.';\n",
              "          element.innerHTML = '';\n",
              "          dataTable['output_type'] = 'display_data';\n",
              "          await google.colab.output.renderOutput(dataTable, element);\n",
              "          const docLink = document.createElement('div');\n",
              "          docLink.innerHTML = docLinkHtml;\n",
              "          element.appendChild(docLink);\n",
              "        }\n",
              "      </script>\n",
              "    </div>\n",
              "  </div>\n",
              "  "
            ],
            "text/plain": [
              "             State   SO2_2001  NO2_2001  RSPM_2001  SO2_2005  NO2_2005  \\\n",
              "9  Himachal Pradesh       3.0      14.0      120.5       4.0      17.0   \n",
              "\n",
              "   RSPM_2005  SO2_2008  NO2_2008  RSPM_2008  \n",
              "9       26.0       2.0        12         71  "
            ]
          },
          "execution_count": 67,
          "metadata": {},
          "output_type": "execute_result"
        }
      ],
      "source": [
        "print(\"10th Row Before the Standardization: \")\n",
        "dataset.loc[9:9, :]"
      ]
    },
    {
      "cell_type": "code",
      "execution_count": null,
      "metadata": {
        "colab": {
          "base_uri": "https://localhost:8080/",
          "height": 98
        },
        "id": "NZzQWVDTYuj_",
        "outputId": "e67493d9-30ee-422b-adc5-66335db16c91"
      },
      "outputs": [
        {
          "name": "stdout",
          "output_type": "stream",
          "text": [
            "10th Row After the Standardization: \n"
          ]
        },
        {
          "data": {
            "text/html": [
              "\n",
              "  <div id=\"df-96a491f3-8a0d-4c00-9f5b-6721116f651a\">\n",
              "    <div class=\"colab-df-container\">\n",
              "      <div>\n",
              "<style scoped>\n",
              "    .dataframe tbody tr th:only-of-type {\n",
              "        vertical-align: middle;\n",
              "    }\n",
              "\n",
              "    .dataframe tbody tr th {\n",
              "        vertical-align: top;\n",
              "    }\n",
              "\n",
              "    .dataframe thead th {\n",
              "        text-align: right;\n",
              "    }\n",
              "</style>\n",
              "<table border=\"1\" class=\"dataframe\">\n",
              "  <thead>\n",
              "    <tr style=\"text-align: right;\">\n",
              "      <th></th>\n",
              "      <th>State</th>\n",
              "      <th>SO2_2001</th>\n",
              "      <th>NO2_2001</th>\n",
              "      <th>RSPM_2001</th>\n",
              "      <th>SO2_2005</th>\n",
              "      <th>NO2_2005</th>\n",
              "      <th>RSPM_2005</th>\n",
              "      <th>SO2_2008</th>\n",
              "      <th>NO2_2008</th>\n",
              "      <th>RSPM_2008</th>\n",
              "    </tr>\n",
              "  </thead>\n",
              "  <tbody>\n",
              "    <tr>\n",
              "      <th>9</th>\n",
              "      <td>Himachal Pradesh</td>\n",
              "      <td>-1.546247</td>\n",
              "      <td>-1.146244</td>\n",
              "      <td>0.0</td>\n",
              "      <td>-1.258911</td>\n",
              "      <td>-0.742599</td>\n",
              "      <td>-2.032213</td>\n",
              "      <td>-1.048908</td>\n",
              "      <td>-1.002633</td>\n",
              "      <td>-0.682163</td>\n",
              "    </tr>\n",
              "  </tbody>\n",
              "</table>\n",
              "</div>\n",
              "      <button class=\"colab-df-convert\" onclick=\"convertToInteractive('df-96a491f3-8a0d-4c00-9f5b-6721116f651a')\"\n",
              "              title=\"Convert this dataframe to an interactive table.\"\n",
              "              style=\"display:none;\">\n",
              "        \n",
              "  <svg xmlns=\"http://www.w3.org/2000/svg\" height=\"24px\"viewBox=\"0 0 24 24\"\n",
              "       width=\"24px\">\n",
              "    <path d=\"M0 0h24v24H0V0z\" fill=\"none\"/>\n",
              "    <path d=\"M18.56 5.44l.94 2.06.94-2.06 2.06-.94-2.06-.94-.94-2.06-.94 2.06-2.06.94zm-11 1L8.5 8.5l.94-2.06 2.06-.94-2.06-.94L8.5 2.5l-.94 2.06-2.06.94zm10 10l.94 2.06.94-2.06 2.06-.94-2.06-.94-.94-2.06-.94 2.06-2.06.94z\"/><path d=\"M17.41 7.96l-1.37-1.37c-.4-.4-.92-.59-1.43-.59-.52 0-1.04.2-1.43.59L10.3 9.45l-7.72 7.72c-.78.78-.78 2.05 0 2.83L4 21.41c.39.39.9.59 1.41.59.51 0 1.02-.2 1.41-.59l7.78-7.78 2.81-2.81c.8-.78.8-2.07 0-2.86zM5.41 20L4 18.59l7.72-7.72 1.47 1.35L5.41 20z\"/>\n",
              "  </svg>\n",
              "      </button>\n",
              "      \n",
              "  <style>\n",
              "    .colab-df-container {\n",
              "      display:flex;\n",
              "      flex-wrap:wrap;\n",
              "      gap: 12px;\n",
              "    }\n",
              "\n",
              "    .colab-df-convert {\n",
              "      background-color: #E8F0FE;\n",
              "      border: none;\n",
              "      border-radius: 50%;\n",
              "      cursor: pointer;\n",
              "      display: none;\n",
              "      fill: #1967D2;\n",
              "      height: 32px;\n",
              "      padding: 0 0 0 0;\n",
              "      width: 32px;\n",
              "    }\n",
              "\n",
              "    .colab-df-convert:hover {\n",
              "      background-color: #E2EBFA;\n",
              "      box-shadow: 0px 1px 2px rgba(60, 64, 67, 0.3), 0px 1px 3px 1px rgba(60, 64, 67, 0.15);\n",
              "      fill: #174EA6;\n",
              "    }\n",
              "\n",
              "    [theme=dark] .colab-df-convert {\n",
              "      background-color: #3B4455;\n",
              "      fill: #D2E3FC;\n",
              "    }\n",
              "\n",
              "    [theme=dark] .colab-df-convert:hover {\n",
              "      background-color: #434B5C;\n",
              "      box-shadow: 0px 1px 3px 1px rgba(0, 0, 0, 0.15);\n",
              "      filter: drop-shadow(0px 1px 2px rgba(0, 0, 0, 0.3));\n",
              "      fill: #FFFFFF;\n",
              "    }\n",
              "  </style>\n",
              "\n",
              "      <script>\n",
              "        const buttonEl =\n",
              "          document.querySelector('#df-96a491f3-8a0d-4c00-9f5b-6721116f651a button.colab-df-convert');\n",
              "        buttonEl.style.display =\n",
              "          google.colab.kernel.accessAllowed ? 'block' : 'none';\n",
              "\n",
              "        async function convertToInteractive(key) {\n",
              "          const element = document.querySelector('#df-96a491f3-8a0d-4c00-9f5b-6721116f651a');\n",
              "          const dataTable =\n",
              "            await google.colab.kernel.invokeFunction('convertToInteractive',\n",
              "                                                     [key], {});\n",
              "          if (!dataTable) return;\n",
              "\n",
              "          const docLinkHtml = 'Like what you see? Visit the ' +\n",
              "            '<a target=\"_blank\" href=https://colab.research.google.com/notebooks/data_table.ipynb>data table notebook</a>'\n",
              "            + ' to learn more about interactive tables.';\n",
              "          element.innerHTML = '';\n",
              "          dataTable['output_type'] = 'display_data';\n",
              "          await google.colab.output.renderOutput(dataTable, element);\n",
              "          const docLink = document.createElement('div');\n",
              "          docLink.innerHTML = docLinkHtml;\n",
              "          element.appendChild(docLink);\n",
              "        }\n",
              "      </script>\n",
              "    </div>\n",
              "  </div>\n",
              "  "
            ],
            "text/plain": [
              "              State  SO2_2001  NO2_2001  RSPM_2001  SO2_2005  NO2_2005  \\\n",
              "9  Himachal Pradesh -1.546247 -1.146244        0.0 -1.258911 -0.742599   \n",
              "\n",
              "   RSPM_2005  SO2_2008  NO2_2008  RSPM_2008  \n",
              "9  -2.032213 -1.048908 -1.002633  -0.682163  "
            ]
          },
          "execution_count": 68,
          "metadata": {},
          "output_type": "execute_result"
        }
      ],
      "source": [
        "from sklearn.preprocessing import StandardScaler\n",
        "\n",
        "standardizer = StandardScaler()\n",
        "standardized_data = standardizer.fit_transform(numeric_columns)\n",
        "standardized_dataset = pd.DataFrame(standardized_data, columns = ['SO2_2001','NO2_2001','RSPM_2001','SO2_2005','NO2_2005','RSPM_2005','SO2_2008','NO2_2008','RSPM_2008'])\n",
        "standardized_dataset.insert(0, 'State', string_column)\n",
        "\n",
        "print(\"10th Row After the Standardization: \")\n",
        "standardized_dataset.loc[9:9, :]"
      ]
    },
    {
      "cell_type": "markdown",
      "metadata": {
        "id": "E3poXMtOeW3E"
      },
      "source": [
        "d) \n",
        "\n",
        "- **Which type of data is suitable for Normalization?**\n",
        "\n",
        "    - Normalization is useful when we don't know about the distribution of features.\n",
        "    - It is also useful for data having variable scaling techniques.\n",
        "    - When our data values are very disturbed or there is a very large difference. Outliers in the data will be affected by normalisation because it requires an abundant range.\n",
        "    \n",
        "\n",
        "- **Which type of data is suitable for Standardization?**\n",
        "\n",
        "    - Standardization is useful when we have the knowledge about the distribution of features.\n",
        "    - It is also useful when data has variable dimensions.\n",
        "    - Outliers in data won't be affected by standardisation because standardisation does not always have a bounding range.\n",
        "\n",
        "In my opinion and analysis, Standardization on this dataset is good, because if we see the distribution graphs of the columns, we can see that they follow gaussian distribution, and in Standardization, we focus more on **mean** and **variance**. \n",
        "\n",
        "Ref: https://deepchecks.com/glossary/normalization-in-machine-learning/"
      ]
    }
  ],
  "metadata": {
    "colab": {
      "collapsed_sections": [],
      "provenance": []
    },
    "kernelspec": {
      "display_name": "Python 3.9.13 64-bit",
      "language": "python",
      "name": "python3"
    },
    "language_info": {
      "name": "python",
      "version": "3.9.13"
    },
    "vscode": {
      "interpreter": {
        "hash": "941d71435b1f5d8ac3a1bff562d82748a951564e166332885bc2225855aa0335"
      }
    }
  },
  "nbformat": 4,
  "nbformat_minor": 0
}
