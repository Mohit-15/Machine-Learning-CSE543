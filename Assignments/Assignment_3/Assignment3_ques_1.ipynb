{
  "cells": [
    {
      "cell_type": "code",
      "execution_count": null,
      "metadata": {
        "id": "Ig_RqNeZgqvV"
      },
      "outputs": [],
      "source": [
        "# importing the libraries\n",
        "import pandas as pd\n",
        "import numpy as np\n",
        "from keras.datasets import mnist\n",
        "from sklearn.model_selection import train_test_split\n",
        "from sklearn.metrics import confusion_matrix\n",
        "import matplotlib.pyplot as plt\n",
        "import seaborn as sns\n",
        "from sklearn import svm\n",
        "import warnings\n",
        "warnings.filterwarnings('ignore')"
      ]
    },
    {
      "cell_type": "markdown",
      "metadata": {
        "id": "xyfLjIX1kjvv"
      },
      "source": [
        "# **a) Linear SVM Classifier**\n",
        "\n",
        "**i) Load MNIST dataset. After necessary data preparation, build a linear SVM classifier.**"
      ]
    },
    {
      "cell_type": "code",
      "execution_count": null,
      "metadata": {
        "id": "qG4C5oDZhVMJ",
        "colab": {
          "base_uri": "https://localhost:8080/"
        },
        "outputId": "4d267b21-a379-43f9-b7c8-3f113de79281"
      },
      "outputs": [
        {
          "output_type": "stream",
          "name": "stdout",
          "text": [
            "Downloading data from https://storage.googleapis.com/tensorflow/tf-keras-datasets/mnist.npz\n",
            "11490434/11490434 [==============================] - 0s 0us/step\n"
          ]
        }
      ],
      "source": [
        "(train_images, train_labels), (test_images, test_labels) = mnist.load_data()"
      ]
    },
    {
      "cell_type": "code",
      "execution_count": null,
      "metadata": {
        "colab": {
          "base_uri": "https://localhost:8080/"
        },
        "id": "PmPkDTDWhbOE",
        "outputId": "d38cbb76-fb1f-4b25-90c6-ba0f4497458c"
      },
      "outputs": [
        {
          "output_type": "stream",
          "name": "stdout",
          "text": [
            "Training Images: (60000, 28, 28)\n",
            "Training Labels: (60000,)\n",
            "Testing Images: (10000, 28, 28)\n",
            "Testing Labels: (10000,)\n"
          ]
        }
      ],
      "source": [
        "# printing the shape of training and testing data\n",
        "print(f\"Training Images: {train_images.shape}\")\n",
        "print(f\"Training Labels: {train_labels.shape}\")\n",
        "print(f\"Testing Images: {test_images.shape}\")\n",
        "print(f\"Testing Labels: {test_labels.shape}\")"
      ]
    },
    {
      "cell_type": "code",
      "execution_count": null,
      "metadata": {
        "colab": {
          "base_uri": "https://localhost:8080/",
          "height": 236
        },
        "id": "B9jilt3Wh6tD",
        "outputId": "6c735838-3e55-4717-a833-85419db755a4"
      },
      "outputs": [
        {
          "output_type": "execute_result",
          "data": {
            "text/plain": [
              "   0  1  2  3  4  5  6  7  8  9  ...  775  776  777  778  779  780  781  782  \\\n",
              "0  0  0  0  0  0  0  0  0  0  0  ...    0    0    0    0    0    0    0    0   \n",
              "1  0  0  0  0  0  0  0  0  0  0  ...    0    0    0    0    0    0    0    0   \n",
              "2  0  0  0  0  0  0  0  0  0  0  ...    0    0    0    0    0    0    0    0   \n",
              "3  0  0  0  0  0  0  0  0  0  0  ...    0    0    0    0    0    0    0    0   \n",
              "4  0  0  0  0  0  0  0  0  0  0  ...    0    0    0    0    0    0    0    0   \n",
              "\n",
              "   783  label  \n",
              "0    0      5  \n",
              "1    0      0  \n",
              "2    0      4  \n",
              "3    0      1  \n",
              "4    0      9  \n",
              "\n",
              "[5 rows x 785 columns]"
            ],
            "text/html": [
              "\n",
              "  <div id=\"df-b26e3f0a-6765-42f0-8257-d65eb895fb5f\">\n",
              "    <div class=\"colab-df-container\">\n",
              "      <div>\n",
              "<style scoped>\n",
              "    .dataframe tbody tr th:only-of-type {\n",
              "        vertical-align: middle;\n",
              "    }\n",
              "\n",
              "    .dataframe tbody tr th {\n",
              "        vertical-align: top;\n",
              "    }\n",
              "\n",
              "    .dataframe thead th {\n",
              "        text-align: right;\n",
              "    }\n",
              "</style>\n",
              "<table border=\"1\" class=\"dataframe\">\n",
              "  <thead>\n",
              "    <tr style=\"text-align: right;\">\n",
              "      <th></th>\n",
              "      <th>0</th>\n",
              "      <th>1</th>\n",
              "      <th>2</th>\n",
              "      <th>3</th>\n",
              "      <th>4</th>\n",
              "      <th>5</th>\n",
              "      <th>6</th>\n",
              "      <th>7</th>\n",
              "      <th>8</th>\n",
              "      <th>9</th>\n",
              "      <th>...</th>\n",
              "      <th>775</th>\n",
              "      <th>776</th>\n",
              "      <th>777</th>\n",
              "      <th>778</th>\n",
              "      <th>779</th>\n",
              "      <th>780</th>\n",
              "      <th>781</th>\n",
              "      <th>782</th>\n",
              "      <th>783</th>\n",
              "      <th>label</th>\n",
              "    </tr>\n",
              "  </thead>\n",
              "  <tbody>\n",
              "    <tr>\n",
              "      <th>0</th>\n",
              "      <td>0</td>\n",
              "      <td>0</td>\n",
              "      <td>0</td>\n",
              "      <td>0</td>\n",
              "      <td>0</td>\n",
              "      <td>0</td>\n",
              "      <td>0</td>\n",
              "      <td>0</td>\n",
              "      <td>0</td>\n",
              "      <td>0</td>\n",
              "      <td>...</td>\n",
              "      <td>0</td>\n",
              "      <td>0</td>\n",
              "      <td>0</td>\n",
              "      <td>0</td>\n",
              "      <td>0</td>\n",
              "      <td>0</td>\n",
              "      <td>0</td>\n",
              "      <td>0</td>\n",
              "      <td>0</td>\n",
              "      <td>5</td>\n",
              "    </tr>\n",
              "    <tr>\n",
              "      <th>1</th>\n",
              "      <td>0</td>\n",
              "      <td>0</td>\n",
              "      <td>0</td>\n",
              "      <td>0</td>\n",
              "      <td>0</td>\n",
              "      <td>0</td>\n",
              "      <td>0</td>\n",
              "      <td>0</td>\n",
              "      <td>0</td>\n",
              "      <td>0</td>\n",
              "      <td>...</td>\n",
              "      <td>0</td>\n",
              "      <td>0</td>\n",
              "      <td>0</td>\n",
              "      <td>0</td>\n",
              "      <td>0</td>\n",
              "      <td>0</td>\n",
              "      <td>0</td>\n",
              "      <td>0</td>\n",
              "      <td>0</td>\n",
              "      <td>0</td>\n",
              "    </tr>\n",
              "    <tr>\n",
              "      <th>2</th>\n",
              "      <td>0</td>\n",
              "      <td>0</td>\n",
              "      <td>0</td>\n",
              "      <td>0</td>\n",
              "      <td>0</td>\n",
              "      <td>0</td>\n",
              "      <td>0</td>\n",
              "      <td>0</td>\n",
              "      <td>0</td>\n",
              "      <td>0</td>\n",
              "      <td>...</td>\n",
              "      <td>0</td>\n",
              "      <td>0</td>\n",
              "      <td>0</td>\n",
              "      <td>0</td>\n",
              "      <td>0</td>\n",
              "      <td>0</td>\n",
              "      <td>0</td>\n",
              "      <td>0</td>\n",
              "      <td>0</td>\n",
              "      <td>4</td>\n",
              "    </tr>\n",
              "    <tr>\n",
              "      <th>3</th>\n",
              "      <td>0</td>\n",
              "      <td>0</td>\n",
              "      <td>0</td>\n",
              "      <td>0</td>\n",
              "      <td>0</td>\n",
              "      <td>0</td>\n",
              "      <td>0</td>\n",
              "      <td>0</td>\n",
              "      <td>0</td>\n",
              "      <td>0</td>\n",
              "      <td>...</td>\n",
              "      <td>0</td>\n",
              "      <td>0</td>\n",
              "      <td>0</td>\n",
              "      <td>0</td>\n",
              "      <td>0</td>\n",
              "      <td>0</td>\n",
              "      <td>0</td>\n",
              "      <td>0</td>\n",
              "      <td>0</td>\n",
              "      <td>1</td>\n",
              "    </tr>\n",
              "    <tr>\n",
              "      <th>4</th>\n",
              "      <td>0</td>\n",
              "      <td>0</td>\n",
              "      <td>0</td>\n",
              "      <td>0</td>\n",
              "      <td>0</td>\n",
              "      <td>0</td>\n",
              "      <td>0</td>\n",
              "      <td>0</td>\n",
              "      <td>0</td>\n",
              "      <td>0</td>\n",
              "      <td>...</td>\n",
              "      <td>0</td>\n",
              "      <td>0</td>\n",
              "      <td>0</td>\n",
              "      <td>0</td>\n",
              "      <td>0</td>\n",
              "      <td>0</td>\n",
              "      <td>0</td>\n",
              "      <td>0</td>\n",
              "      <td>0</td>\n",
              "      <td>9</td>\n",
              "    </tr>\n",
              "  </tbody>\n",
              "</table>\n",
              "<p>5 rows × 785 columns</p>\n",
              "</div>\n",
              "      <button class=\"colab-df-convert\" onclick=\"convertToInteractive('df-b26e3f0a-6765-42f0-8257-d65eb895fb5f')\"\n",
              "              title=\"Convert this dataframe to an interactive table.\"\n",
              "              style=\"display:none;\">\n",
              "        \n",
              "  <svg xmlns=\"http://www.w3.org/2000/svg\" height=\"24px\"viewBox=\"0 0 24 24\"\n",
              "       width=\"24px\">\n",
              "    <path d=\"M0 0h24v24H0V0z\" fill=\"none\"/>\n",
              "    <path d=\"M18.56 5.44l.94 2.06.94-2.06 2.06-.94-2.06-.94-.94-2.06-.94 2.06-2.06.94zm-11 1L8.5 8.5l.94-2.06 2.06-.94-2.06-.94L8.5 2.5l-.94 2.06-2.06.94zm10 10l.94 2.06.94-2.06 2.06-.94-2.06-.94-.94-2.06-.94 2.06-2.06.94z\"/><path d=\"M17.41 7.96l-1.37-1.37c-.4-.4-.92-.59-1.43-.59-.52 0-1.04.2-1.43.59L10.3 9.45l-7.72 7.72c-.78.78-.78 2.05 0 2.83L4 21.41c.39.39.9.59 1.41.59.51 0 1.02-.2 1.41-.59l7.78-7.78 2.81-2.81c.8-.78.8-2.07 0-2.86zM5.41 20L4 18.59l7.72-7.72 1.47 1.35L5.41 20z\"/>\n",
              "  </svg>\n",
              "      </button>\n",
              "      \n",
              "  <style>\n",
              "    .colab-df-container {\n",
              "      display:flex;\n",
              "      flex-wrap:wrap;\n",
              "      gap: 12px;\n",
              "    }\n",
              "\n",
              "    .colab-df-convert {\n",
              "      background-color: #E8F0FE;\n",
              "      border: none;\n",
              "      border-radius: 50%;\n",
              "      cursor: pointer;\n",
              "      display: none;\n",
              "      fill: #1967D2;\n",
              "      height: 32px;\n",
              "      padding: 0 0 0 0;\n",
              "      width: 32px;\n",
              "    }\n",
              "\n",
              "    .colab-df-convert:hover {\n",
              "      background-color: #E2EBFA;\n",
              "      box-shadow: 0px 1px 2px rgba(60, 64, 67, 0.3), 0px 1px 3px 1px rgba(60, 64, 67, 0.15);\n",
              "      fill: #174EA6;\n",
              "    }\n",
              "\n",
              "    [theme=dark] .colab-df-convert {\n",
              "      background-color: #3B4455;\n",
              "      fill: #D2E3FC;\n",
              "    }\n",
              "\n",
              "    [theme=dark] .colab-df-convert:hover {\n",
              "      background-color: #434B5C;\n",
              "      box-shadow: 0px 1px 3px 1px rgba(0, 0, 0, 0.15);\n",
              "      filter: drop-shadow(0px 1px 2px rgba(0, 0, 0, 0.3));\n",
              "      fill: #FFFFFF;\n",
              "    }\n",
              "  </style>\n",
              "\n",
              "      <script>\n",
              "        const buttonEl =\n",
              "          document.querySelector('#df-b26e3f0a-6765-42f0-8257-d65eb895fb5f button.colab-df-convert');\n",
              "        buttonEl.style.display =\n",
              "          google.colab.kernel.accessAllowed ? 'block' : 'none';\n",
              "\n",
              "        async function convertToInteractive(key) {\n",
              "          const element = document.querySelector('#df-b26e3f0a-6765-42f0-8257-d65eb895fb5f');\n",
              "          const dataTable =\n",
              "            await google.colab.kernel.invokeFunction('convertToInteractive',\n",
              "                                                     [key], {});\n",
              "          if (!dataTable) return;\n",
              "\n",
              "          const docLinkHtml = 'Like what you see? Visit the ' +\n",
              "            '<a target=\"_blank\" href=https://colab.research.google.com/notebooks/data_table.ipynb>data table notebook</a>'\n",
              "            + ' to learn more about interactive tables.';\n",
              "          element.innerHTML = '';\n",
              "          dataTable['output_type'] = 'display_data';\n",
              "          await google.colab.output.renderOutput(dataTable, element);\n",
              "          const docLink = document.createElement('div');\n",
              "          docLink.innerHTML = docLinkHtml;\n",
              "          element.appendChild(docLink);\n",
              "        }\n",
              "      </script>\n",
              "    </div>\n",
              "  </div>\n",
              "  "
            ]
          },
          "metadata": {},
          "execution_count": 4
        }
      ],
      "source": [
        "# converting these ndarray into pandas dataframe\n",
        "training_data = pd.DataFrame(train_images.reshape(60000, 784))\n",
        "testing_data = pd.DataFrame(test_images.reshape(10000, 784))\n",
        "training_data['label'] = train_labels\n",
        "testing_data['label'] = test_labels\n",
        "training_data.head()"
      ]
    },
    {
      "cell_type": "code",
      "source": [
        "labels = list(np.sort(training_data['label'].unique()))\n",
        "print(labels)"
      ],
      "metadata": {
        "colab": {
          "base_uri": "https://localhost:8080/"
        },
        "id": "fPDx7S7LbvZt",
        "outputId": "9ae2a8c5-7dae-45ca-f562-1a740bfc4724"
      },
      "execution_count": null,
      "outputs": [
        {
          "output_type": "stream",
          "name": "stdout",
          "text": [
            "[0, 1, 2, 3, 4, 5, 6, 7, 8, 9]\n"
          ]
        }
      ]
    },
    {
      "cell_type": "code",
      "source": [
        "# showing the count of each label in the training dataset\n",
        "sns.countplot(training_data[\"label\"])"
      ],
      "metadata": {
        "colab": {
          "base_uri": "https://localhost:8080/",
          "height": 298
        },
        "id": "oN68gcuucVmJ",
        "outputId": "314a9500-0871-48b3-a2c6-a3c8e19cd3bc"
      },
      "execution_count": null,
      "outputs": [
        {
          "output_type": "execute_result",
          "data": {
            "text/plain": [
              "<matplotlib.axes._subplots.AxesSubplot at 0x7f62764bba10>"
            ]
          },
          "metadata": {},
          "execution_count": 6
        },
        {
          "output_type": "display_data",
          "data": {
            "text/plain": [
              "<Figure size 432x288 with 1 Axes>"
            ],
            "image/png": "[encoded data removed]"
          },
          "metadata": {
            "needs_background": "light"
          }
        }
      ]
    },
    {
      "cell_type": "code",
      "execution_count": null,
      "metadata": {
        "colab": {
          "base_uri": "https://localhost:8080/",
          "height": 146
        },
        "id": "-wRoHBJwia0c",
        "outputId": "36b1c5b6-0012-48eb-e50e-c27206edbf5b"
      },
      "outputs": [
        {
          "output_type": "display_data",
          "data": {
            "text/plain": [
              "<Figure size 720x720 with 5 Axes>"
            ],
            "image/png": "[encoded data removed]"
          },
          "metadata": {
            "needs_background": "light"
          }
        }
      ],
      "source": [
        "# printing first five images of the training dataset\n",
        "plt.figure(figsize=(10, 10))\n",
        "\n",
        "for i in range(5):\n",
        "  plt.subplot(1, 5, i+1)\n",
        "  plt.imshow(training_data.iloc[i+1, :-1].values.reshape((28, 28)), cmap='gray')\n",
        "\n",
        "plt.show()"
      ]
    },
    {
      "cell_type": "markdown",
      "source": [
        "**Data Preprocessing**"
      ],
      "metadata": {
        "id": "XWyE744snYBV"
      }
    },
    {
      "cell_type": "code",
      "source": [
        "X = training_data.drop(columns = ['label'], axis=1)\n",
        "Y = training_data['label']"
      ],
      "metadata": {
        "id": "FGBfOtYqnVMF"
      },
      "execution_count": null,
      "outputs": []
    },
    {
      "cell_type": "code",
      "source": [
        "# Normalizing and Scaling the data\n",
        "from sklearn.preprocessing import scale\n",
        "\n",
        "X = X/255.0\n",
        "x_scaled = scale(X)"
      ],
      "metadata": {
        "id": "Dzu0xzqJnsZs"
      },
      "execution_count": null,
      "outputs": []
    },
    {
      "cell_type": "markdown",
      "source": [
        "Splitting the scaled X into training and testing dataset."
      ],
      "metadata": {
        "id": "DP84Wjj3M4MO"
      }
    },
    {
      "cell_type": "code",
      "execution_count": null,
      "metadata": {
        "id": "DbOrnb-2v0b5"
      },
      "outputs": [],
      "source": [
        "x_train, x_test, y_train, y_test = train_test_split(x_scaled, Y, test_size = 0.3, random_state=0)"
      ]
    },
    {
      "cell_type": "code",
      "source": [
        "print(f\"X-Train Shape: {x_train.shape}\")\n",
        "print(f\"X-Test Shape: {x_test.shape}\")"
      ],
      "metadata": {
        "colab": {
          "base_uri": "https://localhost:8080/"
        },
        "id": "2800OQPcdwVP",
        "outputId": "f2ee354b-4439-443c-ffcb-837d2b4380be"
      },
      "execution_count": null,
      "outputs": [
        {
          "output_type": "stream",
          "name": "stdout",
          "text": [
            "X-Train Shape: (42000, 784)\n",
            "X-Test Shape: (18000, 784)\n"
          ]
        }
      ]
    },
    {
      "cell_type": "code",
      "execution_count": null,
      "metadata": {
        "colab": {
          "base_uri": "https://localhost:8080/"
        },
        "id": "D-d-byJrjsly",
        "outputId": "f04ba81a-ac0c-473a-9789-7f8dcc0b1816"
      },
      "outputs": [
        {
          "output_type": "execute_result",
          "data": {
            "text/plain": [
              "SVC(kernel='linear')"
            ]
          },
          "metadata": {},
          "execution_count": 15
        }
      ],
      "source": [
        "# building the linear svm classifier\n",
        "svm_classifier = svm.SVC(kernel='linear')\n",
        "svm_classifier.fit(x_train, y_train)"
      ]
    },
    {
      "cell_type": "markdown",
      "source": [
        "**ii) Show the predictions for first twenty values of your test dataset. Display the confusion matrix.**"
      ],
      "metadata": {
        "id": "RPfHP05o1z6S"
      }
    },
    {
      "cell_type": "code",
      "source": [
        "# showing the predictions of first 20 values\n",
        "y_predicted = []\n",
        "\n",
        "for i in range(20):\n",
        "  pred_i = svm_classifier.predict(x_test[i].reshape(1, -1))\n",
        "  y_predicted.append(pred_i[0])\n",
        "\n",
        "pred_comp = {'Testing Data Label': y_test[:20], 'Model Prediction': y_predicted}\n",
        "prediction_table = pd.DataFrame(pred_comp)\n",
        "\n",
        "prediction_table"
      ],
      "metadata": {
        "colab": {
          "base_uri": "https://localhost:8080/",
          "height": 677
        },
        "id": "uyWQDODFeqJP",
        "outputId": "040a1f0e-819f-4503-99bf-20b8e6a51dbe"
      },
      "execution_count": null,
      "outputs": [
        {
          "output_type": "execute_result",
          "data": {
            "text/plain": [
              "       Testing Data Label  Model Prediction\n",
              "3048                    3                 3\n",
              "19563                   6                 6\n",
              "58303                   6                 6\n",
              "8870                    6                 6\n",
              "40228                   0                 0\n",
              "31488                   3                 3\n",
              "21860                   6                 6\n",
              "56864                   2                 2\n",
              "845                     5                 5\n",
              "25770                   6                 6\n",
              "50959                   5                 5\n",
              "56085                   8                 8\n",
              "5007                    0                 0\n",
              "40115                   0                 0\n",
              "38310                   0                 0\n",
              "33623                   1                 1\n",
              "4212                    2                 2\n",
              "40881                   2                 2\n",
              "54592                   9                 9\n",
              "43759                   3                 3"
            ],
            "text/html": [
              "\n",
              "  <div id=\"df-e401520b-d63f-45ba-9c10-3e57c99c7e2d\">\n",
              "    <div class=\"colab-df-container\">\n",
              "      <div>\n",
              "<style scoped>\n",
              "    .dataframe tbody tr th:only-of-type {\n",
              "        vertical-align: middle;\n",
              "    }\n",
              "\n",
              "    .dataframe tbody tr th {\n",
              "        vertical-align: top;\n",
              "    }\n",
              "\n",
              "    .dataframe thead th {\n",
              "        text-align: right;\n",
              "    }\n",
              "</style>\n",
              "<table border=\"1\" class=\"dataframe\">\n",
              "  <thead>\n",
              "    <tr style=\"text-align: right;\">\n",
              "      <th></th>\n",
              "      <th>Testing Data Label</th>\n",
              "      <th>Model Prediction</th>\n",
              "    </tr>\n",
              "  </thead>\n",
              "  <tbody>\n",
              "    <tr>\n",
              "      <th>3048</th>\n",
              "      <td>3</td>\n",
              "      <td>3</td>\n",
              "    </tr>\n",
              "    <tr>\n",
              "      <th>19563</th>\n",
              "      <td>6</td>\n",
              "      <td>6</td>\n",
              "    </tr>\n",
              "    <tr>\n",
              "      <th>58303</th>\n",
              "      <td>6</td>\n",
              "      <td>6</td>\n",
              "    </tr>\n",
              "    <tr>\n",
              "      <th>8870</th>\n",
              "      <td>6</td>\n",
              "      <td>6</td>\n",
              "    </tr>\n",
              "    <tr>\n",
              "      <th>40228</th>\n",
              "      <td>0</td>\n",
              "      <td>0</td>\n",
              "    </tr>\n",
              "    <tr>\n",
              "      <th>31488</th>\n",
              "      <td>3</td>\n",
              "      <td>3</td>\n",
              "    </tr>\n",
              "    <tr>\n",
              "      <th>21860</th>\n",
              "      <td>6</td>\n",
              "      <td>6</td>\n",
              "    </tr>\n",
              "    <tr>\n",
              "      <th>56864</th>\n",
              "      <td>2</td>\n",
              "      <td>2</td>\n",
              "    </tr>\n",
              "    <tr>\n",
              "      <th>845</th>\n",
              "      <td>5</td>\n",
              "      <td>5</td>\n",
              "    </tr>\n",
              "    <tr>\n",
              "      <th>25770</th>\n",
              "      <td>6</td>\n",
              "      <td>6</td>\n",
              "    </tr>\n",
              "    <tr>\n",
              "      <th>50959</th>\n",
              "      <td>5</td>\n",
              "      <td>5</td>\n",
              "    </tr>\n",
              "    <tr>\n",
              "      <th>56085</th>\n",
              "      <td>8</td>\n",
              "      <td>8</td>\n",
              "    </tr>\n",
              "    <tr>\n",
              "      <th>5007</th>\n",
              "      <td>0</td>\n",
              "      <td>0</td>\n",
              "    </tr>\n",
              "    <tr>\n",
              "      <th>40115</th>\n",
              "      <td>0</td>\n",
              "      <td>0</td>\n",
              "    </tr>\n",
              "    <tr>\n",
              "      <th>38310</th>\n",
              "      <td>0</td>\n",
              "      <td>0</td>\n",
              "    </tr>\n",
              "    <tr>\n",
              "      <th>33623</th>\n",
              "      <td>1</td>\n",
              "      <td>1</td>\n",
              "    </tr>\n",
              "    <tr>\n",
              "      <th>4212</th>\n",
              "      <td>2</td>\n",
              "      <td>2</td>\n",
              "    </tr>\n",
              "    <tr>\n",
              "      <th>40881</th>\n",
              "      <td>2</td>\n",
              "      <td>2</td>\n",
              "    </tr>\n",
              "    <tr>\n",
              "      <th>54592</th>\n",
              "      <td>9</td>\n",
              "      <td>9</td>\n",
              "    </tr>\n",
              "    <tr>\n",
              "      <th>43759</th>\n",
              "      <td>3</td>\n",
              "      <td>3</td>\n",
              "    </tr>\n",
              "  </tbody>\n",
              "</table>\n",
              "</div>\n",
              "      <button class=\"colab-df-convert\" onclick=\"convertToInteractive('df-e401520b-d63f-45ba-9c10-3e57c99c7e2d')\"\n",
              "              title=\"Convert this dataframe to an interactive table.\"\n",
              "              style=\"display:none;\">\n",
              "        \n",
              "  <svg xmlns=\"http://www.w3.org/2000/svg\" height=\"24px\"viewBox=\"0 0 24 24\"\n",
              "       width=\"24px\">\n",
              "    <path d=\"M0 0h24v24H0V0z\" fill=\"none\"/>\n",
              "    <path d=\"M18.56 5.44l.94 2.06.94-2.06 2.06-.94-2.06-.94-.94-2.06-.94 2.06-2.06.94zm-11 1L8.5 8.5l.94-2.06 2.06-.94-2.06-.94L8.5 2.5l-.94 2.06-2.06.94zm10 10l.94 2.06.94-2.06 2.06-.94-2.06-.94-.94-2.06-.94 2.06-2.06.94z\"/><path d=\"M17.41 7.96l-1.37-1.37c-.4-.4-.92-.59-1.43-.59-.52 0-1.04.2-1.43.59L10.3 9.45l-7.72 7.72c-.78.78-.78 2.05 0 2.83L4 21.41c.39.39.9.59 1.41.59.51 0 1.02-.2 1.41-.59l7.78-7.78 2.81-2.81c.8-.78.8-2.07 0-2.86zM5.41 20L4 18.59l7.72-7.72 1.47 1.35L5.41 20z\"/>\n",
              "  </svg>\n",
              "      </button>\n",
              "      \n",
              "  <style>\n",
              "    .colab-df-container {\n",
              "      display:flex;\n",
              "      flex-wrap:wrap;\n",
              "      gap: 12px;\n",
              "    }\n",
              "\n",
              "    .colab-df-convert {\n",
              "      background-color: #E8F0FE;\n",
              "      border: none;\n",
              "      border-radius: 50%;\n",
              "      cursor: pointer;\n",
              "      display: none;\n",
              "      fill: #1967D2;\n",
              "      height: 32px;\n",
              "      padding: 0 0 0 0;\n",
              "      width: 32px;\n",
              "    }\n",
              "\n",
              "    .colab-df-convert:hover {\n",
              "      background-color: #E2EBFA;\n",
              "      box-shadow: 0px 1px 2px rgba(60, 64, 67, 0.3), 0px 1px 3px 1px rgba(60, 64, 67, 0.15);\n",
              "      fill: #174EA6;\n",
              "    }\n",
              "\n",
              "    [theme=dark] .colab-df-convert {\n",
              "      background-color: #3B4455;\n",
              "      fill: #D2E3FC;\n",
              "    }\n",
              "\n",
              "    [theme=dark] .colab-df-convert:hover {\n",
              "      background-color: #434B5C;\n",
              "      box-shadow: 0px 1px 3px 1px rgba(0, 0, 0, 0.15);\n",
              "      filter: drop-shadow(0px 1px 2px rgba(0, 0, 0, 0.3));\n",
              "      fill: #FFFFFF;\n",
              "    }\n",
              "  </style>\n",
              "\n",
              "      <script>\n",
              "        const buttonEl =\n",
              "          document.querySelector('#df-e401520b-d63f-45ba-9c10-3e57c99c7e2d button.colab-df-convert');\n",
              "        buttonEl.style.display =\n",
              "          google.colab.kernel.accessAllowed ? 'block' : 'none';\n",
              "\n",
              "        async function convertToInteractive(key) {\n",
              "          const element = document.querySelector('#df-e401520b-d63f-45ba-9c10-3e57c99c7e2d');\n",
              "          const dataTable =\n",
              "            await google.colab.kernel.invokeFunction('convertToInteractive',\n",
              "                                                     [key], {});\n",
              "          if (!dataTable) return;\n",
              "\n",
              "          const docLinkHtml = 'Like what you see? Visit the ' +\n",
              "            '<a target=\"_blank\" href=https://colab.research.google.com/notebooks/data_table.ipynb>data table notebook</a>'\n",
              "            + ' to learn more about interactive tables.';\n",
              "          element.innerHTML = '';\n",
              "          dataTable['output_type'] = 'display_data';\n",
              "          await google.colab.output.renderOutput(dataTable, element);\n",
              "          const docLink = document.createElement('div');\n",
              "          docLink.innerHTML = docLinkHtml;\n",
              "          element.appendChild(docLink);\n",
              "        }\n",
              "      </script>\n",
              "    </div>\n",
              "  </div>\n",
              "  "
            ]
          },
          "metadata": {},
          "execution_count": 22
        }
      ]
    },
    {
      "cell_type": "code",
      "source": [
        "y_predicted = svm_classifier.predict(x_test)"
      ],
      "metadata": {
        "id": "lqre9hkAEkW-"
      },
      "execution_count": null,
      "outputs": []
    },
    {
      "cell_type": "code",
      "source": [
        "# displaying the confusion matrix\n",
        "matrix = confusion_matrix(y_test, y_predicted)\n",
        "matrix"
      ],
      "metadata": {
        "colab": {
          "base_uri": "https://localhost:8080/"
        },
        "id": "czpxXc15pwXX",
        "outputId": "b1d220ee-b9b2-4d7f-bdd9-d12739df4036"
      },
      "execution_count": null,
      "outputs": [
        {
          "output_type": "execute_result",
          "data": {
            "text/plain": [
              "array([[1771,    1,    7,    0,    3,    9,   14,    2,    3,    2],\n",
              "       [   0, 2028,    8,    9,    1,    2,    0,    2,   19,    1],\n",
              "       [  15,   16, 1590,   34,   26,    8,   11,   16,   28,    5],\n",
              "       [  13,    8,   47, 1662,    0,   63,    1,   11,   29,   13],\n",
              "       [   0,    3,   21,    3, 1612,    7,    9,   15,    3,   57],\n",
              "       [  25,    7,   20,   57,   19, 1400,   13,    5,   34,   11],\n",
              "       [  11,    6,   24,    0,   16,   30, 1670,    1,    3,    0],\n",
              "       [   6,   10,   23,   28,   26,    3,    0, 1715,    9,   49],\n",
              "       [  20,   36,   41,   53,   11,   60,   13,    4, 1521,   28],\n",
              "       [   7,   11,   13,   16,   64,    6,    0,   55,   19, 1593]])"
            ]
          },
          "metadata": {},
          "execution_count": 24
        }
      ]
    },
    {
      "cell_type": "markdown",
      "source": [
        "**iii) Write your own function to calculate class-wise F1 score.**"
      ],
      "metadata": {
        "id": "lSsyc_84150O"
      }
    },
    {
      "cell_type": "code",
      "source": [
        "def precision_of_class(class_num):\n",
        "  summation = 0\n",
        "  for j in range(len(matrix)):\n",
        "    summation += matrix[j][class_num]\n",
        "\n",
        "  return matrix[class_num][class_num] / summation\n",
        "\n",
        "def recall_of_class(class_num):\n",
        "  summation = 0\n",
        "  for j in range(len(matrix)):\n",
        "    summation += matrix[class_num][j]\n",
        "\n",
        "  return matrix[class_num][class_num] / summation"
      ],
      "metadata": {
        "id": "r5wipUMWr2sK"
      },
      "execution_count": null,
      "outputs": []
    },
    {
      "cell_type": "code",
      "source": [
        "class_wise_f1_score = []\n",
        "\n",
        "for i in range(len(Y.unique())):\n",
        "  prec = precision_of_class(i)\n",
        "  recall = recall_of_class(i)\n",
        "  f1_score = (2*prec*recall) / (prec+recall)\n",
        "  class_wise_f1_score.append(f1_score)\n",
        "\n",
        "classwise_score = {'class': [0, 1, 2, 3, 4, 5, 6, 7, 8, 9], 'f1-score': class_wise_f1_score}\n",
        "scores = pd.DataFrame(classwise_score)\n",
        "scores"
      ],
      "metadata": {
        "colab": {
          "base_uri": "https://localhost:8080/",
          "height": 363
        },
        "id": "gHkX3PXTvc0F",
        "outputId": "076c427d-00e8-4f46-e290-677944c17fca"
      },
      "execution_count": null,
      "outputs": [
        {
          "output_type": "execute_result",
          "data": {
            "text/plain": [
              "   class  f1-score\n",
              "0      0  0.962500\n",
              "1      1  0.966635\n",
              "2      2  0.897544\n",
              "3      3  0.896198\n",
              "4      4  0.919042\n",
              "5      5  0.880780\n",
              "6      6  0.956472\n",
              "7      7  0.928281\n",
              "8      8  0.880463\n",
              "9      9  0.899238"
            ],
            "text/html": [
              "\n",
              "  <div id=\"df-38447f18-c9cc-4949-9c20-c95d3cf047e2\">\n",
              "    <div class=\"colab-df-container\">\n",
              "      <div>\n",
              "<style scoped>\n",
              "    .dataframe tbody tr th:only-of-type {\n",
              "        vertical-align: middle;\n",
              "    }\n",
              "\n",
              "    .dataframe tbody tr th {\n",
              "        vertical-align: top;\n",
              "    }\n",
              "\n",
              "    .dataframe thead th {\n",
              "        text-align: right;\n",
              "    }\n",
              "</style>\n",
              "<table border=\"1\" class=\"dataframe\">\n",
              "  <thead>\n",
              "    <tr style=\"text-align: right;\">\n",
              "      <th></th>\n",
              "      <th>class</th>\n",
              "      <th>f1-score</th>\n",
              "    </tr>\n",
              "  </thead>\n",
              "  <tbody>\n",
              "    <tr>\n",
              "      <th>0</th>\n",
              "      <td>0</td>\n",
              "      <td>0.962500</td>\n",
              "    </tr>\n",
              "    <tr>\n",
              "      <th>1</th>\n",
              "      <td>1</td>\n",
              "      <td>0.966635</td>\n",
              "    </tr>\n",
              "    <tr>\n",
              "      <th>2</th>\n",
              "      <td>2</td>\n",
              "      <td>0.897544</td>\n",
              "    </tr>\n",
              "    <tr>\n",
              "      <th>3</th>\n",
              "      <td>3</td>\n",
              "      <td>0.896198</td>\n",
              "    </tr>\n",
              "    <tr>\n",
              "      <th>4</th>\n",
              "      <td>4</td>\n",
              "      <td>0.919042</td>\n",
              "    </tr>\n",
              "    <tr>\n",
              "      <th>5</th>\n",
              "      <td>5</td>\n",
              "      <td>0.880780</td>\n",
              "    </tr>\n",
              "    <tr>\n",
              "      <th>6</th>\n",
              "      <td>6</td>\n",
              "      <td>0.956472</td>\n",
              "    </tr>\n",
              "    <tr>\n",
              "      <th>7</th>\n",
              "      <td>7</td>\n",
              "      <td>0.928281</td>\n",
              "    </tr>\n",
              "    <tr>\n",
              "      <th>8</th>\n",
              "      <td>8</td>\n",
              "      <td>0.880463</td>\n",
              "    </tr>\n",
              "    <tr>\n",
              "      <th>9</th>\n",
              "      <td>9</td>\n",
              "      <td>0.899238</td>\n",
              "    </tr>\n",
              "  </tbody>\n",
              "</table>\n",
              "</div>\n",
              "      <button class=\"colab-df-convert\" onclick=\"convertToInteractive('df-38447f18-c9cc-4949-9c20-c95d3cf047e2')\"\n",
              "              title=\"Convert this dataframe to an interactive table.\"\n",
              "              style=\"display:none;\">\n",
              "        \n",
              "  <svg xmlns=\"http://www.w3.org/2000/svg\" height=\"24px\"viewBox=\"0 0 24 24\"\n",
              "       width=\"24px\">\n",
              "    <path d=\"M0 0h24v24H0V0z\" fill=\"none\"/>\n",
              "    <path d=\"M18.56 5.44l.94 2.06.94-2.06 2.06-.94-2.06-.94-.94-2.06-.94 2.06-2.06.94zm-11 1L8.5 8.5l.94-2.06 2.06-.94-2.06-.94L8.5 2.5l-.94 2.06-2.06.94zm10 10l.94 2.06.94-2.06 2.06-.94-2.06-.94-.94-2.06-.94 2.06-2.06.94z\"/><path d=\"M17.41 7.96l-1.37-1.37c-.4-.4-.92-.59-1.43-.59-.52 0-1.04.2-1.43.59L10.3 9.45l-7.72 7.72c-.78.78-.78 2.05 0 2.83L4 21.41c.39.39.9.59 1.41.59.51 0 1.02-.2 1.41-.59l7.78-7.78 2.81-2.81c.8-.78.8-2.07 0-2.86zM5.41 20L4 18.59l7.72-7.72 1.47 1.35L5.41 20z\"/>\n",
              "  </svg>\n",
              "      </button>\n",
              "      \n",
              "  <style>\n",
              "    .colab-df-container {\n",
              "      display:flex;\n",
              "      flex-wrap:wrap;\n",
              "      gap: 12px;\n",
              "    }\n",
              "\n",
              "    .colab-df-convert {\n",
              "      background-color: #E8F0FE;\n",
              "      border: none;\n",
              "      border-radius: 50%;\n",
              "      cursor: pointer;\n",
              "      display: none;\n",
              "      fill: #1967D2;\n",
              "      height: 32px;\n",
              "      padding: 0 0 0 0;\n",
              "      width: 32px;\n",
              "    }\n",
              "\n",
              "    .colab-df-convert:hover {\n",
              "      background-color: #E2EBFA;\n",
              "      box-shadow: 0px 1px 2px rgba(60, 64, 67, 0.3), 0px 1px 3px 1px rgba(60, 64, 67, 0.15);\n",
              "      fill: #174EA6;\n",
              "    }\n",
              "\n",
              "    [theme=dark] .colab-df-convert {\n",
              "      background-color: #3B4455;\n",
              "      fill: #D2E3FC;\n",
              "    }\n",
              "\n",
              "    [theme=dark] .colab-df-convert:hover {\n",
              "      background-color: #434B5C;\n",
              "      box-shadow: 0px 1px 3px 1px rgba(0, 0, 0, 0.15);\n",
              "      filter: drop-shadow(0px 1px 2px rgba(0, 0, 0, 0.3));\n",
              "      fill: #FFFFFF;\n",
              "    }\n",
              "  </style>\n",
              "\n",
              "      <script>\n",
              "        const buttonEl =\n",
              "          document.querySelector('#df-38447f18-c9cc-4949-9c20-c95d3cf047e2 button.colab-df-convert');\n",
              "        buttonEl.style.display =\n",
              "          google.colab.kernel.accessAllowed ? 'block' : 'none';\n",
              "\n",
              "        async function convertToInteractive(key) {\n",
              "          const element = document.querySelector('#df-38447f18-c9cc-4949-9c20-c95d3cf047e2');\n",
              "          const dataTable =\n",
              "            await google.colab.kernel.invokeFunction('convertToInteractive',\n",
              "                                                     [key], {});\n",
              "          if (!dataTable) return;\n",
              "\n",
              "          const docLinkHtml = 'Like what you see? Visit the ' +\n",
              "            '<a target=\"_blank\" href=https://colab.research.google.com/notebooks/data_table.ipynb>data table notebook</a>'\n",
              "            + ' to learn more about interactive tables.';\n",
              "          element.innerHTML = '';\n",
              "          dataTable['output_type'] = 'display_data';\n",
              "          await google.colab.output.renderOutput(dataTable, element);\n",
              "          const docLink = document.createElement('div');\n",
              "          docLink.innerHTML = docLinkHtml;\n",
              "          element.appendChild(docLink);\n",
              "        }\n",
              "      </script>\n",
              "    </div>\n",
              "  </div>\n",
              "  "
            ]
          },
          "metadata": {},
          "execution_count": 26
        }
      ]
    },
    {
      "cell_type": "markdown",
      "source": [
        "**iv) Check the F1 scores using sklearn inbuilt function and compare the value with the F1 scores returned by your function written from scratch. Also, report the accuracy.**"
      ],
      "metadata": {
        "id": "zhkQtobx2ALv"
      }
    },
    {
      "cell_type": "code",
      "source": [
        "from sklearn.metrics import classification_report\n",
        "\n",
        "print(classification_report(y_test, y_predicted))"
      ],
      "metadata": {
        "colab": {
          "base_uri": "https://localhost:8080/"
        },
        "id": "i2kOfB-cv6GR",
        "outputId": "b3f020b4-4d47-4d39-e63a-1afa123e97e1"
      },
      "execution_count": null,
      "outputs": [
        {
          "output_type": "stream",
          "name": "stdout",
          "text": [
            "              precision    recall  f1-score   support\n",
            "\n",
            "           0       0.95      0.98      0.96      1812\n",
            "           1       0.95      0.98      0.97      2070\n",
            "           2       0.89      0.91      0.90      1749\n",
            "           3       0.89      0.90      0.90      1847\n",
            "           4       0.91      0.93      0.92      1730\n",
            "           5       0.88      0.88      0.88      1591\n",
            "           6       0.96      0.95      0.96      1761\n",
            "           7       0.94      0.92      0.93      1869\n",
            "           8       0.91      0.85      0.88      1787\n",
            "           9       0.91      0.89      0.90      1784\n",
            "\n",
            "    accuracy                           0.92     18000\n",
            "   macro avg       0.92      0.92      0.92     18000\n",
            "weighted avg       0.92      0.92      0.92     18000\n",
            "\n"
          ]
        }
      ]
    },
    {
      "cell_type": "markdown",
      "source": [
        "- The f1-score obtained by my own function, and the function from sklearn library are pretty much equal.\n",
        "\n",
        "- Here the accuracy obtained by our model is around 92.00 %, which is pretty good with SVM Linear Kernal Classifier."
      ],
      "metadata": {
        "id": "kd93K3Vl1FJO"
      }
    },
    {
      "cell_type": "markdown",
      "source": [
        "# **b) Non linear SVM**\n",
        "**Build non-linear models with the RBF kernel as well as polynomial kernel. Report the accuracy.**"
      ],
      "metadata": {
        "id": "-dc5ucZr1ifO"
      }
    },
    {
      "cell_type": "code",
      "source": [
        "# creating the classifier with rbf kernel using default hyperparameters\n",
        "rbf_classifier = svm.SVC(kernel='rbf')\n",
        "rbf_classifier.fit(x_train, y_train)"
      ],
      "metadata": {
        "colab": {
          "base_uri": "https://localhost:8080/"
        },
        "id": "eAZxtncu1EVQ",
        "outputId": "6f08ffed-3430-4cf5-9131-2e71cf9da25e"
      },
      "execution_count": null,
      "outputs": [
        {
          "output_type": "execute_result",
          "data": {
            "text/plain": [
              "SVC()"
            ]
          },
          "metadata": {},
          "execution_count": 28
        }
      ]
    },
    {
      "cell_type": "code",
      "source": [
        "# creating the classifier with poly kernel using default hyperparameters\n",
        "poly_classifier = svm.SVC(kernel='poly')\n",
        "poly_classifier.fit(x_train, y_train)"
      ],
      "metadata": {
        "colab": {
          "base_uri": "https://localhost:8080/"
        },
        "id": "2EL3Ri0Zxjgk",
        "outputId": "7280d34f-e704-45bd-c4a0-71fa6fdf57bf"
      },
      "execution_count": null,
      "outputs": [
        {
          "output_type": "execute_result",
          "data": {
            "text/plain": [
              "SVC(kernel='poly')"
            ]
          },
          "metadata": {},
          "execution_count": 29
        }
      ]
    },
    {
      "cell_type": "code",
      "source": [
        "# making prediction from both the models\n",
        "rbf_prediction = rbf_classifier.predict(x_test)\n",
        "poly_prediction = poly_classifier.predict(x_test)"
      ],
      "metadata": {
        "id": "ZI-hOMLnGPNk"
      },
      "execution_count": null,
      "outputs": []
    },
    {
      "cell_type": "code",
      "source": [
        "from sklearn.metrics import accuracy_score\n",
        "\n",
        "accuracies = {'RBF Kernel': [accuracy_score(y_test, rbf_prediction)*100], \n",
        "              'Poly Kernel': [accuracy_score(y_test, poly_prediction)*100]}"
      ],
      "metadata": {
        "id": "fgDqfhN23-hD"
      },
      "execution_count": null,
      "outputs": []
    },
    {
      "cell_type": "code",
      "source": [
        "accuracy_table = pd.DataFrame(accuracies)\n",
        "accuracy_table"
      ],
      "metadata": {
        "colab": {
          "base_uri": "https://localhost:8080/",
          "height": 81
        },
        "id": "6RquJqBr687v",
        "outputId": "0270205f-e3ca-4925-fe63-0050265f2a6c"
      },
      "execution_count": null,
      "outputs": [
        {
          "output_type": "execute_result",
          "data": {
            "text/plain": [
              "   RBF Kernel  Poly Kernel\n",
              "0   96.127778    95.533333"
            ],
            "text/html": [
              "\n",
              "  <div id=\"df-d70b3910-79b0-451d-b1e0-a5313274fc27\">\n",
              "    <div class=\"colab-df-container\">\n",
              "      <div>\n",
              "<style scoped>\n",
              "    .dataframe tbody tr th:only-of-type {\n",
              "        vertical-align: middle;\n",
              "    }\n",
              "\n",
              "    .dataframe tbody tr th {\n",
              "        vertical-align: top;\n",
              "    }\n",
              "\n",
              "    .dataframe thead th {\n",
              "        text-align: right;\n",
              "    }\n",
              "</style>\n",
              "<table border=\"1\" class=\"dataframe\">\n",
              "  <thead>\n",
              "    <tr style=\"text-align: right;\">\n",
              "      <th></th>\n",
              "      <th>RBF Kernel</th>\n",
              "      <th>Poly Kernel</th>\n",
              "    </tr>\n",
              "  </thead>\n",
              "  <tbody>\n",
              "    <tr>\n",
              "      <th>0</th>\n",
              "      <td>96.127778</td>\n",
              "      <td>95.533333</td>\n",
              "    </tr>\n",
              "  </tbody>\n",
              "</table>\n",
              "</div>\n",
              "      <button class=\"colab-df-convert\" onclick=\"convertToInteractive('df-d70b3910-79b0-451d-b1e0-a5313274fc27')\"\n",
              "              title=\"Convert this dataframe to an interactive table.\"\n",
              "              style=\"display:none;\">\n",
              "        \n",
              "  <svg xmlns=\"http://www.w3.org/2000/svg\" height=\"24px\"viewBox=\"0 0 24 24\"\n",
              "       width=\"24px\">\n",
              "    <path d=\"M0 0h24v24H0V0z\" fill=\"none\"/>\n",
              "    <path d=\"M18.56 5.44l.94 2.06.94-2.06 2.06-.94-2.06-.94-.94-2.06-.94 2.06-2.06.94zm-11 1L8.5 8.5l.94-2.06 2.06-.94-2.06-.94L8.5 2.5l-.94 2.06-2.06.94zm10 10l.94 2.06.94-2.06 2.06-.94-2.06-.94-.94-2.06-.94 2.06-2.06.94z\"/><path d=\"M17.41 7.96l-1.37-1.37c-.4-.4-.92-.59-1.43-.59-.52 0-1.04.2-1.43.59L10.3 9.45l-7.72 7.72c-.78.78-.78 2.05 0 2.83L4 21.41c.39.39.9.59 1.41.59.51 0 1.02-.2 1.41-.59l7.78-7.78 2.81-2.81c.8-.78.8-2.07 0-2.86zM5.41 20L4 18.59l7.72-7.72 1.47 1.35L5.41 20z\"/>\n",
              "  </svg>\n",
              "      </button>\n",
              "      \n",
              "  <style>\n",
              "    .colab-df-container {\n",
              "      display:flex;\n",
              "      flex-wrap:wrap;\n",
              "      gap: 12px;\n",
              "    }\n",
              "\n",
              "    .colab-df-convert {\n",
              "      background-color: #E8F0FE;\n",
              "      border: none;\n",
              "      border-radius: 50%;\n",
              "      cursor: pointer;\n",
              "      display: none;\n",
              "      fill: #1967D2;\n",
              "      height: 32px;\n",
              "      padding: 0 0 0 0;\n",
              "      width: 32px;\n",
              "    }\n",
              "\n",
              "    .colab-df-convert:hover {\n",
              "      background-color: #E2EBFA;\n",
              "      box-shadow: 0px 1px 2px rgba(60, 64, 67, 0.3), 0px 1px 3px 1px rgba(60, 64, 67, 0.15);\n",
              "      fill: #174EA6;\n",
              "    }\n",
              "\n",
              "    [theme=dark] .colab-df-convert {\n",
              "      background-color: #3B4455;\n",
              "      fill: #D2E3FC;\n",
              "    }\n",
              "\n",
              "    [theme=dark] .colab-df-convert:hover {\n",
              "      background-color: #434B5C;\n",
              "      box-shadow: 0px 1px 3px 1px rgba(0, 0, 0, 0.15);\n",
              "      filter: drop-shadow(0px 1px 2px rgba(0, 0, 0, 0.3));\n",
              "      fill: #FFFFFF;\n",
              "    }\n",
              "  </style>\n",
              "\n",
              "      <script>\n",
              "        const buttonEl =\n",
              "          document.querySelector('#df-d70b3910-79b0-451d-b1e0-a5313274fc27 button.colab-df-convert');\n",
              "        buttonEl.style.display =\n",
              "          google.colab.kernel.accessAllowed ? 'block' : 'none';\n",
              "\n",
              "        async function convertToInteractive(key) {\n",
              "          const element = document.querySelector('#df-d70b3910-79b0-451d-b1e0-a5313274fc27');\n",
              "          const dataTable =\n",
              "            await google.colab.kernel.invokeFunction('convertToInteractive',\n",
              "                                                     [key], {});\n",
              "          if (!dataTable) return;\n",
              "\n",
              "          const docLinkHtml = 'Like what you see? Visit the ' +\n",
              "            '<a target=\"_blank\" href=https://colab.research.google.com/notebooks/data_table.ipynb>data table notebook</a>'\n",
              "            + ' to learn more about interactive tables.';\n",
              "          element.innerHTML = '';\n",
              "          dataTable['output_type'] = 'display_data';\n",
              "          await google.colab.output.renderOutput(dataTable, element);\n",
              "          const docLink = document.createElement('div');\n",
              "          docLink.innerHTML = docLinkHtml;\n",
              "          element.appendChild(docLink);\n",
              "        }\n",
              "      </script>\n",
              "    </div>\n",
              "  </div>\n",
              "  "
            ]
          },
          "metadata": {},
          "execution_count": 32
        }
      ]
    },
    {
      "cell_type": "markdown",
      "source": [
        "**c) Perform (grid search) cross-validation to find the optimal values of cost C and gamma for SVM classifier using RBF kernel.**\n"
      ],
      "metadata": {
        "id": "PtcqxFB9AItw"
      }
    },
    {
      "cell_type": "code",
      "source": [
        "# applying PCA for dimensionality reduction, because it takes lot of time in grid search\n",
        "from sklearn.decomposition import PCA\n",
        "\n",
        "processed_data = pd.DataFrame(x_train)\n",
        "pca_model = PCA(n_components = 0.80)\n",
        "data = pca_model.fit_transform(processed_data)"
      ],
      "metadata": {
        "id": "qLBOAOXrQp65"
      },
      "execution_count": null,
      "outputs": []
    },
    {
      "cell_type": "code",
      "source": [
        "data.shape"
      ],
      "metadata": {
        "colab": {
          "base_uri": "https://localhost:8080/"
        },
        "id": "kgn0rWLmRpuX",
        "outputId": "8dfe94c3-c43c-4531-bb0b-36dbf3c98d2c"
      },
      "execution_count": null,
      "outputs": [
        {
          "output_type": "execute_result",
          "data": {
            "text/plain": [
              "(42000, 140)"
            ]
          },
          "metadata": {},
          "execution_count": 17
        }
      ]
    },
    {
      "cell_type": "code",
      "source": [
        "reduced_dataset = pd.DataFrame(data)\n",
        "reduced_dataset['label'] = y_train\n",
        "reduced_dataset.head()"
      ],
      "metadata": {
        "colab": {
          "base_uri": "https://localhost:8080/",
          "height": 300
        },
        "id": "TZxcGzbDKzZ9",
        "outputId": "c1810964-22d3-4ac4-8f04-ea0b5fb3a21e"
      },
      "execution_count": null,
      "outputs": [
        {
          "output_type": "execute_result",
          "data": {
            "text/plain": [
              "          0         1         2         3         4         5         6  \\\n",
              "0 -2.818953 -5.257245 -0.276456  4.011445  6.569181  0.027096  0.852662   \n",
              "1 -4.985507 -0.271959 -4.035402  2.530742 -1.835342  0.972457 -3.802692   \n",
              "2 -2.404508 -2.595961 -8.379749 -3.827354 -1.831875  5.190941 -7.000974   \n",
              "3 -7.308294 -1.284723 -3.909333 -1.250767  4.308795  6.033133 -6.205489   \n",
              "4  3.271329 -2.050515  8.316108  2.125373  3.187992 -3.014335  1.352964   \n",
              "\n",
              "          7         8         9  ...       131       132       133       134  \\\n",
              "0  0.706927 -3.683489  0.978087  ...  0.071599  1.123316 -0.968498  0.329977   \n",
              "1 -2.043783  1.543830 -0.120877  ... -0.047836 -0.548760 -0.777047  0.560171   \n",
              "2 -2.102937 -6.313696 -2.610938  ...  1.214034  0.056808  0.001613 -0.383091   \n",
              "3  2.562576  2.191859 -3.998556  ... -0.469001  1.260256  0.147380 -1.032593   \n",
              "4  5.367605  3.252662  3.710303  ...  0.045175 -0.737054 -0.389588  0.075294   \n",
              "\n",
              "        135       136       137       138       139  label  \n",
              "0 -1.417553  1.358999  0.472825  0.953890  0.674551    NaN  \n",
              "1  0.321243  0.123609  0.093359 -0.115647  0.677379    NaN  \n",
              "2  0.282509 -0.903816  0.159608  1.604001  0.272152    4.0  \n",
              "3 -0.859259 -1.659980  0.608684  0.789338 -0.229568    NaN  \n",
              "4 -0.837141 -0.116472  1.066709  1.220282 -0.661197    9.0  \n",
              "\n",
              "[5 rows x 141 columns]"
            ],
            "text/html": [
              "\n",
              "  <div id=\"df-0bd77762-80c3-4255-8445-573a5492c1c0\">\n",
              "    <div class=\"colab-df-container\">\n",
              "      <div>\n",
              "<style scoped>\n",
              "    .dataframe tbody tr th:only-of-type {\n",
              "        vertical-align: middle;\n",
              "    }\n",
              "\n",
              "    .dataframe tbody tr th {\n",
              "        vertical-align: top;\n",
              "    }\n",
              "\n",
              "    .dataframe thead th {\n",
              "        text-align: right;\n",
              "    }\n",
              "</style>\n",
              "<table border=\"1\" class=\"dataframe\">\n",
              "  <thead>\n",
              "    <tr style=\"text-align: right;\">\n",
              "      <th></th>\n",
              "      <th>0</th>\n",
              "      <th>1</th>\n",
              "      <th>2</th>\n",
              "      <th>3</th>\n",
              "      <th>4</th>\n",
              "      <th>5</th>\n",
              "      <th>6</th>\n",
              "      <th>7</th>\n",
              "      <th>8</th>\n",
              "      <th>9</th>\n",
              "      <th>...</th>\n",
              "      <th>131</th>\n",
              "      <th>132</th>\n",
              "      <th>133</th>\n",
              "      <th>134</th>\n",
              "      <th>135</th>\n",
              "      <th>136</th>\n",
              "      <th>137</th>\n",
              "      <th>138</th>\n",
              "      <th>139</th>\n",
              "      <th>label</th>\n",
              "    </tr>\n",
              "  </thead>\n",
              "  <tbody>\n",
              "    <tr>\n",
              "      <th>0</th>\n",
              "      <td>-2.818953</td>\n",
              "      <td>-5.257245</td>\n",
              "      <td>-0.276456</td>\n",
              "      <td>4.011445</td>\n",
              "      <td>6.569181</td>\n",
              "      <td>0.027096</td>\n",
              "      <td>0.852662</td>\n",
              "      <td>0.706927</td>\n",
              "      <td>-3.683489</td>\n",
              "      <td>0.978087</td>\n",
              "      <td>...</td>\n",
              "      <td>0.071599</td>\n",
              "      <td>1.123316</td>\n",
              "      <td>-0.968498</td>\n",
              "      <td>0.329977</td>\n",
              "      <td>-1.417553</td>\n",
              "      <td>1.358999</td>\n",
              "      <td>0.472825</td>\n",
              "      <td>0.953890</td>\n",
              "      <td>0.674551</td>\n",
              "      <td>NaN</td>\n",
              "    </tr>\n",
              "    <tr>\n",
              "      <th>1</th>\n",
              "      <td>-4.985507</td>\n",
              "      <td>-0.271959</td>\n",
              "      <td>-4.035402</td>\n",
              "      <td>2.530742</td>\n",
              "      <td>-1.835342</td>\n",
              "      <td>0.972457</td>\n",
              "      <td>-3.802692</td>\n",
              "      <td>-2.043783</td>\n",
              "      <td>1.543830</td>\n",
              "      <td>-0.120877</td>\n",
              "      <td>...</td>\n",
              "      <td>-0.047836</td>\n",
              "      <td>-0.548760</td>\n",
              "      <td>-0.777047</td>\n",
              "      <td>0.560171</td>\n",
              "      <td>0.321243</td>\n",
              "      <td>0.123609</td>\n",
              "      <td>0.093359</td>\n",
              "      <td>-0.115647</td>\n",
              "      <td>0.677379</td>\n",
              "      <td>NaN</td>\n",
              "    </tr>\n",
              "    <tr>\n",
              "      <th>2</th>\n",
              "      <td>-2.404508</td>\n",
              "      <td>-2.595961</td>\n",
              "      <td>-8.379749</td>\n",
              "      <td>-3.827354</td>\n",
              "      <td>-1.831875</td>\n",
              "      <td>5.190941</td>\n",
              "      <td>-7.000974</td>\n",
              "      <td>-2.102937</td>\n",
              "      <td>-6.313696</td>\n",
              "      <td>-2.610938</td>\n",
              "      <td>...</td>\n",
              "      <td>1.214034</td>\n",
              "      <td>0.056808</td>\n",
              "      <td>0.001613</td>\n",
              "      <td>-0.383091</td>\n",
              "      <td>0.282509</td>\n",
              "      <td>-0.903816</td>\n",
              "      <td>0.159608</td>\n",
              "      <td>1.604001</td>\n",
              "      <td>0.272152</td>\n",
              "      <td>4.0</td>\n",
              "    </tr>\n",
              "    <tr>\n",
              "      <th>3</th>\n",
              "      <td>-7.308294</td>\n",
              "      <td>-1.284723</td>\n",
              "      <td>-3.909333</td>\n",
              "      <td>-1.250767</td>\n",
              "      <td>4.308795</td>\n",
              "      <td>6.033133</td>\n",
              "      <td>-6.205489</td>\n",
              "      <td>2.562576</td>\n",
              "      <td>2.191859</td>\n",
              "      <td>-3.998556</td>\n",
              "      <td>...</td>\n",
              "      <td>-0.469001</td>\n",
              "      <td>1.260256</td>\n",
              "      <td>0.147380</td>\n",
              "      <td>-1.032593</td>\n",
              "      <td>-0.859259</td>\n",
              "      <td>-1.659980</td>\n",
              "      <td>0.608684</td>\n",
              "      <td>0.789338</td>\n",
              "      <td>-0.229568</td>\n",
              "      <td>NaN</td>\n",
              "    </tr>\n",
              "    <tr>\n",
              "      <th>4</th>\n",
              "      <td>3.271329</td>\n",
              "      <td>-2.050515</td>\n",
              "      <td>8.316108</td>\n",
              "      <td>2.125373</td>\n",
              "      <td>3.187992</td>\n",
              "      <td>-3.014335</td>\n",
              "      <td>1.352964</td>\n",
              "      <td>5.367605</td>\n",
              "      <td>3.252662</td>\n",
              "      <td>3.710303</td>\n",
              "      <td>...</td>\n",
              "      <td>0.045175</td>\n",
              "      <td>-0.737054</td>\n",
              "      <td>-0.389588</td>\n",
              "      <td>0.075294</td>\n",
              "      <td>-0.837141</td>\n",
              "      <td>-0.116472</td>\n",
              "      <td>1.066709</td>\n",
              "      <td>1.220282</td>\n",
              "      <td>-0.661197</td>\n",
              "      <td>9.0</td>\n",
              "    </tr>\n",
              "  </tbody>\n",
              "</table>\n",
              "<p>5 rows × 141 columns</p>\n",
              "</div>\n",
              "      <button class=\"colab-df-convert\" onclick=\"convertToInteractive('df-0bd77762-80c3-4255-8445-573a5492c1c0')\"\n",
              "              title=\"Convert this dataframe to an interactive table.\"\n",
              "              style=\"display:none;\">\n",
              "        \n",
              "  <svg xmlns=\"http://www.w3.org/2000/svg\" height=\"24px\"viewBox=\"0 0 24 24\"\n",
              "       width=\"24px\">\n",
              "    <path d=\"M0 0h24v24H0V0z\" fill=\"none\"/>\n",
              "    <path d=\"M18.56 5.44l.94 2.06.94-2.06 2.06-.94-2.06-.94-.94-2.06-.94 2.06-2.06.94zm-11 1L8.5 8.5l.94-2.06 2.06-.94-2.06-.94L8.5 2.5l-.94 2.06-2.06.94zm10 10l.94 2.06.94-2.06 2.06-.94-2.06-.94-.94-2.06-.94 2.06-2.06.94z\"/><path d=\"M17.41 7.96l-1.37-1.37c-.4-.4-.92-.59-1.43-.59-.52 0-1.04.2-1.43.59L10.3 9.45l-7.72 7.72c-.78.78-.78 2.05 0 2.83L4 21.41c.39.39.9.59 1.41.59.51 0 1.02-.2 1.41-.59l7.78-7.78 2.81-2.81c.8-.78.8-2.07 0-2.86zM5.41 20L4 18.59l7.72-7.72 1.47 1.35L5.41 20z\"/>\n",
              "  </svg>\n",
              "      </button>\n",
              "      \n",
              "  <style>\n",
              "    .colab-df-container {\n",
              "      display:flex;\n",
              "      flex-wrap:wrap;\n",
              "      gap: 12px;\n",
              "    }\n",
              "\n",
              "    .colab-df-convert {\n",
              "      background-color: #E8F0FE;\n",
              "      border: none;\n",
              "      border-radius: 50%;\n",
              "      cursor: pointer;\n",
              "      display: none;\n",
              "      fill: #1967D2;\n",
              "      height: 32px;\n",
              "      padding: 0 0 0 0;\n",
              "      width: 32px;\n",
              "    }\n",
              "\n",
              "    .colab-df-convert:hover {\n",
              "      background-color: #E2EBFA;\n",
              "      box-shadow: 0px 1px 2px rgba(60, 64, 67, 0.3), 0px 1px 3px 1px rgba(60, 64, 67, 0.15);\n",
              "      fill: #174EA6;\n",
              "    }\n",
              "\n",
              "    [theme=dark] .colab-df-convert {\n",
              "      background-color: #3B4455;\n",
              "      fill: #D2E3FC;\n",
              "    }\n",
              "\n",
              "    [theme=dark] .colab-df-convert:hover {\n",
              "      background-color: #434B5C;\n",
              "      box-shadow: 0px 1px 3px 1px rgba(0, 0, 0, 0.15);\n",
              "      filter: drop-shadow(0px 1px 2px rgba(0, 0, 0, 0.3));\n",
              "      fill: #FFFFFF;\n",
              "    }\n",
              "  </style>\n",
              "\n",
              "      <script>\n",
              "        const buttonEl =\n",
              "          document.querySelector('#df-0bd77762-80c3-4255-8445-573a5492c1c0 button.colab-df-convert');\n",
              "        buttonEl.style.display =\n",
              "          google.colab.kernel.accessAllowed ? 'block' : 'none';\n",
              "\n",
              "        async function convertToInteractive(key) {\n",
              "          const element = document.querySelector('#df-0bd77762-80c3-4255-8445-573a5492c1c0');\n",
              "          const dataTable =\n",
              "            await google.colab.kernel.invokeFunction('convertToInteractive',\n",
              "                                                     [key], {});\n",
              "          if (!dataTable) return;\n",
              "\n",
              "          const docLinkHtml = 'Like what you see? Visit the ' +\n",
              "            '<a target=\"_blank\" href=https://colab.research.google.com/notebooks/data_table.ipynb>data table notebook</a>'\n",
              "            + ' to learn more about interactive tables.';\n",
              "          element.innerHTML = '';\n",
              "          dataTable['output_type'] = 'display_data';\n",
              "          await google.colab.output.renderOutput(dataTable, element);\n",
              "          const docLink = document.createElement('div');\n",
              "          docLink.innerHTML = docLinkHtml;\n",
              "          element.appendChild(docLink);\n",
              "        }\n",
              "      </script>\n",
              "    </div>\n",
              "  </div>\n",
              "  "
            ]
          },
          "metadata": {},
          "execution_count": 18
        }
      ]
    },
    {
      "cell_type": "markdown",
      "source": [
        "Visualizing each class labels."
      ],
      "metadata": {
        "id": "t8iXllN-Oxzn"
      }
    },
    {
      "cell_type": "code",
      "source": [
        "sns.FacetGrid(reduced_dataset, hue = 'label', size = 4).map(sns.scatterplot, list(reduced_dataset.columns)[0], list(reduced_dataset.columns)[1]).add_legend()"
      ],
      "metadata": {
        "colab": {
          "base_uri": "https://localhost:8080/",
          "height": 314
        },
        "id": "OPNG4w7ILEG3",
        "outputId": "3f9e28c8-4d94-4925-88cc-4b20ca8a4ff2"
      },
      "execution_count": null,
      "outputs": [
        {
          "output_type": "execute_result",
          "data": {
            "text/plain": [
              "<seaborn.axisgrid.FacetGrid at 0x7f6275c7d4d0>"
            ]
          },
          "metadata": {},
          "execution_count": 19
        },
        {
          "output_type": "display_data",
          "data": {
            "text/plain": [
              "<Figure size 339.875x288 with 1 Axes>"
            ],
            "image/png": "[encoded data removed]"
          },
          "metadata": {
            "needs_background": "light"
          }
        }
      ]
    },
    {
      "cell_type": "markdown",
      "source": [
        "Now, I'm again splitting the PCA reduced dataset to reduce the number of rows because GridSearchCV is taking much long to find the best hyperparameters with 42000 rows."
      ],
      "metadata": {
        "id": "RPH-B-YsPKYF"
      }
    },
    {
      "cell_type": "code",
      "source": [
        "px_train, px_test, py_train, py_test = train_test_split(data, y_train, test_size = 0.30, random_state=0)"
      ],
      "metadata": {
        "id": "LlQgY_O1Se7W"
      },
      "execution_count": null,
      "outputs": []
    },
    {
      "cell_type": "code",
      "source": [
        "from sklearn.model_selection import GridSearchCV\n",
        "\n",
        "gscv = GridSearchCV(svm.SVC(),  {'C': [1, 10], \n",
        "                                 'gamma': [0.01, 0.1], \n",
        "                                 'kernel': ['rbf']}, cv = 2, verbose=1, n_jobs = -1)\n",
        "gscv.fit(px_train, py_train)"
      ],
      "metadata": {
        "colab": {
          "base_uri": "https://localhost:8080/"
        },
        "id": "Xj_40YL7_swE",
        "outputId": "2784f076-7f62-48f5-efaf-67faa13e9be0"
      },
      "execution_count": null,
      "outputs": [
        {
          "output_type": "stream",
          "name": "stdout",
          "text": [
            "Fitting 2 folds for each of 4 candidates, totalling 8 fits\n"
          ]
        },
        {
          "output_type": "execute_result",
          "data": {
            "text/plain": [
              "GridSearchCV(cv=2, estimator=SVC(), n_jobs=-1,\n",
              "             param_grid={'C': [1, 10], 'gamma': [0.01, 0.1], 'kernel': ['rbf']},\n",
              "             verbose=1)"
            ]
          },
          "metadata": {},
          "execution_count": 21
        }
      ]
    },
    {
      "cell_type": "code",
      "source": [
        "# Optimal Hyper-parameters\n",
        "optimal_params = gscv.best_params_\n",
        "optimal_params"
      ],
      "metadata": {
        "id": "MT3TrWL6BJJY",
        "colab": {
          "base_uri": "https://localhost:8080/"
        },
        "outputId": "54f77e23-e8e6-44bd-e07e-6b42dc64e42c"
      },
      "execution_count": null,
      "outputs": [
        {
          "output_type": "execute_result",
          "data": {
            "text/plain": [
              "{'C': 10, 'gamma': 0.01, 'kernel': 'rbf'}"
            ]
          },
          "metadata": {},
          "execution_count": 33
        }
      ]
    },
    {
      "cell_type": "markdown",
      "source": [
        "**d) Choose the best combination of C and gamma and build the final model with chosen hyperparameters. Display the confusion matrix and report the accuracy of the model.**"
      ],
      "metadata": {
        "id": "3HXoBKLtRopD"
      }
    },
    {
      "cell_type": "code",
      "source": [
        "optimized_model = svm.SVC(kernel='rbf', C=optimal_params['C'], gamma=optimal_params['gamma'])\n",
        "optimized_model.fit(px_train, py_train)"
      ],
      "metadata": {
        "colab": {
          "base_uri": "https://localhost:8080/"
        },
        "id": "4myIcUi0Rj18",
        "outputId": "e1783877-ff88-4783-827d-f1ea9d7c033e"
      },
      "execution_count": null,
      "outputs": [
        {
          "output_type": "execute_result",
          "data": {
            "text/plain": [
              "SVC(C=10, gamma=0.01)"
            ]
          },
          "metadata": {},
          "execution_count": 34
        }
      ]
    },
    {
      "cell_type": "code",
      "source": [
        "optimal_prediction = optimized_model.predict(px_test)"
      ],
      "metadata": {
        "id": "nImntwobTezc"
      },
      "execution_count": null,
      "outputs": []
    },
    {
      "cell_type": "code",
      "source": [
        "# printing the confusion matrix of the model\n",
        "optimal_matrix = confusion_matrix(py_test, optimal_prediction)\n",
        "print(optimal_matrix)"
      ],
      "metadata": {
        "colab": {
          "base_uri": "https://localhost:8080/"
        },
        "id": "02RmPFNaSNVe",
        "outputId": "301062fe-4be2-4e75-cffc-695612e64f1f"
      },
      "execution_count": null,
      "outputs": [
        {
          "output_type": "stream",
          "name": "stdout",
          "text": [
            "[[1115    0   60    1    0    0    5    1    0    0]\n",
            " [   1 1337   15    2    0    0    2    3    7    0]\n",
            " [   4    1 1223    1    1    1    0    1    2    0]\n",
            " [   0    1  140 1126    0    6    0    4   13    3]\n",
            " [   0    2   98    0 1198    1    3    3    0   13]\n",
            " [   1    0   73   17    1 1070    9    0    3    0]\n",
            " [   2    1  132    0    1    9 1148    0    3    0]\n",
            " [   0    4  148    0    3    0    0 1162    1    7]\n",
            " [   1    3   95    6    3    9    0    3 1092    5]\n",
            " [   0    1   72    5   13    2    1   16    3 1081]]\n"
          ]
        }
      ]
    },
    {
      "cell_type": "code",
      "source": [
        "# printing the accuracy of the model\n",
        "accuracy_sc = accuracy_score(py_test, optimal_prediction)*100\n",
        "print(accuracy_sc)"
      ],
      "metadata": {
        "colab": {
          "base_uri": "https://localhost:8080/"
        },
        "id": "YLerf3Lgbb7u",
        "outputId": "b32a27ef-635a-411c-fd6e-6d66ea81d44d"
      },
      "execution_count": null,
      "outputs": [
        {
          "output_type": "stream",
          "name": "stdout",
          "text": [
            "91.68253968253968\n"
          ]
        }
      ]
    },
    {
      "cell_type": "markdown",
      "source": [
        "Here, you can see that the accuracy score is very low as compared to the other models created above, regardless of taking the optimal hyper parameters from GridSearchCV still getting this much low accuracy. Why??\n",
        "\n",
        "Because in the above models, we are training our model on the actual data points. But it is taking so much long to train, so to reduce the time, I've reduced the dimensionality of the training dataset, and then fit the gridSearchCV model. After that training the optimal model on the pca_components, which are having high variance. Maybe this is the reason why my model gives less accuracy because of the PCA Components."
      ],
      "metadata": {
        "id": "mRmpKkU9fvFi"
      }
    },
    {
      "cell_type": "markdown",
      "source": [
        "**e) i) Develop a new training set by extracting the support vectors from the SVM fitted above for the chosen hyperparameters.**"
      ],
      "metadata": {
        "id": "acffpS70g9F8"
      }
    },
    {
      "cell_type": "code",
      "source": [
        "training_set = optimized_model.support_vectors_\n",
        "training_set"
      ],
      "metadata": {
        "colab": {
          "base_uri": "https://localhost:8080/"
        },
        "id": "NkTFBUhUYH7f",
        "outputId": "bdc9f315-803d-454e-c3c4-80ffb420b289"
      },
      "execution_count": null,
      "outputs": [
        {
          "output_type": "execute_result",
          "data": {
            "text/plain": [
              "array([[ 12.71900432,  -5.92453522,  -1.52903012, ...,  -0.76888998,\n",
              "         -0.31164533,  -1.05114531],\n",
              "       [ 15.09741554,  -2.36872653,  -1.59610739, ...,  -1.4848577 ,\n",
              "          0.60096637,   1.38365718],\n",
              "       [  8.51234012, -10.54455238,  -2.27601659, ...,  -0.13569849,\n",
              "          0.10180763,   1.38862837],\n",
              "       ...,\n",
              "       [ -5.36800555,  -4.09406546,  -3.76151664, ...,   0.11993116,\n",
              "         -0.05586201,  -0.58635491],\n",
              "       [ -5.96088318,   3.93023473,  -4.56583604, ...,   0.42317621,\n",
              "         -0.44967895,   0.58699145],\n",
              "       [  7.63720624,  11.22799594,  -6.62395026, ...,  -1.41550209,\n",
              "         -1.44898802,   0.72906114]])"
            ]
          },
          "metadata": {},
          "execution_count": 38
        }
      ]
    },
    {
      "cell_type": "code",
      "source": [
        "support_vec_label = optimized_model.predict(training_set)\n",
        "support_vec_label"
      ],
      "metadata": {
        "colab": {
          "base_uri": "https://localhost:8080/"
        },
        "id": "8VYdQYAbhoZm",
        "outputId": "e9a67bcf-d05d-4dd2-b0c9-0e416c5aeb45"
      },
      "execution_count": null,
      "outputs": [
        {
          "output_type": "execute_result",
          "data": {
            "text/plain": [
              "array([0, 0, 0, ..., 9, 9, 9], dtype=uint8)"
            ]
          },
          "metadata": {},
          "execution_count": 39
        }
      ]
    },
    {
      "cell_type": "code",
      "source": [
        "new_dataset = pd.DataFrame(training_set)\n",
        "new_dataset['label'] = support_vec_label\n",
        "new_dataset.head()"
      ],
      "metadata": {
        "colab": {
          "base_uri": "https://localhost:8080/",
          "height": 300
        },
        "id": "6id8Ao12h8NQ",
        "outputId": "1afd6ad1-b01a-4a55-d7df-e2977be4d048"
      },
      "execution_count": null,
      "outputs": [
        {
          "output_type": "execute_result",
          "data": {
            "text/plain": [
              "           0          1         2         3         4         5         6  \\\n",
              "0  12.719004  -5.924535 -1.529030  1.004168 -0.207361 -9.626808  1.706847   \n",
              "1  15.097416  -2.368727 -1.596107 -5.224176  7.288045 -7.438792 -5.483682   \n",
              "2   8.512340 -10.544552 -2.276017  1.425542 -1.887179 -1.756983  4.308035   \n",
              "3   6.774127  -4.556628 -1.287866 -1.145959  0.108702 -5.570231 -0.618212   \n",
              "4  10.469382  -5.453004 -7.016087  4.506718  9.756469 -6.085106 -1.338182   \n",
              "\n",
              "          7         8         9  ...       131       132       133       134  \\\n",
              "0  0.680517  2.360030  2.469117  ...  0.377501 -0.525120 -1.529953 -1.143007   \n",
              "1 -5.646047  1.352445  1.755674  ...  0.625736  0.140351 -0.791506 -0.167720   \n",
              "2  4.001390  2.077171 -1.023549  ... -0.824902 -0.942641  0.481866  1.676858   \n",
              "3  4.713424 -0.439075 -0.624340  ... -0.278280 -0.078332 -0.875194 -0.388209   \n",
              "4 -2.645584 -1.740389  0.981235  ... -0.887404 -0.792410  0.668109  1.014878   \n",
              "\n",
              "        135       136       137       138       139  label  \n",
              "0  0.406885  0.126632 -0.768890 -0.311645 -1.051145      0  \n",
              "1  0.393728  0.105850 -1.484858  0.600966  1.383657      0  \n",
              "2  0.569669 -0.601708 -0.135698  0.101808  1.388628      0  \n",
              "3  0.444647 -0.130466  0.055126  0.093974  1.695353      0  \n",
              "4 -1.218222  0.708405 -1.298953  0.546601  1.708785      0  \n",
              "\n",
              "[5 rows x 141 columns]"
            ],
            "text/html": [
              "\n",
              "  <div id=\"df-8237ce5f-a62f-4233-948f-7643c61d3348\">\n",
              "    <div class=\"colab-df-container\">\n",
              "      <div>\n",
              "<style scoped>\n",
              "    .dataframe tbody tr th:only-of-type {\n",
              "        vertical-align: middle;\n",
              "    }\n",
              "\n",
              "    .dataframe tbody tr th {\n",
              "        vertical-align: top;\n",
              "    }\n",
              "\n",
              "    .dataframe thead th {\n",
              "        text-align: right;\n",
              "    }\n",
              "</style>\n",
              "<table border=\"1\" class=\"dataframe\">\n",
              "  <thead>\n",
              "    <tr style=\"text-align: right;\">\n",
              "      <th></th>\n",
              "      <th>0</th>\n",
              "      <th>1</th>\n",
              "      <th>2</th>\n",
              "      <th>3</th>\n",
              "      <th>4</th>\n",
              "      <th>5</th>\n",
              "      <th>6</th>\n",
              "      <th>7</th>\n",
              "      <th>8</th>\n",
              "      <th>9</th>\n",
              "      <th>...</th>\n",
              "      <th>131</th>\n",
              "      <th>132</th>\n",
              "      <th>133</th>\n",
              "      <th>134</th>\n",
              "      <th>135</th>\n",
              "      <th>136</th>\n",
              "      <th>137</th>\n",
              "      <th>138</th>\n",
              "      <th>139</th>\n",
              "      <th>label</th>\n",
              "    </tr>\n",
              "  </thead>\n",
              "  <tbody>\n",
              "    <tr>\n",
              "      <th>0</th>\n",
              "      <td>12.719004</td>\n",
              "      <td>-5.924535</td>\n",
              "      <td>-1.529030</td>\n",
              "      <td>1.004168</td>\n",
              "      <td>-0.207361</td>\n",
              "      <td>-9.626808</td>\n",
              "      <td>1.706847</td>\n",
              "      <td>0.680517</td>\n",
              "      <td>2.360030</td>\n",
              "      <td>2.469117</td>\n",
              "      <td>...</td>\n",
              "      <td>0.377501</td>\n",
              "      <td>-0.525120</td>\n",
              "      <td>-1.529953</td>\n",
              "      <td>-1.143007</td>\n",
              "      <td>0.406885</td>\n",
              "      <td>0.126632</td>\n",
              "      <td>-0.768890</td>\n",
              "      <td>-0.311645</td>\n",
              "      <td>-1.051145</td>\n",
              "      <td>0</td>\n",
              "    </tr>\n",
              "    <tr>\n",
              "      <th>1</th>\n",
              "      <td>15.097416</td>\n",
              "      <td>-2.368727</td>\n",
              "      <td>-1.596107</td>\n",
              "      <td>-5.224176</td>\n",
              "      <td>7.288045</td>\n",
              "      <td>-7.438792</td>\n",
              "      <td>-5.483682</td>\n",
              "      <td>-5.646047</td>\n",
              "      <td>1.352445</td>\n",
              "      <td>1.755674</td>\n",
              "      <td>...</td>\n",
              "      <td>0.625736</td>\n",
              "      <td>0.140351</td>\n",
              "      <td>-0.791506</td>\n",
              "      <td>-0.167720</td>\n",
              "      <td>0.393728</td>\n",
              "      <td>0.105850</td>\n",
              "      <td>-1.484858</td>\n",
              "      <td>0.600966</td>\n",
              "      <td>1.383657</td>\n",
              "      <td>0</td>\n",
              "    </tr>\n",
              "    <tr>\n",
              "      <th>2</th>\n",
              "      <td>8.512340</td>\n",
              "      <td>-10.544552</td>\n",
              "      <td>-2.276017</td>\n",
              "      <td>1.425542</td>\n",
              "      <td>-1.887179</td>\n",
              "      <td>-1.756983</td>\n",
              "      <td>4.308035</td>\n",
              "      <td>4.001390</td>\n",
              "      <td>2.077171</td>\n",
              "      <td>-1.023549</td>\n",
              "      <td>...</td>\n",
              "      <td>-0.824902</td>\n",
              "      <td>-0.942641</td>\n",
              "      <td>0.481866</td>\n",
              "      <td>1.676858</td>\n",
              "      <td>0.569669</td>\n",
              "      <td>-0.601708</td>\n",
              "      <td>-0.135698</td>\n",
              "      <td>0.101808</td>\n",
              "      <td>1.388628</td>\n",
              "      <td>0</td>\n",
              "    </tr>\n",
              "    <tr>\n",
              "      <th>3</th>\n",
              "      <td>6.774127</td>\n",
              "      <td>-4.556628</td>\n",
              "      <td>-1.287866</td>\n",
              "      <td>-1.145959</td>\n",
              "      <td>0.108702</td>\n",
              "      <td>-5.570231</td>\n",
              "      <td>-0.618212</td>\n",
              "      <td>4.713424</td>\n",
              "      <td>-0.439075</td>\n",
              "      <td>-0.624340</td>\n",
              "      <td>...</td>\n",
              "      <td>-0.278280</td>\n",
              "      <td>-0.078332</td>\n",
              "      <td>-0.875194</td>\n",
              "      <td>-0.388209</td>\n",
              "      <td>0.444647</td>\n",
              "      <td>-0.130466</td>\n",
              "      <td>0.055126</td>\n",
              "      <td>0.093974</td>\n",
              "      <td>1.695353</td>\n",
              "      <td>0</td>\n",
              "    </tr>\n",
              "    <tr>\n",
              "      <th>4</th>\n",
              "      <td>10.469382</td>\n",
              "      <td>-5.453004</td>\n",
              "      <td>-7.016087</td>\n",
              "      <td>4.506718</td>\n",
              "      <td>9.756469</td>\n",
              "      <td>-6.085106</td>\n",
              "      <td>-1.338182</td>\n",
              "      <td>-2.645584</td>\n",
              "      <td>-1.740389</td>\n",
              "      <td>0.981235</td>\n",
              "      <td>...</td>\n",
              "      <td>-0.887404</td>\n",
              "      <td>-0.792410</td>\n",
              "      <td>0.668109</td>\n",
              "      <td>1.014878</td>\n",
              "      <td>-1.218222</td>\n",
              "      <td>0.708405</td>\n",
              "      <td>-1.298953</td>\n",
              "      <td>0.546601</td>\n",
              "      <td>1.708785</td>\n",
              "      <td>0</td>\n",
              "    </tr>\n",
              "  </tbody>\n",
              "</table>\n",
              "<p>5 rows × 141 columns</p>\n",
              "</div>\n",
              "      <button class=\"colab-df-convert\" onclick=\"convertToInteractive('df-8237ce5f-a62f-4233-948f-7643c61d3348')\"\n",
              "              title=\"Convert this dataframe to an interactive table.\"\n",
              "              style=\"display:none;\">\n",
              "        \n",
              "  <svg xmlns=\"http://www.w3.org/2000/svg\" height=\"24px\"viewBox=\"0 0 24 24\"\n",
              "       width=\"24px\">\n",
              "    <path d=\"M0 0h24v24H0V0z\" fill=\"none\"/>\n",
              "    <path d=\"M18.56 5.44l.94 2.06.94-2.06 2.06-.94-2.06-.94-.94-2.06-.94 2.06-2.06.94zm-11 1L8.5 8.5l.94-2.06 2.06-.94-2.06-.94L8.5 2.5l-.94 2.06-2.06.94zm10 10l.94 2.06.94-2.06 2.06-.94-2.06-.94-.94-2.06-.94 2.06-2.06.94z\"/><path d=\"M17.41 7.96l-1.37-1.37c-.4-.4-.92-.59-1.43-.59-.52 0-1.04.2-1.43.59L10.3 9.45l-7.72 7.72c-.78.78-.78 2.05 0 2.83L4 21.41c.39.39.9.59 1.41.59.51 0 1.02-.2 1.41-.59l7.78-7.78 2.81-2.81c.8-.78.8-2.07 0-2.86zM5.41 20L4 18.59l7.72-7.72 1.47 1.35L5.41 20z\"/>\n",
              "  </svg>\n",
              "      </button>\n",
              "      \n",
              "  <style>\n",
              "    .colab-df-container {\n",
              "      display:flex;\n",
              "      flex-wrap:wrap;\n",
              "      gap: 12px;\n",
              "    }\n",
              "\n",
              "    .colab-df-convert {\n",
              "      background-color: #E8F0FE;\n",
              "      border: none;\n",
              "      border-radius: 50%;\n",
              "      cursor: pointer;\n",
              "      display: none;\n",
              "      fill: #1967D2;\n",
              "      height: 32px;\n",
              "      padding: 0 0 0 0;\n",
              "      width: 32px;\n",
              "    }\n",
              "\n",
              "    .colab-df-convert:hover {\n",
              "      background-color: #E2EBFA;\n",
              "      box-shadow: 0px 1px 2px rgba(60, 64, 67, 0.3), 0px 1px 3px 1px rgba(60, 64, 67, 0.15);\n",
              "      fill: #174EA6;\n",
              "    }\n",
              "\n",
              "    [theme=dark] .colab-df-convert {\n",
              "      background-color: #3B4455;\n",
              "      fill: #D2E3FC;\n",
              "    }\n",
              "\n",
              "    [theme=dark] .colab-df-convert:hover {\n",
              "      background-color: #434B5C;\n",
              "      box-shadow: 0px 1px 3px 1px rgba(0, 0, 0, 0.15);\n",
              "      filter: drop-shadow(0px 1px 2px rgba(0, 0, 0, 0.3));\n",
              "      fill: #FFFFFF;\n",
              "    }\n",
              "  </style>\n",
              "\n",
              "      <script>\n",
              "        const buttonEl =\n",
              "          document.querySelector('#df-8237ce5f-a62f-4233-948f-7643c61d3348 button.colab-df-convert');\n",
              "        buttonEl.style.display =\n",
              "          google.colab.kernel.accessAllowed ? 'block' : 'none';\n",
              "\n",
              "        async function convertToInteractive(key) {\n",
              "          const element = document.querySelector('#df-8237ce5f-a62f-4233-948f-7643c61d3348');\n",
              "          const dataTable =\n",
              "            await google.colab.kernel.invokeFunction('convertToInteractive',\n",
              "                                                     [key], {});\n",
              "          if (!dataTable) return;\n",
              "\n",
              "          const docLinkHtml = 'Like what you see? Visit the ' +\n",
              "            '<a target=\"_blank\" href=https://colab.research.google.com/notebooks/data_table.ipynb>data table notebook</a>'\n",
              "            + ' to learn more about interactive tables.';\n",
              "          element.innerHTML = '';\n",
              "          dataTable['output_type'] = 'display_data';\n",
              "          await google.colab.output.renderOutput(dataTable, element);\n",
              "          const docLink = document.createElement('div');\n",
              "          docLink.innerHTML = docLinkHtml;\n",
              "          element.appendChild(docLink);\n",
              "        }\n",
              "      </script>\n",
              "    </div>\n",
              "  </div>\n",
              "  "
            ]
          },
          "metadata": {},
          "execution_count": 42
        }
      ]
    },
    {
      "cell_type": "markdown",
      "source": [
        "**ii) Now fit another SVM with the new training set and report the accuracies(train, test).**"
      ],
      "metadata": {
        "id": "N-j-oKAii-Jv"
      }
    },
    {
      "cell_type": "code",
      "source": [
        "new_xtrain, new_xtest, new_ytrain, new_ytest = train_test_split(training_set, support_vec_label, test_size=0.3, random_state=0)"
      ],
      "metadata": {
        "id": "ikfUZhZti4Nc"
      },
      "execution_count": null,
      "outputs": []
    },
    {
      "cell_type": "code",
      "source": [
        "# fitting another SVM\n",
        "new_model = svm.SVC(kernel='rbf', C=optimal_params['C'], gamma=optimal_params['gamma'])\n",
        "new_model.fit(new_xtrain, new_ytrain)"
      ],
      "metadata": {
        "colab": {
          "base_uri": "https://localhost:8080/"
        },
        "id": "v9NN9f7qjiZM",
        "outputId": "8791af9b-ab6c-4b4c-a4f4-fbcb48db34de"
      },
      "execution_count": null,
      "outputs": [
        {
          "output_type": "execute_result",
          "data": {
            "text/plain": [
              "SVC(C=10, gamma=0.01)"
            ]
          },
          "metadata": {},
          "execution_count": 44
        }
      ]
    },
    {
      "cell_type": "code",
      "source": [
        "new_train_predictions = new_model.predict(new_xtrain)\n",
        "new_test_predictions = new_model.predict(new_xtest)"
      ],
      "metadata": {
        "id": "p4rvoffBj0Ru"
      },
      "execution_count": null,
      "outputs": []
    },
    {
      "cell_type": "code",
      "source": [
        "new_train_accuracy = accuracy_score(new_ytrain, new_train_predictions)\n",
        "new_test_accuracy = accuracy_score(new_ytest, new_test_predictions)\n",
        "print(f\"Train Accuracy: {new_train_accuracy*100} %\")\n",
        "print(f\"Test Accuracy: {new_test_accuracy*100} %\")"
      ],
      "metadata": {
        "colab": {
          "base_uri": "https://localhost:8080/"
        },
        "id": "bC6SnbsdkD_P",
        "outputId": "febd86c8-d19b-4aea-a3fb-a3d2846e1091"
      },
      "execution_count": null,
      "outputs": [
        {
          "output_type": "stream",
          "name": "stdout",
          "text": [
            "Train Accuracy: 100.0 %\n",
            "Test Accuracy: 81.18496496071353 %\n"
          ]
        }
      ]
    },
    {
      "cell_type": "markdown",
      "source": [
        "Here, we can see that our model's training accuracy is 100%, which could mean that my model is **overfitting**."
      ],
      "metadata": {
        "id": "kIMD0hcQ2_Ef"
      }
    },
    {
      "cell_type": "markdown",
      "source": [
        "**iii) Compare the accuracies with the previous models. State your observations.**"
      ],
      "metadata": {
        "id": "jjyKZ_b1lEzn"
      }
    },
    {
      "cell_type": "code",
      "source": [
        "# accuracy Table of each model fitted till now\n",
        "accuracy_score_dict = {\n",
        "    \"SVM (Linear Kernel)\": [accuracy_score(y_test, y_predicted)*100],\n",
        "    \"SVM (RBF Kernel)\": [accuracy_score(y_test, rbf_prediction)*100],\n",
        "    \"SVM (Poly Kernel)\": [accuracy_score(y_test, poly_prediction)*100],\n",
        "    \"Optimized SVM\": [accuracy_sc],\n",
        "    \"SV Training Set\": [new_test_accuracy*100]\n",
        "}\n",
        "\n",
        "accuracy_table = pd.DataFrame(accuracy_score_dict)\n",
        "accuracy_table"
      ],
      "metadata": {
        "colab": {
          "base_uri": "https://localhost:8080/",
          "height": 81
        },
        "id": "7tBYPHJrkR99",
        "outputId": "aac4f41c-437d-4170-884f-5f6479e27340"
      },
      "execution_count": null,
      "outputs": [
        {
          "output_type": "execute_result",
          "data": {
            "text/plain": [
              "   SVM (Linear Kernel)  SVM (RBF Kernel)  SVM (Poly Kernel)  Optimized SVM  \\\n",
              "0            92.011111         96.127778          95.533333       91.68254   \n",
              "\n",
              "   SV Training Set  \n",
              "0        81.184965  "
            ],
            "text/html": [
              "\n",
              "  <div id=\"df-6a0d136e-9f6a-4ad3-b40c-c0a167bc0aa0\">\n",
              "    <div class=\"colab-df-container\">\n",
              "      <div>\n",
              "<style scoped>\n",
              "    .dataframe tbody tr th:only-of-type {\n",
              "        vertical-align: middle;\n",
              "    }\n",
              "\n",
              "    .dataframe tbody tr th {\n",
              "        vertical-align: top;\n",
              "    }\n",
              "\n",
              "    .dataframe thead th {\n",
              "        text-align: right;\n",
              "    }\n",
              "</style>\n",
              "<table border=\"1\" class=\"dataframe\">\n",
              "  <thead>\n",
              "    <tr style=\"text-align: right;\">\n",
              "      <th></th>\n",
              "      <th>SVM (Linear Kernel)</th>\n",
              "      <th>SVM (RBF Kernel)</th>\n",
              "      <th>SVM (Poly Kernel)</th>\n",
              "      <th>Optimized SVM</th>\n",
              "      <th>SV Training Set</th>\n",
              "    </tr>\n",
              "  </thead>\n",
              "  <tbody>\n",
              "    <tr>\n",
              "      <th>0</th>\n",
              "      <td>92.011111</td>\n",
              "      <td>96.127778</td>\n",
              "      <td>95.533333</td>\n",
              "      <td>91.68254</td>\n",
              "      <td>81.184965</td>\n",
              "    </tr>\n",
              "  </tbody>\n",
              "</table>\n",
              "</div>\n",
              "      <button class=\"colab-df-convert\" onclick=\"convertToInteractive('df-6a0d136e-9f6a-4ad3-b40c-c0a167bc0aa0')\"\n",
              "              title=\"Convert this dataframe to an interactive table.\"\n",
              "              style=\"display:none;\">\n",
              "        \n",
              "  <svg xmlns=\"http://www.w3.org/2000/svg\" height=\"24px\"viewBox=\"0 0 24 24\"\n",
              "       width=\"24px\">\n",
              "    <path d=\"M0 0h24v24H0V0z\" fill=\"none\"/>\n",
              "    <path d=\"M18.56 5.44l.94 2.06.94-2.06 2.06-.94-2.06-.94-.94-2.06-.94 2.06-2.06.94zm-11 1L8.5 8.5l.94-2.06 2.06-.94-2.06-.94L8.5 2.5l-.94 2.06-2.06.94zm10 10l.94 2.06.94-2.06 2.06-.94-2.06-.94-.94-2.06-.94 2.06-2.06.94z\"/><path d=\"M17.41 7.96l-1.37-1.37c-.4-.4-.92-.59-1.43-.59-.52 0-1.04.2-1.43.59L10.3 9.45l-7.72 7.72c-.78.78-.78 2.05 0 2.83L4 21.41c.39.39.9.59 1.41.59.51 0 1.02-.2 1.41-.59l7.78-7.78 2.81-2.81c.8-.78.8-2.07 0-2.86zM5.41 20L4 18.59l7.72-7.72 1.47 1.35L5.41 20z\"/>\n",
              "  </svg>\n",
              "      </button>\n",
              "      \n",
              "  <style>\n",
              "    .colab-df-container {\n",
              "      display:flex;\n",
              "      flex-wrap:wrap;\n",
              "      gap: 12px;\n",
              "    }\n",
              "\n",
              "    .colab-df-convert {\n",
              "      background-color: #E8F0FE;\n",
              "      border: none;\n",
              "      border-radius: 50%;\n",
              "      cursor: pointer;\n",
              "      display: none;\n",
              "      fill: #1967D2;\n",
              "      height: 32px;\n",
              "      padding: 0 0 0 0;\n",
              "      width: 32px;\n",
              "    }\n",
              "\n",
              "    .colab-df-convert:hover {\n",
              "      background-color: #E2EBFA;\n",
              "      box-shadow: 0px 1px 2px rgba(60, 64, 67, 0.3), 0px 1px 3px 1px rgba(60, 64, 67, 0.15);\n",
              "      fill: #174EA6;\n",
              "    }\n",
              "\n",
              "    [theme=dark] .colab-df-convert {\n",
              "      background-color: #3B4455;\n",
              "      fill: #D2E3FC;\n",
              "    }\n",
              "\n",
              "    [theme=dark] .colab-df-convert:hover {\n",
              "      background-color: #434B5C;\n",
              "      box-shadow: 0px 1px 3px 1px rgba(0, 0, 0, 0.15);\n",
              "      filter: drop-shadow(0px 1px 2px rgba(0, 0, 0, 0.3));\n",
              "      fill: #FFFFFF;\n",
              "    }\n",
              "  </style>\n",
              "\n",
              "      <script>\n",
              "        const buttonEl =\n",
              "          document.querySelector('#df-6a0d136e-9f6a-4ad3-b40c-c0a167bc0aa0 button.colab-df-convert');\n",
              "        buttonEl.style.display =\n",
              "          google.colab.kernel.accessAllowed ? 'block' : 'none';\n",
              "\n",
              "        async function convertToInteractive(key) {\n",
              "          const element = document.querySelector('#df-6a0d136e-9f6a-4ad3-b40c-c0a167bc0aa0');\n",
              "          const dataTable =\n",
              "            await google.colab.kernel.invokeFunction('convertToInteractive',\n",
              "                                                     [key], {});\n",
              "          if (!dataTable) return;\n",
              "\n",
              "          const docLinkHtml = 'Like what you see? Visit the ' +\n",
              "            '<a target=\"_blank\" href=https://colab.research.google.com/notebooks/data_table.ipynb>data table notebook</a>'\n",
              "            + ' to learn more about interactive tables.';\n",
              "          element.innerHTML = '';\n",
              "          dataTable['output_type'] = 'display_data';\n",
              "          await google.colab.output.renderOutput(dataTable, element);\n",
              "          const docLink = document.createElement('div');\n",
              "          docLink.innerHTML = docLinkHtml;\n",
              "          element.appendChild(docLink);\n",
              "        }\n",
              "      </script>\n",
              "    </div>\n",
              "  </div>\n",
              "  "
            ]
          },
          "metadata": {},
          "execution_count": 47
        }
      ]
    }
  ],
  "metadata": {
    "colab": {
      "collapsed_sections": [],
      "provenance": []
    },
    "kernelspec": {
      "display_name": "Python 3",
      "name": "python3"
    },
    "language_info": {
      "name": "python"
    }
  },
  "nbformat": 4,
  "nbformat_minor": 0
}